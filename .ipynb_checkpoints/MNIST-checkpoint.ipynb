{
 "cells": [
  {
   "cell_type": "markdown",
   "id": "24c42ee9",
   "metadata": {},
   "source": [
    "# Import"
   ]
  },
  {
   "cell_type": "markdown",
   "id": "471688b1",
   "metadata": {},
   "source": [
    "## Library"
   ]
  },
  {
   "cell_type": "code",
   "execution_count": 3,
   "id": "7ccd1d7d",
   "metadata": {},
   "outputs": [
    {
     "name": "stdout",
     "output_type": "stream",
     "text": [
      "TensorFlow version: 2.12.0\n"
     ]
    }
   ],
   "source": [
    "import tensorflow as tf\n",
    "import numpy as np\n",
    "print(\"TensorFlow version:\", tf.__version__)\n",
    "from sklearn.model_selection import train_test_split\n",
    "\n",
    "import numpy as np\n",
    "import pandas as pd\n",
    "import matplotlib.pyplot as plt\n",
    "import seaborn as sns\n",
    "# Logistic Regression Clasificator\n",
    "from sklearn.linear_model import LogisticRegression\n",
    "# import warnings\n",
    "# warnings.filterwarnings('ignore')\n",
    "\n",
    "from PIL import Image\n",
    "import numpy as np\n",
    "\n",
    "from keras.layers import Dropout\n",
    "from tensorflow.keras import regularizers\n"
   ]
  },
  {
   "cell_type": "markdown",
   "id": "10eb2e04",
   "metadata": {},
   "source": [
    "## Dataset"
   ]
  },
  {
   "cell_type": "code",
   "execution_count": 8,
   "id": "02c1aae9",
   "metadata": {},
   "outputs": [],
   "source": [
    "# Load and prepare the MNIST dataset\n",
    "mnist = tf.keras.datasets.mnist"
   ]
  },
  {
   "cell_type": "markdown",
   "id": "79502ed0",
   "metadata": {},
   "source": [
    "### Split"
   ]
  },
  {
   "cell_type": "code",
   "execution_count": 9,
   "id": "efdc2678",
   "metadata": {},
   "outputs": [],
   "source": [
    "# Split dataset in data of Train and Data od Test\n",
    "(x_train, y_train), (x_test, y_test) = mnist.load_data()"
   ]
  },
  {
   "cell_type": "code",
   "execution_count": 10,
   "id": "5b235660",
   "metadata": {},
   "outputs": [],
   "source": [
    "x_train, x_val, y_train, y_val  = train_test_split( x_train, y_train, test_size=0.166, random_state=4)"
   ]
  },
  {
   "cell_type": "markdown",
   "id": "24928c66",
   "metadata": {},
   "source": [
    "### Information of Data"
   ]
  },
  {
   "cell_type": "markdown",
   "id": "caa076f2",
   "metadata": {},
   "source": [
    "The pixel values of the images range from __0__ through __255__. Scale these values to a range of __0__ to **1** by dividing the values by __255.0__. This also converts the sample data from integers to floating-point numbers:"
   ]
  },
  {
   "cell_type": "code",
   "execution_count": 11,
   "id": "dc86b088",
   "metadata": {},
   "outputs": [],
   "source": [
    "x_train,x_val, x_test = x_train / 255.0, x_val/ 255.0, x_test / 255.0"
   ]
  },
  {
   "cell_type": "code",
   "execution_count": 12,
   "id": "7d44dc28",
   "metadata": {},
   "outputs": [
    {
     "name": "stdout",
     "output_type": "stream",
     "text": [
      "x_train.shape : (50040, 28, 28)\n",
      "y_train.shape : (50040,)\n",
      "\n",
      "x_val.shape : (9960, 28, 28)\n",
      "y_val.shape : (9960,)\n",
      "\n",
      "x_test.shape : (10000, 28, 28)\n",
      "y_test.shape : (10000,)\n",
      "\n"
     ]
    }
   ],
   "source": [
    "print(f'x_train.shape : {x_train.shape}')\n",
    "print(f'y_train.shape : {y_train.shape}\\n')\n",
    "\n",
    "print(f'x_val.shape : {x_val.shape}')\n",
    "print(f'y_val.shape : {y_val.shape}\\n')\n",
    "\n",
    "print(f'x_test.shape : {x_test.shape}')\n",
    "print(f'y_test.shape : {y_test.shape}\\n')"
   ]
  },
  {
   "cell_type": "code",
   "execution_count": 26,
   "id": "fcd28fdc",
   "metadata": {},
   "outputs": [
    {
     "data": {
      "text/plain": [
       "(50040, 28, 28)"
      ]
     },
     "execution_count": 26,
     "metadata": {},
     "output_type": "execute_result"
    }
   ],
   "source": [
    "x_train[:].shape"
   ]
  },
  {
   "cell_type": "code",
   "execution_count": 14,
   "id": "96ec5052",
   "metadata": {},
   "outputs": [
    {
     "data": {
      "text/plain": [
       "numpy.ndarray"
      ]
     },
     "execution_count": 14,
     "metadata": {},
     "output_type": "execute_result"
    }
   ],
   "source": [
    "type(x_train)"
   ]
  },
  {
   "cell_type": "markdown",
   "id": "11c6dada",
   "metadata": {},
   "source": [
    "![](MNIST.png)"
   ]
  },
  {
   "cell_type": "markdown",
   "id": "cf3787e1",
   "metadata": {},
   "source": [
    "# Build a machine learning model"
   ]
  },
  {
   "cell_type": "markdown",
   "id": "aa041322",
   "metadata": {},
   "source": [
    "## Build a tf.keras.Sequential model:"
   ]
  },
  {
   "cell_type": "markdown",
   "id": "0d0c8f85",
   "metadata": {},
   "source": [
    "![](1_N8UXaiUKWurFLdmEhEHiWg.jpg)"
   ]
  },
  {
   "cell_type": "code",
   "execution_count": 18,
   "id": "df2d8af6",
   "metadata": {},
   "outputs": [
    {
     "name": "stdout",
     "output_type": "stream",
     "text": [
      "Model: \"sequential_4\"\n",
      "_________________________________________________________________\n",
      " Layer (type)                Output Shape              Param #   \n",
      "=================================================================\n",
      " conv2d_13 (Conv2D)          (None, 26, 26, 75)        750       \n",
      "                                                                 \n",
      " max_pooling2d_10 (MaxPoolin  (None, 13, 13, 75)       0         \n",
      " g2D)                                                            \n",
      "                                                                 \n",
      " flatten_7 (Flatten)         (None, 12675)             0         \n",
      "                                                                 \n",
      " dense_14 (Dense)            (None, 784)               9937984   \n",
      "                                                                 \n",
      " dropout (Dropout)           (None, 784)               0         \n",
      "                                                                 \n",
      " dense_15 (Dense)            (None, 416)               326560    \n",
      "                                                                 \n",
      " dropout_1 (Dropout)         (None, 416)               0         \n",
      "                                                                 \n",
      " dense_16 (Dense)            (None, 512)               213504    \n",
      "                                                                 \n",
      " dropout_2 (Dropout)         (None, 512)               0         \n",
      "                                                                 \n",
      " dense_17 (Dense)            (None, 10)                5130      \n",
      "                                                                 \n",
      "=================================================================\n",
      "Total params: 10,483,928\n",
      "Trainable params: 10,483,928\n",
      "Non-trainable params: 0\n",
      "_________________________________________________________________\n"
     ]
    }
   ],
   "source": [
    "# model = tf.keras.models.Sequential([\n",
    "\n",
    "#     tf.keras.layers.Conv2D(75, (3,3), activation = \"relu\", input_shape= (28, 28, 1)),\n",
    "#     tf.keras.layers.MaxPool2D((2,2)),\n",
    "\n",
    "#     # Input Layer\n",
    "#     tf.keras.layers.Flatten(input_shape=(28, 28)),\n",
    "#     # Hidden Layer\n",
    "\n",
    "#     tf.keras.layers.Dense(784, activation='relu', kernel_regularizer=regularizers.l2(1e-4)),\n",
    "#     #   tf.keras.layers.BatchNormalization(),#regularización y reducir el sobreajuste del modelo\n",
    "#     tf.keras.layers.Dropout(0.3),#regularización y reducir el sobreajuste del modelo\n",
    "\n",
    "#     tf.keras.layers.Dense(416, activation='relu', kernel_regularizer=regularizers.l2(1e-4)),\n",
    "#     #   tf.keras.layers.BatchNormalization(),#regularización y reducir el sobreajuste del modelo\n",
    "#     tf.keras.layers.Dropout(0.3),#regularización y reducir el sobreajuste del modelo\n",
    "\n",
    "#     tf.keras.layers.Dense(512, activation='relu', kernel_regularizer=regularizers.l2(1e-4)),\n",
    "#     #   tf.keras.layers.BatchNormalization(),#regularización y reducir el sobreajuste del modelo\n",
    "#     tf.keras.layers.Dropout(0.3),#regularización y reducir el sobreajuste del modelo\n",
    "\n",
    "#     # Outoput Layer\n",
    "#     tf.keras.layers.Dense(10,activation='softmax'), #Esta capa tiene 10 neuronas, clasificación de 10 categorías\n",
    "#     ])\n",
    "\n",
    "# model.summary()"
   ]
  },
  {
   "cell_type": "code",
   "execution_count": 22,
   "id": "8f6f0c21",
   "metadata": {},
   "outputs": [
    {
     "name": "stdout",
     "output_type": "stream",
     "text": [
      "Model: \"sequential_7\"\n",
      "_________________________________________________________________\n",
      " Layer (type)                Output Shape              Param #   \n",
      "=================================================================\n",
      " conv2d_20 (Conv2D)          (None, 26, 26, 32)        320       \n",
      "                                                                 \n",
      " conv2d_21 (Conv2D)          (None, 24, 24, 64)        18496     \n",
      "                                                                 \n",
      " max_pooling2d_15 (MaxPoolin  (None, 12, 12, 64)       0         \n",
      " g2D)                                                            \n",
      "                                                                 \n",
      " conv2d_22 (Conv2D)          (None, 10, 10, 128)       73856     \n",
      "                                                                 \n",
      " max_pooling2d_16 (MaxPoolin  (None, 5, 5, 128)        0         \n",
      " g2D)                                                            \n",
      "                                                                 \n",
      " flatten_10 (Flatten)        (None, 3200)              0         \n",
      "                                                                 \n",
      " dense_24 (Dense)            (None, 256)               819456    \n",
      "                                                                 \n",
      " dense_25 (Dense)            (None, 128)               32896     \n",
      "                                                                 \n",
      " dense_26 (Dense)            (None, 10)                1290      \n",
      "                                                                 \n",
      "=================================================================\n",
      "Total params: 946,314\n",
      "Trainable params: 946,314\n",
      "Non-trainable params: 0\n",
      "_________________________________________________________________\n"
     ]
    }
   ],
   "source": [
    "# Definir la arquitectura de la CNN\n",
    "# def create_cnn_model():\n",
    "#     model = tf.keras.Sequential([\n",
    "#         # Capa de entrada\n",
    "#         tf.keras.layers.Conv2D(32, (3, 3), activation='relu', input_shape=(28,28,1)),\n",
    "        \n",
    "#         # Capa de convolución 1\n",
    "#         tf.keras.layers.Conv2D(64, (3, 3), activation='relu'),\n",
    "        \n",
    "#         # Capa de reducción de muestreo 1\n",
    "#         tf.keras.layers.MaxPooling2D((2, 2)),\n",
    "        \n",
    "#         # Capa de convolución 2\n",
    "#         tf.keras.layers.Conv2D(128, (3, 3), activation='relu'),\n",
    "        \n",
    "#         # Capa de reducción de muestreo 2\n",
    "#         tf.keras.layers.MaxPooling2D((2, 2)),\n",
    "        \n",
    "#         # Capa completamente conectada 1\n",
    "#         tf.keras.layers.Flatten(),\n",
    "#         tf.keras.layers.Dense(256, activation='relu'),\n",
    "        \n",
    "#         # Capa completamente conectada 2\n",
    "#         tf.keras.layers.Dense(128, activation='relu'),\n",
    "        \n",
    "#         # Capa de salida\n",
    "#         tf.keras.layers.Dense(10, activation='softmax')  # num_classes representa el número de clases para la tarea de clasificación\n",
    "#     ])\n",
    "    \n",
    "#     return model\n",
    "\n",
    "# # Crear una instancia del modelo\n",
    "# model = create_cnn_model()\n",
    "\n",
    "# # Compilar el modelo\n",
    "# model.compile(optimizer='adam', loss='categorical_crossentropy', metrics=['accuracy'])\n",
    "\n",
    "# # Imprimir un resumen de la arquitectura\n",
    "# model.summary()\n"
   ]
  },
  {
   "cell_type": "code",
   "execution_count": null,
   "id": "fa9e2a23",
   "metadata": {},
   "outputs": [],
   "source": [
    "# # Definir la arquitectura de la CNN\n",
    "# model = tf.keras.Sequential([\n",
    "#     tf.keras.layers.Conv2D(32, (3, 3), activation='relu', input_shape=(28, 28, 1)),\n",
    "#     tf.keras.layers.MaxPooling2D((2, 2)),\n",
    "#     tf.keras.layers.Conv2D(64, (3, 3), activation='relu'),\n",
    "#     tf.keras.layers.MaxPooling2D((2, 2)),\n",
    "#     tf.keras.layers.Conv2D(64, (3, 3), activation='relu'),\n",
    "#     tf.keras.layers.Flatten(),\n",
    "#     tf.keras.layers.Dense(64, activation='relu'),\n",
    "#     tf.keras.layers.Dense(10, activation='softmax')  # 10 clases para MNIST (números del 0 al 9)\n",
    "# ])\n",
    "\n",
    "# # Compilar el modelo\n",
    "# model.compile(optimizer='adam', loss='categorical_crossentropy', metrics=['accuracy'])\n",
    "\n",
    "# # Reshape de las imágenes para que coincida con el formato de entrada de la red (28x28x1)\n",
    "# train_images = train_images.reshape((-1, 28, 28, 1))\n",
    "# test_images = test_images.reshape((-1, 28, 28, 1))\n",
    "\n",
    "# # Entrenar el modelo\n",
    "# model.fit(train_images, train_labels, epochs=10, batch_size=128, validation_data=(test_images, test_labels))\n",
    "\n",
    "# # Evaluar el modelo en el conjunto de prueba\n",
    "# test_loss, test_accuracy = model.evaluate(test_images, test_labels)\n",
    "# print(f\"Pérdida en el conjunto de prueba: {test_loss}\")\n",
    "# print(f\"Exactitud en el conjunto de prueba: {test_accuracy}\")\n"
   ]
  },
  {
   "cell_type": "markdown",
   "id": "a359bf74",
   "metadata": {},
   "source": [
    "### Detalles "
   ]
  },
  {
   "cell_type": "markdown",
   "id": "6e679d78",
   "metadata": {},
   "source": [
    "- __tf.keras.layers.Flatten__ (La capa de aplanamiento ) es una capa de procesamiento que convierte una matriz de __entrada multidimensional__ en un vector __unidimensional__. Esta capa se utiliza comúnmente como la primera capa en una red neuronal para transformar los datos de entrada. La capa de aplanamiento toma una matriz de entrada de __28x28__ (que representa una imagen de __28x28__ píxeles) y la convierte en un vector de __784__ elementos. Esto permite que la red neuronal procese la imagen como una __secuencia unidimensional__ de valores de píxeles en lugar de como una matriz bidimensional.<br><br>\n",
    "\n",
    "- __tf.keras.layers.Dense__ es una capa de redes neuronales __densamente conectada__ en TensorFlow, que implementa la operación de multiplicación de matriz y adición de sesgo en la entrada, seguida de una función de activación. Cada unidad o nodo en la capa está conectado a cada unidad en la capa anterior, y las entradas se multiplican por un conjunto de pesos y se suman a un sesgo antes de aplicar la función de activación. En otras palabras, la capa densa es una capa de neuronas completamente conectada, donde cada neurona en la capa anterior está conectada a todas las neuronas en la capa actual. La capa __Dense__ en la red neuronal se llama así porque __cada neurona de la capa está conectada a todas las neuronas de la capa anterior y de la capa siguiente__. Esto se conoce como __\"conexión densa\"__ o __\"totalmente conectada\"__. Los valores de entrada se multiplican por los pesos, se suman los resultados y se aplica una función de activación para producir los valores de salida de la capa.En resumen, la capa Dense es una capa de red neuronal en la que cada neurona está conectada a todas las neuronas de la capa anterior y de la capa siguiente, lo que permite aprender patrones complejos en los datos<br><br>\n",
    "\n",
    "- __tf.keras.layers.Dropout__ es una capa en TensorFlow que se utiliza para regularizar modelos de aprendizaje profundo y evitar el sobreajuste. Durante el entrenamiento, Dropout apaga de forma aleatoria un número predefinido de unidades de la capa anterior. Esto evita que las unidades se \"especialicen\" demasiado en un subconjunto particular de los datos de entrenamiento, lo que puede resultar en un modelo que no generaliza bien a datos nuevos. El porcentaje de unidades que se apaga se puede ajustar mediante un parámetro llamado \"rate\".<br>\n"
   ]
  },
  {
   "cell_type": "markdown",
   "id": "da495618",
   "metadata": {},
   "source": [
    "Sequential is useful for stacking layers where each layer has one input tensor and one output tensor. Layers are functions with a known mathematical structure that can be reused and have trainable variables. Most TensorFlow models are composed of layers. This model uses the Flatten, Dense, and Dropout layers."
   ]
  },
  {
   "cell_type": "markdown",
   "id": "59607f14",
   "metadata": {},
   "source": [
    "### predictions example"
   ]
  },
  {
   "cell_type": "markdown",
   "id": "0c64f36f",
   "metadata": {},
   "source": [
    "For each example, the model returns a vector of __logits or log-odds scores__, one for each class"
   ]
  },
  {
   "cell_type": "code",
   "execution_count": 13,
   "id": "4893e491",
   "metadata": {},
   "outputs": [],
   "source": [
    "# predictions = model(x_train[:1]).numpy()\n",
    "\n",
    "# for i, value in enumerate(predictions[0]):\n",
    "#     print(f'{i} : {value}')"
   ]
  },
  {
   "cell_type": "markdown",
   "id": "8ad0787d",
   "metadata": {},
   "source": [
    "### converts these logits to probabilities"
   ]
  },
  {
   "cell_type": "markdown",
   "id": "b8091bf4",
   "metadata": {},
   "source": [
    "The __tf.nn.softmax__ function converts these logits to probabilities for each class:"
   ]
  },
  {
   "cell_type": "code",
   "execution_count": 14,
   "id": "c19e7cc7",
   "metadata": {},
   "outputs": [],
   "source": [
    "# tf.nn.softmax(predictions).numpy()"
   ]
  },
  {
   "cell_type": "markdown",
   "id": "a693218b",
   "metadata": {},
   "source": [
    "## Define a loss function (Hyperparameter)"
   ]
  },
  {
   "cell_type": "markdown",
   "id": "ab6c7c55",
   "metadata": {},
   "source": [
    "Define a loss function for training using __losses.SparseCategoricalCrossentropy__:"
   ]
  },
  {
   "cell_type": "code",
   "execution_count": 15,
   "id": "610bd8e7",
   "metadata": {},
   "outputs": [],
   "source": [
    "loss_fn = tf.keras.losses.SparseCategoricalCrossentropy(from_logits=True)"
   ]
  },
  {
   "cell_type": "markdown",
   "id": "9632ee7c",
   "metadata": {},
   "source": [
    "The __loss function__ takes a __vector of ground truth values__ and a __vector of logits__ and __returns a scalar loss for each example__. This __loss__ is equal to the __negative log probability of the true class__: The __loss__ is __0__ if the model is sure of the __correct__ class.\n",
    "\n",
    "This untrained model gives probabilities close to random (1/10 for each class), so the initial loss should be close to -tf.math.log(1/10) ~= 2.3."
   ]
  },
  {
   "cell_type": "markdown",
   "id": "3fdc54a8",
   "metadata": {},
   "source": [
    "## Set the optimizer (Hyperparameter)"
   ]
  },
  {
   "cell_type": "code",
   "execution_count": 16,
   "id": "127a683d",
   "metadata": {},
   "outputs": [],
   "source": [
    "model.compile(optimizer = 'adam',\n",
    "              loss = loss_fn,\n",
    "              metrics = ['accuracy'])"
   ]
  },
  {
   "cell_type": "markdown",
   "id": "e76eda96",
   "metadata": {},
   "source": [
    "### Detail"
   ]
  },
  {
   "cell_type": "markdown",
   "id": "9735ef51",
   "metadata": {},
   "source": [
    "Adam (Adaptive Moment Estimation) es un __algoritmo de optimización__ de __gradiente descendente estocástico__ utilizado comúnmente para entrenar redes neuronales en el aprendizaje profundo.\n",
    "\n",
    "Adam es un __método de optimización adaptativo__ que combina el enfoque de __Momentum__ y __RMSprop__. Al igual que RMSprop, Adam mantiene un promedio móvil de los cuadrados de los gradientes y, al igual que el enfoque de Momentum, mantiene un __promedio móvil de los gradientes__.\n",
    "\n",
    "El algoritmo adapta la tasa de aprendizaje de cada parámetro en función de la magnitud del gradiente y la magnitud de la media móvil de segundo orden de los gradientes. Adam también incluye un término de corrección de sesgo para compensar la inicialización sesgada de los promedios móviles en las primeras iteraciones.\n",
    "\n",
    "En resumen, Adam es un algoritmo de optimización de gradiente descendente estocástico que adapta la tasa de aprendizaje para cada parámetro en función de la magnitud del gradiente y la media móvil de segundo orden de los gradientes. Es muy popular en el aprendizaje profundo debido a su eficacia y eficiencia en la práctica."
   ]
  },
  {
   "cell_type": "markdown",
   "id": "0557d8ca",
   "metadata": {},
   "source": [
    "durante el el entrenamiento el leaning rate en adam varia?\n",
    "\n",
    "\n",
    "Sí, durante el entrenamiento, el optimizador __Adam__ puede __ajustar automáticamente la tasa de aprendizaje__. Adam utiliza un algoritmo adaptativo para calcular y actualizar la tasa de aprendizaje de forma dinámica en función de las estadísticas de los gradientes calculados durante el entrenamiento.\n",
    "\n",
    "__El algoritmo de Adam incluye dos componentes principales__: el __promedio móvil de primer orden (momentum)__ y __el promedio móvil de segundo orden (adaptive learning rate)__. Estos componentes permiten que Adam ajuste la tasa de aprendizaje para cada parámetro del modelo de forma individual, basándose en la magnitud de los gradientes y las características del historial de actualizaciones anteriores.\n",
    "\n",
    "A medida que el modelo se entrena y se actualizan los pesos, Adam adapta la tasa de aprendizaje de forma automática según la información acumulada de los gradientes previos. Esto puede ayudar a mejorar la eficiencia del entrenamiento y la capacidad del modelo para converger hacia una solución óptima.\n",
    "\n",
    "Es importante destacar que el algoritmo de Adam tiene valores predeterminados para otros hiperparámetros, como el momentum y el decaimiento de los promedios móviles. Estos hiperparámetros también pueden influir en la forma en que Adam ajusta la tasa de aprendizaje durante el entrenamiento.\n",
    "\n",
    "Si deseas tener un control más preciso sobre la tasa de aprendizaje y su variación durante el entrenamiento, puedes utilizar optimizadores personalizados o técnicas de programación de aprendizaje con tasas de aprendizaje variables. Sin embargo, en la mayoría de los casos, Adam es una opción sólida y eficiente que ajusta automáticamente la tasa de aprendizaje de manera efectiva para la mayoría de los problemas de aprendizaje profundo."
   ]
  },
  {
   "cell_type": "markdown",
   "id": "ef6d1fc7",
   "metadata": {},
   "source": [
    "# Train and evaluate your model"
   ]
  },
  {
   "cell_type": "markdown",
   "id": "1f4ba162",
   "metadata": {},
   "source": [
    "## History"
   ]
  },
  {
   "cell_type": "markdown",
   "id": "f45bbc35",
   "metadata": {},
   "source": [
    "Use the __Model.fit__ Method to adjust your model parameters and minimize the loss:"
   ]
  },
  {
   "cell_type": "code",
   "execution_count": 28,
   "id": "58bc63cb",
   "metadata": {},
   "outputs": [
    {
     "name": "stdout",
     "output_type": "stream",
     "text": [
      "Epoch 1/5\n"
     ]
    },
    {
     "ename": "ValueError",
     "evalue": "in user code:\n\n    File \"C:\\Users\\blasf\\AppData\\Roaming\\Python\\Python39\\site-packages\\keras\\engine\\training.py\", line 1284, in train_function  *\n        return step_function(self, iterator)\n    File \"C:\\Users\\blasf\\AppData\\Roaming\\Python\\Python39\\site-packages\\keras\\engine\\training.py\", line 1268, in step_function  **\n        outputs = model.distribute_strategy.run(run_step, args=(data,))\n    File \"C:\\Users\\blasf\\AppData\\Roaming\\Python\\Python39\\site-packages\\keras\\engine\\training.py\", line 1249, in run_step  **\n        outputs = model.train_step(data)\n    File \"C:\\Users\\blasf\\AppData\\Roaming\\Python\\Python39\\site-packages\\keras\\engine\\training.py\", line 1051, in train_step\n        loss = self.compute_loss(x, y, y_pred, sample_weight)\n    File \"C:\\Users\\blasf\\AppData\\Roaming\\Python\\Python39\\site-packages\\keras\\engine\\training.py\", line 1109, in compute_loss\n        return self.compiled_loss(\n    File \"C:\\Users\\blasf\\AppData\\Roaming\\Python\\Python39\\site-packages\\keras\\engine\\compile_utils.py\", line 265, in __call__\n        loss_value = loss_obj(y_t, y_p, sample_weight=sw)\n    File \"C:\\Users\\blasf\\AppData\\Roaming\\Python\\Python39\\site-packages\\keras\\losses.py\", line 142, in __call__\n        losses = call_fn(y_true, y_pred)\n    File \"C:\\Users\\blasf\\AppData\\Roaming\\Python\\Python39\\site-packages\\keras\\losses.py\", line 268, in call  **\n        return ag_fn(y_true, y_pred, **self._fn_kwargs)\n    File \"C:\\Users\\blasf\\AppData\\Roaming\\Python\\Python39\\site-packages\\keras\\losses.py\", line 1984, in categorical_crossentropy\n        return backend.categorical_crossentropy(\n    File \"C:\\Users\\blasf\\AppData\\Roaming\\Python\\Python39\\site-packages\\keras\\backend.py\", line 5559, in categorical_crossentropy\n        target.shape.assert_is_compatible_with(output.shape)\n\n    ValueError: Shapes (None, 1) and (None, 10) are incompatible\n",
     "output_type": "error",
     "traceback": [
      "\u001b[1;31m---------------------------------------------------------------------------\u001b[0m",
      "\u001b[1;31mValueError\u001b[0m                                Traceback (most recent call last)",
      "Input \u001b[1;32mIn [28]\u001b[0m, in \u001b[0;36m<cell line: 3>\u001b[1;34m()\u001b[0m\n\u001b[0;32m      1\u001b[0m n_epoch \u001b[38;5;241m=\u001b[39m \u001b[38;5;241m5\u001b[39m\n\u001b[1;32m----> 3\u001b[0m history \u001b[38;5;241m=\u001b[39m \u001b[43mmodel\u001b[49m\u001b[38;5;241;43m.\u001b[39;49m\u001b[43mfit\u001b[49m\u001b[43m(\u001b[49m\n\u001b[0;32m      4\u001b[0m \u001b[43m    \u001b[49m\u001b[43mx_train\u001b[49m\u001b[43m[\u001b[49m\u001b[43m:\u001b[49m\u001b[43m]\u001b[49m\u001b[43m,\u001b[49m\u001b[43m \u001b[49m\n\u001b[0;32m      5\u001b[0m \u001b[43m    \u001b[49m\u001b[43my_train\u001b[49m\u001b[43m[\u001b[49m\u001b[43m:\u001b[49m\u001b[43m]\u001b[49m\u001b[43m,\u001b[49m\u001b[43m  \u001b[49m\n\u001b[0;32m      6\u001b[0m \u001b[43m    \u001b[49m\u001b[43mepochs\u001b[49m\u001b[38;5;241;43m=\u001b[39;49m\u001b[43mn_epoch\u001b[49m\u001b[43m,\u001b[49m\u001b[43m \u001b[49m\n\u001b[0;32m      7\u001b[0m \u001b[43m    \u001b[49m\u001b[43mverbose\u001b[49m\u001b[38;5;241;43m=\u001b[39;49m\u001b[38;5;241;43m1\u001b[39;49m\u001b[43m,\u001b[49m\u001b[43m \u001b[49m\n\u001b[0;32m      8\u001b[0m \u001b[43m    \u001b[49m\u001b[43mvalidation_data\u001b[49m\u001b[38;5;241;43m=\u001b[39;49m\u001b[43m(\u001b[49m\u001b[43mx_val\u001b[49m\u001b[43m[\u001b[49m\u001b[43m:\u001b[49m\u001b[43m]\u001b[49m\u001b[43m,\u001b[49m\u001b[43m \u001b[49m\u001b[43my_val\u001b[49m\u001b[43m[\u001b[49m\u001b[43m:\u001b[49m\u001b[43m]\u001b[49m\u001b[43m)\u001b[49m\u001b[43m)\u001b[49m\n",
      "File \u001b[1;32m~\\AppData\\Roaming\\Python\\Python39\\site-packages\\keras\\utils\\traceback_utils.py:70\u001b[0m, in \u001b[0;36mfilter_traceback.<locals>.error_handler\u001b[1;34m(*args, **kwargs)\u001b[0m\n\u001b[0;32m     67\u001b[0m     filtered_tb \u001b[38;5;241m=\u001b[39m _process_traceback_frames(e\u001b[38;5;241m.\u001b[39m__traceback__)\n\u001b[0;32m     68\u001b[0m     \u001b[38;5;66;03m# To get the full stack trace, call:\u001b[39;00m\n\u001b[0;32m     69\u001b[0m     \u001b[38;5;66;03m# `tf.debugging.disable_traceback_filtering()`\u001b[39;00m\n\u001b[1;32m---> 70\u001b[0m     \u001b[38;5;28;01mraise\u001b[39;00m e\u001b[38;5;241m.\u001b[39mwith_traceback(filtered_tb) \u001b[38;5;28;01mfrom\u001b[39;00m \u001b[38;5;28;01mNone\u001b[39;00m\n\u001b[0;32m     71\u001b[0m \u001b[38;5;28;01mfinally\u001b[39;00m:\n\u001b[0;32m     72\u001b[0m     \u001b[38;5;28;01mdel\u001b[39;00m filtered_tb\n",
      "File \u001b[1;32m~\\AppData\\Local\\Temp\\__autograph_generated_filex_bc66t1.py:15\u001b[0m, in \u001b[0;36mouter_factory.<locals>.inner_factory.<locals>.tf__train_function\u001b[1;34m(iterator)\u001b[0m\n\u001b[0;32m     13\u001b[0m \u001b[38;5;28;01mtry\u001b[39;00m:\n\u001b[0;32m     14\u001b[0m     do_return \u001b[38;5;241m=\u001b[39m \u001b[38;5;28;01mTrue\u001b[39;00m\n\u001b[1;32m---> 15\u001b[0m     retval_ \u001b[38;5;241m=\u001b[39m ag__\u001b[38;5;241m.\u001b[39mconverted_call(ag__\u001b[38;5;241m.\u001b[39mld(step_function), (ag__\u001b[38;5;241m.\u001b[39mld(\u001b[38;5;28mself\u001b[39m), ag__\u001b[38;5;241m.\u001b[39mld(iterator)), \u001b[38;5;28;01mNone\u001b[39;00m, fscope)\n\u001b[0;32m     16\u001b[0m \u001b[38;5;28;01mexcept\u001b[39;00m:\n\u001b[0;32m     17\u001b[0m     do_return \u001b[38;5;241m=\u001b[39m \u001b[38;5;28;01mFalse\u001b[39;00m\n",
      "\u001b[1;31mValueError\u001b[0m: in user code:\n\n    File \"C:\\Users\\blasf\\AppData\\Roaming\\Python\\Python39\\site-packages\\keras\\engine\\training.py\", line 1284, in train_function  *\n        return step_function(self, iterator)\n    File \"C:\\Users\\blasf\\AppData\\Roaming\\Python\\Python39\\site-packages\\keras\\engine\\training.py\", line 1268, in step_function  **\n        outputs = model.distribute_strategy.run(run_step, args=(data,))\n    File \"C:\\Users\\blasf\\AppData\\Roaming\\Python\\Python39\\site-packages\\keras\\engine\\training.py\", line 1249, in run_step  **\n        outputs = model.train_step(data)\n    File \"C:\\Users\\blasf\\AppData\\Roaming\\Python\\Python39\\site-packages\\keras\\engine\\training.py\", line 1051, in train_step\n        loss = self.compute_loss(x, y, y_pred, sample_weight)\n    File \"C:\\Users\\blasf\\AppData\\Roaming\\Python\\Python39\\site-packages\\keras\\engine\\training.py\", line 1109, in compute_loss\n        return self.compiled_loss(\n    File \"C:\\Users\\blasf\\AppData\\Roaming\\Python\\Python39\\site-packages\\keras\\engine\\compile_utils.py\", line 265, in __call__\n        loss_value = loss_obj(y_t, y_p, sample_weight=sw)\n    File \"C:\\Users\\blasf\\AppData\\Roaming\\Python\\Python39\\site-packages\\keras\\losses.py\", line 142, in __call__\n        losses = call_fn(y_true, y_pred)\n    File \"C:\\Users\\blasf\\AppData\\Roaming\\Python\\Python39\\site-packages\\keras\\losses.py\", line 268, in call  **\n        return ag_fn(y_true, y_pred, **self._fn_kwargs)\n    File \"C:\\Users\\blasf\\AppData\\Roaming\\Python\\Python39\\site-packages\\keras\\losses.py\", line 1984, in categorical_crossentropy\n        return backend.categorical_crossentropy(\n    File \"C:\\Users\\blasf\\AppData\\Roaming\\Python\\Python39\\site-packages\\keras\\backend.py\", line 5559, in categorical_crossentropy\n        target.shape.assert_is_compatible_with(output.shape)\n\n    ValueError: Shapes (None, 1) and (None, 10) are incompatible\n"
     ]
    }
   ],
   "source": [
    "n_epoch = 5\n",
    "\n",
    "history = model.fit(\n",
    "    x_train[:], \n",
    "    y_train[:],  \n",
    "    epochs=n_epoch, \n",
    "    verbose=1, \n",
    "    validation_data=(x_val[:], y_val[:]))"
   ]
  },
  {
   "cell_type": "markdown",
   "id": "6cc14682",
   "metadata": {},
   "source": [
    "# Grafics"
   ]
  },
  {
   "cell_type": "code",
   "execution_count": 18,
   "id": "571ac14e",
   "metadata": {},
   "outputs": [
    {
     "data": {
      "image/png": "[encoded data removed]",
      "text/plain": [
       "<Figure size 1152x648 with 2 Axes>"
      ]
     },
     "metadata": {
      "needs_background": "light"
     },
     "output_type": "display_data"
    }
   ],
   "source": [
    "def visualizacion_resultados(n,history):\n",
    "    epochs = [i for i in range( n  )]\n",
    "    fig, ax = plt.subplots(1,2)\n",
    "    train_acc = history.history[\"accuracy\"]\n",
    "    train_loss = history.history[\"loss\"]\n",
    "    val_acc = history.history[\"val_accuracy\"]\n",
    "    val_loss = history.history[\"val_loss\"]\n",
    "    fig.set_size_inches(16,9)\n",
    "\n",
    "    ax[0].plot(epochs, train_acc, \"go-\",label = \"Entrenamiento accuracy\")\n",
    "    ax[0].plot(epochs, val_acc, \"bo-\",label = \"Validación accuracy\")\n",
    "    ax[0].set_title(\"Entrenamiento y validación accuracy\")\n",
    "    ax[0].legend()\n",
    "    ax[0].set_xlabel(\"Epochs\")\n",
    "    ax[0].set_ylabel(\"Accuracy\")\n",
    "    ax[0].grid()\n",
    "\n",
    "    ax[1].plot(epochs, train_loss, \"go-\",label = \"Entrenamiento loss\")\n",
    "    ax[1].plot(epochs, val_loss, \"bo-\",label = \"Validación loss\")\n",
    "    ax[1].set_title(\"Entrenamiento y validación loss\")\n",
    "    ax[1].legend()\n",
    "    ax[1].set_xlabel(\"Epochs\")\n",
    "    ax[1].set_ylabel(\"Loss\")\n",
    "    ax[1].grid()\n",
    "    \n",
    "\n",
    "    plt.show() \n",
    "visualizacion_resultados(n_epoch,history)"
   ]
  },
  {
   "cell_type": "code",
   "execution_count": null,
   "id": "8e289df6",
   "metadata": {},
   "outputs": [],
   "source": []
  },
  {
   "cell_type": "code",
   "execution_count": 19,
   "id": "3ab9b51b",
   "metadata": {},
   "outputs": [],
   "source": [
    "# n_epoch"
   ]
  },
  {
   "cell_type": "markdown",
   "id": "f1558d7e",
   "metadata": {},
   "source": [
    "# evaluate for examples"
   ]
  },
  {
   "cell_type": "markdown",
   "id": "bb67efa3",
   "metadata": {},
   "source": [
    "The __Model.evaluate__ method checks the model's performance, usually on a validation set or test set."
   ]
  },
  {
   "cell_type": "code",
   "execution_count": 20,
   "id": "982beb17",
   "metadata": {},
   "outputs": [
    {
     "name": "stdout",
     "output_type": "stream",
     "text": [
      "313/313 - 6s - loss: 0.1397 - accuracy: 0.9861 - 6s/epoch - 19ms/step\n"
     ]
    },
    {
     "data": {
      "text/plain": [
       "[0.13968928158283234, 0.9861000180244446]"
      ]
     },
     "execution_count": 20,
     "metadata": {},
     "output_type": "execute_result"
    }
   ],
   "source": [
    "model.evaluate(x_test,  y_test, verbose=2)"
   ]
  },
  {
   "cell_type": "code",
   "execution_count": 21,
   "id": "63b762cf",
   "metadata": {},
   "outputs": [
    {
     "name": "stdout",
     "output_type": "stream",
     "text": [
      "0 : 1.925134912594828e-10\n",
      "1 : 5.0306987020576344e-08\n",
      "2 : 6.682327011731104e-07\n",
      "3 : 1.9765752767852973e-07\n",
      "4 : 8.202327705930657e-08\n",
      "5 : 4.597434932751554e-10\n",
      "6 : 2.337596262391717e-12\n",
      "7 : 0.9999985694885254\n",
      "8 : 2.4736013237713905e-10\n",
      "9 : 4.989843205294164e-07\n"
     ]
    }
   ],
   "source": [
    "predictions = model(x_test[:1]).numpy()\n",
    "\n",
    "for i, value in enumerate(predictions[0]):\n",
    "    print(f'{i} : {value}')\n"
   ]
  },
  {
   "cell_type": "code",
   "execution_count": 22,
   "id": "50fb6a39",
   "metadata": {
    "scrolled": true
   },
   "outputs": [
    {
     "name": "stdout",
     "output_type": "stream",
     "text": [
      "El valor real  [ 7 ] predicho :[ 7 ] con 23.196902871131897 probabilidad \n",
      "\n",
      "El valor real  [ 7 ] predicho :[ 2 ] con 8.533681184053421 probabilidad \n",
      "\n",
      "El valor real  [ 7 ] predicho :[ 9 ] con 8.533679693937302 probabilidad \n",
      "\n",
      "El valor real  [ 7 ] predicho :[ 3 ] con 8.533677458763123 probabilidad \n",
      "\n",
      "El valor real  [ 7 ] predicho :[ 0 ] con 8.533675968647003 probabilidad \n",
      "\n",
      "El valor real  [ 7 ] predicho :[ 1 ] con 8.533675968647003 probabilidad \n",
      "\n",
      "El valor real  [ 7 ] predicho :[ 4 ] con 8.533675968647003 probabilidad \n",
      "\n",
      "El valor real  [ 7 ] predicho :[ 5 ] con 8.533675968647003 probabilidad \n",
      "\n",
      "El valor real  [ 7 ] predicho :[ 6 ] con 8.533675968647003 probabilidad \n",
      "\n",
      "El valor real  [ 7 ] predicho :[ 8 ] con 8.533675968647003 probabilidad \n",
      "\n",
      "<<<<<<<<<<<<<<<<<<<>>>>>>>>>>>>>>>>>>>>>>>>>>>>>>>>>>>>>>>>>>>>>>\n",
      "El valor real  [ 2 ] predicho :[ 2 ] con 23.196834325790405 probabilidad \n",
      "\n",
      "El valor real  [ 2 ] predicho :[ 1 ] con 8.533694595098495 probabilidad \n",
      "\n",
      "El valor real  [ 2 ] predicho :[ 7 ] con 8.533693850040436 probabilidad \n",
      "\n",
      "El valor real  [ 2 ] predicho :[ 0 ] con 8.533691614866257 probabilidad \n",
      "\n",
      "El valor real  [ 2 ] predicho :[ 3 ] con 8.53368192911148 probabilidad \n",
      "\n",
      "El valor real  [ 2 ] predicho :[ 8 ] con 8.533681184053421 probabilidad \n",
      "\n",
      "El valor real  [ 2 ] predicho :[ 4 ] con 8.533680438995361 probabilidad \n",
      "\n",
      "El valor real  [ 2 ] predicho :[ 5 ] con 8.533680438995361 probabilidad \n",
      "\n",
      "El valor real  [ 2 ] predicho :[ 6 ] con 8.533680438995361 probabilidad \n",
      "\n",
      "El valor real  [ 2 ] predicho :[ 9 ] con 8.533680438995361 probabilidad \n",
      "\n",
      "<<<<<<<<<<<<<<<<<<<>>>>>>>>>>>>>>>>>>>>>>>>>>>>>>>>>>>>>>>>>>>>>>\n",
      "El valor real  [ 1 ] predicho :[ 1 ] con 23.195822536945343 probabilidad \n",
      "\n",
      "El valor real  [ 1 ] predicho :[ 7 ] con 8.534098416566849 probabilidad \n",
      "\n",
      "El valor real  [ 1 ] predicho :[ 4 ] con 8.533789217472076 probabilidad \n",
      "\n",
      "El valor real  [ 1 ] predicho :[ 2 ] con 8.533766865730286 probabilidad \n",
      "\n",
      "El valor real  [ 1 ] predicho :[ 9 ] con 8.533763885498047 probabilidad \n",
      "\n",
      "El valor real  [ 1 ] predicho :[ 5 ] con 8.533763140439987 probabilidad \n",
      "\n",
      "El valor real  [ 1 ] predicho :[ 3 ] con 8.533751964569092 probabilidad \n",
      "\n",
      "El valor real  [ 1 ] predicho :[ 6 ] con 8.533749729394913 probabilidad \n",
      "\n",
      "El valor real  [ 1 ] predicho :[ 8 ] con 8.533747494220734 probabilidad \n",
      "\n",
      "El valor real  [ 1 ] predicho :[ 0 ] con 8.533746004104614 probabilidad \n",
      "\n",
      "<<<<<<<<<<<<<<<<<<<>>>>>>>>>>>>>>>>>>>>>>>>>>>>>>>>>>>>>>>>>>>>>>\n",
      "El valor real  [ 0 ] predicho :[ 0 ] con 23.19692373275757 probabilidad \n",
      "\n",
      "El valor real  [ 0 ] predicho :[ 6 ] con 8.533676713705063 probabilidad \n",
      "\n",
      "El valor real  [ 0 ] predicho :[ 2 ] con 8.533675223588943 probabilidad \n",
      "\n",
      "El valor real  [ 0 ] predicho :[ 1 ] con 8.533674478530884 probabilidad \n",
      "\n",
      "El valor real  [ 0 ] predicho :[ 3 ] con 8.533674478530884 probabilidad \n",
      "\n",
      "El valor real  [ 0 ] predicho :[ 4 ] con 8.533674478530884 probabilidad \n",
      "\n",
      "El valor real  [ 0 ] predicho :[ 5 ] con 8.533674478530884 probabilidad \n",
      "\n",
      "El valor real  [ 0 ] predicho :[ 7 ] con 8.533674478530884 probabilidad \n",
      "\n",
      "El valor real  [ 0 ] predicho :[ 8 ] con 8.533674478530884 probabilidad \n",
      "\n",
      "El valor real  [ 0 ] predicho :[ 9 ] con 8.533674478530884 probabilidad \n",
      "\n",
      "<<<<<<<<<<<<<<<<<<<>>>>>>>>>>>>>>>>>>>>>>>>>>>>>>>>>>>>>>>>>>>>>>\n",
      "El valor real  [ 4 ] predicho :[ 4 ] con 23.185129463672638 probabilidad \n",
      "\n",
      "El valor real  [ 4 ] predicho :[ 9 ] con 8.53927806019783 probabilidad \n",
      "\n",
      "El valor real  [ 4 ] predicho :[ 7 ] con 8.534523844718933 probabilidad \n",
      "\n",
      "El valor real  [ 4 ] predicho :[ 2 ] con 8.534464240074158 probabilidad \n",
      "\n",
      "El valor real  [ 4 ] predicho :[ 8 ] con 8.534453809261322 probabilidad \n",
      "\n",
      "El valor real  [ 4 ] predicho :[ 1 ] con 8.534448593854904 probabilidad \n",
      "\n",
      "El valor real  [ 4 ] predicho :[ 6 ] con 8.534444123506546 probabilidad \n",
      "\n",
      "El valor real  [ 4 ] predicho :[ 0 ] con 8.534422516822815 probabilidad \n",
      "\n",
      "El valor real  [ 4 ] predicho :[ 5 ] con 8.534422516822815 probabilidad \n",
      "\n",
      "El valor real  [ 4 ] predicho :[ 3 ] con 8.534421026706696 probabilidad \n",
      "\n",
      "<<<<<<<<<<<<<<<<<<<>>>>>>>>>>>>>>>>>>>>>>>>>>>>>>>>>>>>>>>>>>>>>>\n",
      "El valor real  [ 1 ] predicho :[ 1 ] con 23.194558918476105 probabilidad \n",
      "\n",
      "El valor real  [ 1 ] predicho :[ 7 ] con 8.534561097621918 probabilidad \n",
      "\n",
      "El valor real  [ 1 ] predicho :[ 4 ] con 8.533919602632523 probabilidad \n",
      "\n",
      "El valor real  [ 1 ] predicho :[ 9 ] con 8.533880859613419 probabilidad \n",
      "\n",
      "El valor real  [ 1 ] predicho :[ 5 ] con 8.533880114555359 probabilidad \n",
      "\n",
      "El valor real  [ 1 ] predicho :[ 2 ] con 8.533862233161926 probabilidad \n",
      "\n",
      "El valor real  [ 1 ] predicho :[ 3 ] con 8.533843606710434 probabilidad \n",
      "\n",
      "El valor real  [ 1 ] predicho :[ 6 ] con 8.533836156129837 probabilidad \n",
      "\n",
      "El valor real  [ 1 ] predicho :[ 8 ] con 8.533834666013718 probabilidad \n",
      "\n",
      "El valor real  [ 1 ] predicho :[ 0 ] con 8.53382870554924 probabilidad \n",
      "\n",
      "<<<<<<<<<<<<<<<<<<<>>>>>>>>>>>>>>>>>>>>>>>>>>>>>>>>>>>>>>>>>>>>>>\n",
      "El valor real  [ 4 ] predicho :[ 4 ] con 23.14355969429016 probabilidad \n",
      "\n",
      "El valor real  [ 4 ] predicho :[ 9 ] con 8.55458602309227 probabilidad \n",
      "\n",
      "El valor real  [ 4 ] predicho :[ 8 ] con 8.540749549865723 probabilidad \n",
      "\n",
      "El valor real  [ 4 ] predicho :[ 7 ] con 8.53789821267128 probabilidad \n",
      "\n",
      "El valor real  [ 4 ] predicho :[ 2 ] con 8.53751227259636 probabilidad \n",
      "\n",
      "El valor real  [ 4 ] predicho :[ 1 ] con 8.537379652261734 probabilidad \n",
      "\n",
      "El valor real  [ 4 ] predicho :[ 6 ] con 8.537157624959946 probabilidad \n",
      "\n",
      "El valor real  [ 4 ] predicho :[ 0 ] con 8.537056297063828 probabilidad \n",
      "\n",
      "El valor real  [ 4 ] predicho :[ 5 ] con 8.537056297063828 probabilidad \n",
      "\n",
      "El valor real  [ 4 ] predicho :[ 3 ] con 8.537046611309052 probabilidad \n",
      "\n",
      "<<<<<<<<<<<<<<<<<<<>>>>>>>>>>>>>>>>>>>>>>>>>>>>>>>>>>>>>>>>>>>>>>\n",
      "El valor real  [ 9 ] predicho :[ 9 ] con 23.180949687957764 probabilidad \n",
      "\n",
      "El valor real  [ 9 ] predicho :[ 4 ] con 8.537425100803375 probabilidad \n",
      "\n",
      "El valor real  [ 9 ] predicho :[ 3 ] con 8.535965532064438 probabilidad \n",
      "\n",
      "El valor real  [ 9 ] predicho :[ 8 ] con 8.535704761743546 probabilidad \n",
      "\n",
      "El valor real  [ 9 ] predicho :[ 7 ] con 8.53567123413086 probabilidad \n",
      "\n",
      "El valor real  [ 9 ] predicho :[ 5 ] con 8.535107970237732 probabilidad \n",
      "\n",
      "El valor real  [ 9 ] predicho :[ 0 ] con 8.535078167915344 probabilidad \n",
      "\n",
      "El valor real  [ 9 ] predicho :[ 1 ] con 8.534716069698334 probabilidad \n",
      "\n",
      "El valor real  [ 9 ] predicho :[ 2 ] con 8.534697443246841 probabilidad \n",
      "\n",
      "El valor real  [ 9 ] predicho :[ 6 ] con 8.534687757492065 probabilidad \n",
      "\n",
      "<<<<<<<<<<<<<<<<<<<>>>>>>>>>>>>>>>>>>>>>>>>>>>>>>>>>>>>>>>>>>>>>>\n",
      "El valor real  [ 5 ] predicho :[ 5 ] con 22.567662596702576 probabilidad \n",
      "\n",
      "El valor real  [ 5 ] predicho :[ 6 ] con 8.827156573534012 probabilidad \n",
      "\n",
      "El valor real  [ 5 ] predicho :[ 8 ] con 8.59006941318512 probabilidad \n",
      "\n",
      "El valor real  [ 5 ] predicho :[ 0 ] con 8.57584923505783 probabilidad \n",
      "\n",
      "El valor real  [ 5 ] predicho :[ 9 ] con 8.573884516954422 probabilidad \n",
      "\n",
      "El valor real  [ 5 ] predicho :[ 3 ] con 8.573772013187408 probabilidad \n",
      "\n",
      "El valor real  [ 5 ] predicho :[ 1 ] con 8.57338160276413 probabilidad \n",
      "\n",
      "El valor real  [ 5 ] predicho :[ 4 ] con 8.572883158922195 probabilidad \n",
      "\n",
      "El valor real  [ 5 ] predicho :[ 7 ] con 8.572696149349213 probabilidad \n",
      "\n",
      "El valor real  [ 5 ] predicho :[ 2 ] con 8.572650700807571 probabilidad \n",
      "\n",
      "<<<<<<<<<<<<<<<<<<<>>>>>>>>>>>>>>>>>>>>>>>>>>>>>>>>>>>>>>>>>>>>>>\n",
      "El valor real  [ 9 ] predicho :[ 9 ] con 23.192209005355835 probabilidad \n",
      "\n",
      "El valor real  [ 9 ] predicho :[ 7 ] con 8.534926176071167 probabilidad \n",
      "\n",
      "El valor real  [ 9 ] predicho :[ 4 ] con 8.534911274909973 probabilidad \n",
      "\n",
      "El valor real  [ 9 ] predicho :[ 3 ] con 8.534039556980133 probabilidad \n",
      "\n",
      "El valor real  [ 9 ] predicho :[ 8 ] con 8.534035831689835 probabilidad \n",
      "\n",
      "El valor real  [ 9 ] predicho :[ 0 ] con 8.533979207277298 probabilidad \n",
      "\n",
      "El valor real  [ 9 ] predicho :[ 5 ] con 8.533978462219238 probabilidad \n",
      "\n",
      "El valor real  [ 9 ] predicho :[ 1 ] con 8.53397324681282 probabilidad \n",
      "\n",
      "El valor real  [ 9 ] predicho :[ 2 ] con 8.53397324681282 probabilidad \n",
      "\n",
      "El valor real  [ 9 ] predicho :[ 6 ] con 8.53397250175476 probabilidad \n",
      "\n",
      "<<<<<<<<<<<<<<<<<<<>>>>>>>>>>>>>>>>>>>>>>>>>>>>>>>>>>>>>>>>>>>>>>\n"
     ]
    }
   ],
   "source": [
    "xaux=x_test\n",
    "yauc=y_test\n",
    "for n in range(0,10)  :\n",
    "    predictions = model(xaux[n:n+1]).numpy()\n",
    "\n",
    "    arr = tf.nn.softmax(predictions).numpy()[0]\n",
    "\n",
    "    # Convertimos el array a un diccionario\n",
    "    dict_arr = dict(zip(range(len(arr)), arr.tolist()))\n",
    "\n",
    "    d_ordenado = dict(sorted(dict_arr.items(), key=lambda x: x[1], reverse=True))\n",
    "\n",
    "    for key, value in d_ordenado.items():\n",
    "        print( \"El valor real  [\", yauc[n], '] predicho :[',key, \"] con\", value*100,'probabilidad','\\n')\n",
    "    print('<<<<<<<<<<<<<<<<<<<>>>>>>>>>>>>>>>>>>>>>>>>>>>>>>>>>>>>>>>>>>>>>>')\n",
    "\n",
    "    "
   ]
  },
  {
   "cell_type": "code",
   "execution_count": 23,
   "id": "52cda585",
   "metadata": {},
   "outputs": [],
   "source": [
    "# for i in range(50) : \n",
    "#     print(i,y_train[i])"
   ]
  }
 ],
 "metadata": {
  "kernelspec": {
   "display_name": "Python 3 (ipykernel)",
   "language": "python",
   "name": "python3"
  },
  "language_info": {
   "codemirror_mode": {
    "name": "ipython",
    "version": 3
   },
   "file_extension": ".py",
   "mimetype": "text/x-python",
   "name": "python",
   "nbconvert_exporter": "python",
   "pygments_lexer": "ipython3",
   "version": "3.9.12"
  },
  "toc": {
   "base_numbering": 1,
   "nav_menu": {},
   "number_sections": true,
   "sideBar": true,
   "skip_h1_title": false,
   "title_cell": "Table of Contents",
   "title_sidebar": "Contents",
   "toc_cell": false,
   "toc_position": {},
   "toc_section_display": true,
   "toc_window_display": false
  }
 },
 "nbformat": 4,
 "nbformat_minor": 5
}
