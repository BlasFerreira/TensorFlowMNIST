{
 "cells": [
  {
   "cell_type": "markdown",
   "id": "24c42ee9",
   "metadata": {},
   "source": [
    "# Import"
   ]
  },
  {
   "cell_type": "markdown",
   "id": "471688b1",
   "metadata": {},
   "source": [
    "## Library"
   ]
  },
  {
   "cell_type": "code",
   "execution_count": 5,
   "id": "7ccd1d7d",
   "metadata": {},
   "outputs": [
    {
     "name": "stdout",
     "output_type": "stream",
     "text": [
      "TensorFlow version: 2.12.0\n"
     ]
    }
   ],
   "source": [
    "import tensorflow as tf\n",
    "import numpy as np\n",
    "print(\"TensorFlow version:\", tf.__version__)\n",
    "from sklearn.model_selection import train_test_split\n",
    "\n",
    "\n",
    "import numpy as np\n",
    "import pandas as pd\n",
    "import matplotlib.pyplot as plt\n",
    "import seaborn as sns\n",
    "# Logistic Regression Clasificator\n",
    "from sklearn.linear_model import LogisticRegression\n",
    "# import warnings\n",
    "# warnings.filterwarnings('ignore')\n",
    "\n",
    "from PIL import Image\n",
    "import numpy as np\n",
    "\n",
    "from keras.layers import Dropout\n",
    "from tensorflow.keras import regularizers\n",
    "from tensorflow.keras.utils import to_categorical\n"
   ]
  },
  {
   "cell_type": "code",
   "execution_count": 6,
   "id": "41523889",
   "metadata": {},
   "outputs": [
    {
     "ename": "NameError",
     "evalue": "name 'sklearn' is not defined",
     "output_type": "error",
     "traceback": [
      "\u001b[1;31m---------------------------------------------------------------------------\u001b[0m",
      "\u001b[1;31mNameError\u001b[0m                                 Traceback (most recent call last)",
      "Input \u001b[1;32mIn [6]\u001b[0m, in \u001b[0;36m<cell line: 1>\u001b[1;34m()\u001b[0m\n\u001b[1;32m----> 1\u001b[0m \u001b[38;5;28mprint\u001b[39m(\u001b[43msklearn\u001b[49m\u001b[38;5;241m.\u001b[39m__version__)\n",
      "\u001b[1;31mNameError\u001b[0m: name 'sklearn' is not defined"
     ]
    }
   ],
   "source": [
    "print(sklearn.__version__)"
   ]
  },
  {
   "cell_type": "markdown",
   "id": "10eb2e04",
   "metadata": {},
   "source": [
    "## Dataset"
   ]
  },
  {
   "cell_type": "code",
   "execution_count": 7,
   "id": "0f973a8c",
   "metadata": {},
   "outputs": [],
   "source": [
    "# Load and prepare the MNIST dataset\n",
    "mnist = tf.keras.datasets.mnist\n",
    "# Split dataset in data of Train and Data od Test\n",
    "(x_train, y_train), (x_test, y_test) = mnist.load_data()\n",
    "x_train, x_val, y_train, y_val  = train_test_split( x_train, y_train, test_size=0.166, random_state=4)\n",
    "x_train,x_val, x_test = x_train / 255.0, x_val/ 255.0, x_test / 255.0"
   ]
  },
  {
   "cell_type": "markdown",
   "id": "d68396fa",
   "metadata": {},
   "source": [
    "## Transform Dataset"
   ]
  },
  {
   "cell_type": "code",
   "execution_count": 8,
   "id": "bd95babf",
   "metadata": {},
   "outputs": [],
   "source": [
    "x_train = x_train.reshape((-1, 28, 28, 1))\n",
    "y_train = to_categorical(y_train, 10)\n",
    "\n",
    "x_val = x_val.reshape((-1, 28, 28, 1))\n",
    "y_val= to_categorical(y_val, 10)"
   ]
  },
  {
   "cell_type": "code",
   "execution_count": 9,
   "id": "63ea99a6",
   "metadata": {},
   "outputs": [
    {
     "name": "stdout",
     "output_type": "stream",
     "text": [
      "x_train.shape : (50040, 28, 28, 1)\n",
      "y_train.shape : (50040, 10)\n",
      "\n"
     ]
    }
   ],
   "source": [
    "print(f'x_train.shape : {x_train.shape}')\n",
    "print(f'y_train.shape : {y_train.shape}\\n')\n",
    "\n",
    "# print(f'x_val.shape : {x_val.shape}')\n",
    "# print(f'y_val.shape : {y_val.shape}\\n')\n",
    "\n"
   ]
  },
  {
   "cell_type": "markdown",
   "id": "41eb24c1",
   "metadata": {},
   "source": [
    "# Model"
   ]
  },
  {
   "cell_type": "code",
   "execution_count": 5,
   "id": "236b85b8",
   "metadata": {},
   "outputs": [
    {
     "name": "stdout",
     "output_type": "stream",
     "text": [
      "Model: \"sequential\"\n",
      "_________________________________________________________________\n",
      " Layer (type)                Output Shape              Param #   \n",
      "=================================================================\n",
      " conv2d (Conv2D)             (None, 26, 26, 32)        320       \n",
      "                                                                 \n",
      " dropout (Dropout)           (None, 26, 26, 32)        0         \n",
      "                                                                 \n",
      " conv2d_1 (Conv2D)           (None, 24, 24, 64)        18496     \n",
      "                                                                 \n",
      " dropout_1 (Dropout)         (None, 24, 24, 64)        0         \n",
      "                                                                 \n",
      " max_pooling2d (MaxPooling2D  (None, 12, 12, 64)       0         \n",
      " )                                                               \n",
      "                                                                 \n",
      " conv2d_2 (Conv2D)           (None, 10, 10, 128)       73856     \n",
      "                                                                 \n",
      " dropout_2 (Dropout)         (None, 10, 10, 128)       0         \n",
      "                                                                 \n",
      " max_pooling2d_1 (MaxPooling  (None, 5, 5, 128)        0         \n",
      " 2D)                                                             \n",
      "                                                                 \n",
      " flatten (Flatten)           (None, 3200)              0         \n",
      "                                                                 \n",
      " dense (Dense)               (None, 256)               819456    \n",
      "                                                                 \n",
      " dropout_3 (Dropout)         (None, 256)               0         \n",
      "                                                                 \n",
      " dense_1 (Dense)             (None, 128)               32896     \n",
      "                                                                 \n",
      " dropout_4 (Dropout)         (None, 128)               0         \n",
      "                                                                 \n",
      " dense_2 (Dense)             (None, 10)                1290      \n",
      "                                                                 \n",
      "=================================================================\n",
      "Total params: 946,314\n",
      "Trainable params: 946,314\n",
      "Non-trainable params: 0\n",
      "_________________________________________________________________\n"
     ]
    }
   ],
   "source": [
    "# Definir la arquitectura de la CNN\n",
    "def create_cnn_model():\n",
    "    model = tf.keras.Sequential([\n",
    "        # Capa de entrada\n",
    "        tf.keras.layers.Conv2D(32, (3, 3), activation='relu', input_shape=(28,28,1),kernel_regularizer=regularizers.l2(1e-5)),\n",
    "        tf.keras.layers.Dropout(0.3),#regularización y reducir el sobreajuste del modelo\n",
    "        \n",
    "        # Capa de convolución 1\n",
    "        tf.keras.layers.Conv2D(64, (3, 3), activation='relu',kernel_regularizer=regularizers.l2(1e-5)),\n",
    "        tf.keras.layers.Dropout(0.3),#regularización y reducir el sobreajuste del modelo\n",
    "        \n",
    "        # Capa de reducción de muestreo 1\n",
    "        tf.keras.layers.MaxPooling2D((2, 2)),\n",
    "        \n",
    "        # Capa de convolución 2\n",
    "        tf.keras.layers.Conv2D(128, (3, 3), activation='relu',kernel_regularizer=regularizers.l2(1e-5)),\n",
    "        tf.keras.layers.Dropout(0.3),#regularización y reducir el sobreajuste del modelo\n",
    "        \n",
    "        # Capa de reducción de muestreo 2\n",
    "        tf.keras.layers.MaxPooling2D((2, 2)),\n",
    "\n",
    "        \n",
    "        # Capa completamente conectada 1\n",
    "        tf.keras.layers.Flatten(),\n",
    "        tf.keras.layers.Dense(256, activation='relu',kernel_regularizer=regularizers.l2(1e-5)),\n",
    "        tf.keras.layers.Dropout(0.3),#regularización y reducir el sobreajuste del modelo\n",
    "        \n",
    "        # Capa completamente conectada 2\n",
    "        tf.keras.layers.Dense(128, activation='relu',kernel_regularizer=regularizers.l2(1e-5)),\n",
    "        tf.keras.layers.Dropout(0.3),#regularización y reducir el sobreajuste del modelo\n",
    "        \n",
    "        # Capa de salida\n",
    "        tf.keras.layers.Dense(10, activation='softmax')  # num_classes representa el número de clases para la tarea de clasificación\n",
    "    ])\n",
    "    \n",
    "    return model\n",
    "\n",
    "# Crear una instancia del modelo\n",
    "model = create_cnn_model()\n",
    "\n",
    "# Compilar el modelo\n",
    "model.compile(optimizer='adam', loss='categorical_crossentropy', metrics=['accuracy'])\n",
    "\n",
    "# Imprimir un resumen de la arquitectura\n",
    "model.summary()\n"
   ]
  },
  {
   "cell_type": "markdown",
   "id": "ef6d1fc7",
   "metadata": {},
   "source": [
    "# Train and evaluate your model"
   ]
  },
  {
   "cell_type": "code",
   "execution_count": 6,
   "id": "58bc63cb",
   "metadata": {},
   "outputs": [
    {
     "name": "stdout",
     "output_type": "stream",
     "text": [
      "Epoch 1/20\n",
      "1564/1564 [==============================] - 188s 119ms/step - loss: 0.2037 - accuracy: 0.9403 - val_loss: 0.0772 - val_accuracy: 0.9827\n",
      "Epoch 2/20\n",
      "1564/1564 [==============================] - 185s 118ms/step - loss: 0.0833 - accuracy: 0.9805 - val_loss: 0.0636 - val_accuracy: 0.9847\n",
      "Epoch 3/20\n",
      "1564/1564 [==============================] - 197s 126ms/step - loss: 0.0698 - accuracy: 0.9848 - val_loss: 0.0665 - val_accuracy: 0.9853\n",
      "Epoch 4/20\n",
      "1564/1564 [==============================] - 202s 129ms/step - loss: 0.0643 - accuracy: 0.9872 - val_loss: 0.0666 - val_accuracy: 0.9873\n",
      "Epoch 5/20\n",
      "1564/1564 [==============================] - 204s 131ms/step - loss: 0.0621 - accuracy: 0.9884 - val_loss: 0.0602 - val_accuracy: 0.9885\n",
      "Epoch 6/20\n",
      "1564/1564 [==============================] - 188s 120ms/step - loss: 0.0622 - accuracy: 0.9891 - val_loss: 0.0616 - val_accuracy: 0.9893\n",
      "Epoch 7/20\n",
      "1564/1564 [==============================] - 176s 113ms/step - loss: 0.0597 - accuracy: 0.9903 - val_loss: 0.0624 - val_accuracy: 0.9901\n",
      "Epoch 8/20\n",
      "1564/1564 [==============================] - 178s 114ms/step - loss: 0.0589 - accuracy: 0.9909 - val_loss: 0.0593 - val_accuracy: 0.9892\n",
      "Epoch 9/20\n",
      "1564/1564 [==============================] - 177s 113ms/step - loss: 0.0596 - accuracy: 0.9911 - val_loss: 0.0615 - val_accuracy: 0.9904\n",
      "Epoch 10/20\n",
      "1564/1564 [==============================] - 201s 129ms/step - loss: 0.0581 - accuracy: 0.9916 - val_loss: 0.0567 - val_accuracy: 0.9912\n",
      "Epoch 11/20\n",
      "1564/1564 [==============================] - 219s 140ms/step - loss: 0.0574 - accuracy: 0.9913 - val_loss: 0.0597 - val_accuracy: 0.9919\n",
      "Epoch 12/20\n",
      "1564/1564 [==============================] - 178s 114ms/step - loss: 0.0598 - accuracy: 0.9915 - val_loss: 0.0598 - val_accuracy: 0.9911\n",
      "Epoch 13/20\n",
      "1564/1564 [==============================] - 176s 112ms/step - loss: 0.0577 - accuracy: 0.9921 - val_loss: 0.0565 - val_accuracy: 0.9919\n",
      "Epoch 14/20\n",
      "1564/1564 [==============================] - 234s 150ms/step - loss: 0.0563 - accuracy: 0.9926 - val_loss: 0.0605 - val_accuracy: 0.9919\n",
      "Epoch 15/20\n",
      "1564/1564 [==============================] - 207s 133ms/step - loss: 0.0549 - accuracy: 0.9928 - val_loss: 0.0603 - val_accuracy: 0.9922\n",
      "Epoch 16/20\n",
      "1564/1564 [==============================] - 231s 148ms/step - loss: 0.0562 - accuracy: 0.9927 - val_loss: 0.0605 - val_accuracy: 0.9913\n",
      "Epoch 17/20\n",
      "1564/1564 [==============================] - 188s 120ms/step - loss: 0.0561 - accuracy: 0.9924 - val_loss: 0.0644 - val_accuracy: 0.9896\n",
      "Epoch 18/20\n",
      "1564/1564 [==============================] - 228s 146ms/step - loss: 0.0553 - accuracy: 0.9926 - val_loss: 0.0564 - val_accuracy: 0.9920\n",
      "Epoch 19/20\n",
      "1564/1564 [==============================] - 239s 153ms/step - loss: 0.0563 - accuracy: 0.9928 - val_loss: 0.0624 - val_accuracy: 0.9912\n",
      "Epoch 20/20\n",
      "1564/1564 [==============================] - 201s 128ms/step - loss: 0.0556 - accuracy: 0.9929 - val_loss: 0.0620 - val_accuracy: 0.9906\n"
     ]
    }
   ],
   "source": [
    "n_epoch = 20\n",
    "\n",
    "history = model.fit(x_train, \n",
    "                    y_train,  \n",
    "                    epochs=n_epoch, \n",
    "                    verbose=1,\n",
    "                    validation_data=(x_val, y_val))"
   ]
  },
  {
   "cell_type": "markdown",
   "id": "6cc14682",
   "metadata": {},
   "source": [
    "# Grafics"
   ]
  },
  {
   "cell_type": "code",
   "execution_count": 7,
   "id": "571ac14e",
   "metadata": {},
   "outputs": [
    {
     "data": {
      "image/png": "[encoded data removed]",
      "text/plain": [
       "<Figure size 1152x648 with 2 Axes>"
      ]
     },
     "metadata": {
      "needs_background": "light"
     },
     "output_type": "display_data"
    }
   ],
   "source": [
    "def visualizacion_resultados(n,history):\n",
    "    epochs = [i for i in range( n  )]\n",
    "    fig, ax = plt.subplots(1,2)\n",
    "    train_acc = history.history[\"accuracy\"]\n",
    "    train_loss = history.history[\"loss\"]\n",
    "    val_acc = history.history[\"val_accuracy\"]\n",
    "    val_loss = history.history[\"val_loss\"]\n",
    "    fig.set_size_inches(16,9)\n",
    "\n",
    "    ax[0].plot(epochs, train_acc, \"go-\",label = \"Entrenamiento accuracy\")\n",
    "    ax[0].plot(epochs, val_acc, \"bo-\",label = \"Validación accuracy\")\n",
    "    ax[0].set_title(\"Entrenamiento y validación accuracy\")\n",
    "    ax[0].legend()\n",
    "    ax[0].set_xlabel(\"Epochs\")\n",
    "    ax[0].set_ylabel(\"Accuracy\")\n",
    "    ax[0].grid()\n",
    "\n",
    "    ax[1].plot(epochs, train_loss, \"go-\",label = \"Entrenamiento loss\")\n",
    "    ax[1].plot(epochs, val_loss, \"bo-\",label = \"Validación loss\")\n",
    "    ax[1].set_title(\"Entrenamiento y validación loss\")\n",
    "    ax[1].legend()\n",
    "    ax[1].set_xlabel(\"Epochs\")\n",
    "    ax[1].set_ylabel(\"Loss\")\n",
    "    ax[1].grid()\n",
    "    \n",
    "\n",
    "    plt.show() \n",
    "visualizacion_resultados(n_epoch,history)"
   ]
  }
 ],
 "metadata": {
  "kernelspec": {
   "display_name": "Python 3 (ipykernel)",
   "language": "python",
   "name": "python3"
  },
  "language_info": {
   "codemirror_mode": {
    "name": "ipython",
    "version": 3
   },
   "file_extension": ".py",
   "mimetype": "text/x-python",
   "name": "python",
   "nbconvert_exporter": "python",
   "pygments_lexer": "ipython3",
   "version": "3.9.12"
  },
  "toc": {
   "base_numbering": 1,
   "nav_menu": {},
   "number_sections": true,
   "sideBar": true,
   "skip_h1_title": false,
   "title_cell": "Table of Contents",
   "title_sidebar": "Contents",
   "toc_cell": false,
   "toc_position": {},
   "toc_section_display": true,
   "toc_window_display": false
  }
 },
 "nbformat": 4,
 "nbformat_minor": 5
}
