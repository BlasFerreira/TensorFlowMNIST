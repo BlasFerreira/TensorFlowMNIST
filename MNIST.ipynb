{
 "cells": [
  {
   "cell_type": "markdown",
   "id": "24c42ee9",
   "metadata": {},
   "source": [
    "# Import"
   ]
  },
  {
   "cell_type": "markdown",
   "id": "471688b1",
   "metadata": {},
   "source": [
    "## Library"
   ]
  },
  {
   "cell_type": "code",
   "execution_count": 45,
   "id": "7ccd1d7d",
   "metadata": {},
   "outputs": [
    {
     "name": "stdout",
     "output_type": "stream",
     "text": [
      "TensorFlow version: 2.12.0\n"
     ]
    }
   ],
   "source": [
    "import tensorflow as tf\n",
    "import numpy as np\n",
    "print(\"TensorFlow version:\", tf.__version__)\n",
    "from sklearn.model_selection import train_test_split\n",
    "\n",
    "import numpy as np\n",
    "import pandas as pd\n",
    "import matplotlib.pyplot as plt\n",
    "import seaborn as sns\n",
    "# Logistic Regression Clasificator\n",
    "from sklearn.linear_model import LogisticRegression\n",
    "# import warnings\n",
    "# warnings.filterwarnings('ignore')\n",
    "\n",
    "from PIL import Image\n",
    "import numpy as np\n",
    "\n",
    "from keras.layers import Dropout\n",
    "from tensorflow.keras import regularizers\n"
   ]
  },
  {
   "cell_type": "markdown",
   "id": "10eb2e04",
   "metadata": {},
   "source": [
    "## Dataset"
   ]
  },
  {
   "cell_type": "code",
   "execution_count": 46,
   "id": "02c1aae9",
   "metadata": {},
   "outputs": [],
   "source": [
    "# Load and prepare the MNIST dataset\n",
    "mnist = tf.keras.datasets.mnist"
   ]
  },
  {
   "cell_type": "markdown",
   "id": "79502ed0",
   "metadata": {},
   "source": [
    "### Split"
   ]
  },
  {
   "cell_type": "code",
   "execution_count": 47,
   "id": "efdc2678",
   "metadata": {},
   "outputs": [],
   "source": [
    "# Split dataset in data of Train and Data od Test\n",
    "(x_train, y_train), (x_test, y_test) = mnist.load_data()"
   ]
  },
  {
   "cell_type": "code",
   "execution_count": 48,
   "id": "5b235660",
   "metadata": {},
   "outputs": [],
   "source": [
    "x_train, x_val, y_train, y_val  = train_test_split( x_train, y_train, test_size=0.166, random_state=4)"
   ]
  },
  {
   "cell_type": "markdown",
   "id": "24928c66",
   "metadata": {},
   "source": [
    "### Information of Data"
   ]
  },
  {
   "cell_type": "markdown",
   "id": "caa076f2",
   "metadata": {},
   "source": [
    "The pixel values of the images range from __0__ through __255__. Scale these values to a range of __0__ to **1** by dividing the values by __255.0__. This also converts the sample data from integers to floating-point numbers:"
   ]
  },
  {
   "cell_type": "code",
   "execution_count": 49,
   "id": "dc86b088",
   "metadata": {},
   "outputs": [],
   "source": [
    "x_train,x_val, x_test = x_train / 255.0, x_val/ 255.0, x_test / 255.0"
   ]
  },
  {
   "cell_type": "code",
   "execution_count": 50,
   "id": "7d44dc28",
   "metadata": {},
   "outputs": [
    {
     "name": "stdout",
     "output_type": "stream",
     "text": [
      "x_train.shape : (50040, 28, 28)\n",
      "y_train.shape : (50040,)\n",
      "\n",
      "x_val.shape : (9960, 28, 28)\n",
      "y_val.shape : (9960,)\n",
      "\n",
      "x_test.shape : (10000, 28, 28)\n",
      "y_test.shape : (10000,)\n",
      "\n"
     ]
    }
   ],
   "source": [
    "print(f'x_train.shape : {x_train.shape}')\n",
    "print(f'y_train.shape : {y_train.shape}\\n')\n",
    "\n",
    "print(f'x_val.shape : {x_val.shape}')\n",
    "print(f'y_val.shape : {y_val.shape}\\n')\n",
    "\n",
    "print(f'x_test.shape : {x_test.shape}')\n",
    "print(f'y_test.shape : {y_test.shape}\\n')"
   ]
  },
  {
   "cell_type": "code",
   "execution_count": 51,
   "id": "fcd28fdc",
   "metadata": {},
   "outputs": [
    {
     "data": {
      "text/plain": [
       "(28, 28)"
      ]
     },
     "execution_count": 51,
     "metadata": {},
     "output_type": "execute_result"
    }
   ],
   "source": [
    "x_train[0].shape"
   ]
  },
  {
   "cell_type": "code",
   "execution_count": 52,
   "id": "96ec5052",
   "metadata": {},
   "outputs": [
    {
     "data": {
      "text/plain": [
       "numpy.ndarray"
      ]
     },
     "execution_count": 52,
     "metadata": {},
     "output_type": "execute_result"
    }
   ],
   "source": [
    "type(x_train)"
   ]
  },
  {
   "cell_type": "markdown",
   "id": "11c6dada",
   "metadata": {},
   "source": [
    "![](MNIST.png)"
   ]
  },
  {
   "cell_type": "markdown",
   "id": "cf3787e1",
   "metadata": {},
   "source": [
    "# Build a machine learning model"
   ]
  },
  {
   "cell_type": "markdown",
   "id": "aa041322",
   "metadata": {},
   "source": [
    "## Build a tf.keras.Sequential model:"
   ]
  },
  {
   "cell_type": "markdown",
   "id": "0d0c8f85",
   "metadata": {},
   "source": [
    "![](1_N8UXaiUKWurFLdmEhEHiWg.jpg)"
   ]
  },
  {
   "cell_type": "code",
   "execution_count": 53,
   "id": "df2d8af6",
   "metadata": {},
   "outputs": [
    {
     "name": "stdout",
     "output_type": "stream",
     "text": [
      "Model: \"sequential_3\"\n",
      "_________________________________________________________________\n",
      " Layer (type)                Output Shape              Param #   \n",
      "=================================================================\n",
      " flatten_3 (Flatten)         (None, 784)               0         \n",
      "                                                                 \n",
      " dense_10 (Dense)            (None, 784)               615440    \n",
      "                                                                 \n",
      " dropout_3 (Dropout)         (None, 784)               0         \n",
      "                                                                 \n",
      " dense_11 (Dense)            (None, 416)               326560    \n",
      "                                                                 \n",
      " dropout_4 (Dropout)         (None, 416)               0         \n",
      "                                                                 \n",
      " dense_12 (Dense)            (None, 512)               213504    \n",
      "                                                                 \n",
      " dropout_5 (Dropout)         (None, 512)               0         \n",
      "                                                                 \n",
      " dense_13 (Dense)            (None, 10)                5130      \n",
      "                                                                 \n",
      "=================================================================\n",
      "Total params: 1,160,634\n",
      "Trainable params: 1,160,634\n",
      "Non-trainable params: 0\n",
      "_________________________________________________________________\n"
     ]
    }
   ],
   "source": [
    "model = tf.keras.models.Sequential([\n",
    "\n",
    "# Input Layer\n",
    "  tf.keras.layers.Flatten(input_shape=(28, 28)),\n",
    "  # Hidden Layer\n",
    "\n",
    "  tf.keras.layers.Dense(784, activation='relu', kernel_regularizer=regularizers.l2(1e-4)),\n",
    "#   tf.keras.layers.BatchNormalization(),#regularización y reducir el sobreajuste del modelo\n",
    "  tf.keras.layers.Dropout(0.3),#regularización y reducir el sobreajuste del modelo\n",
    "\n",
    "  tf.keras.layers.Dense(416, activation='relu', kernel_regularizer=regularizers.l2(1e-4)),\n",
    "#   tf.keras.layers.BatchNormalization(),#regularización y reducir el sobreajuste del modelo\n",
    "  tf.keras.layers.Dropout(0.3),#regularización y reducir el sobreajuste del modelo\n",
    "    \n",
    "  tf.keras.layers.Dense(512, activation='relu', kernel_regularizer=regularizers.l2(1e-4)),\n",
    "#   tf.keras.layers.BatchNormalization(),#regularización y reducir el sobreajuste del modelo\n",
    "  tf.keras.layers.Dropout(0.3),#regularización y reducir el sobreajuste del modelo\n",
    "\n",
    " # Outoput Layer\n",
    "  tf.keras.layers.Dense(10,activation='softmax'), #Esta capa tiene 10 neuronas, clasificación de 10 categorías\n",
    "])\n",
    "\n",
    "model.summary()"
   ]
  },
  {
   "cell_type": "markdown",
   "id": "a359bf74",
   "metadata": {},
   "source": [
    "### Detalles "
   ]
  },
  {
   "cell_type": "markdown",
   "id": "6e679d78",
   "metadata": {},
   "source": [
    "- __tf.keras.layers.Flatten__ (La capa de aplanamiento ) es una capa de procesamiento que convierte una matriz de __entrada multidimensional__ en un vector __unidimensional__. Esta capa se utiliza comúnmente como la primera capa en una red neuronal para transformar los datos de entrada. La capa de aplanamiento toma una matriz de entrada de __28x28__ (que representa una imagen de __28x28__ píxeles) y la convierte en un vector de __784__ elementos. Esto permite que la red neuronal procese la imagen como una __secuencia unidimensional__ de valores de píxeles en lugar de como una matriz bidimensional.<br><br>\n",
    "\n",
    "- __tf.keras.layers.Dense__ es una capa de redes neuronales __densamente conectada__ en TensorFlow, que implementa la operación de multiplicación de matriz y adición de sesgo en la entrada, seguida de una función de activación. Cada unidad o nodo en la capa está conectado a cada unidad en la capa anterior, y las entradas se multiplican por un conjunto de pesos y se suman a un sesgo antes de aplicar la función de activación. En otras palabras, la capa densa es una capa de neuronas completamente conectada, donde cada neurona en la capa anterior está conectada a todas las neuronas en la capa actual. La capa __Dense__ en la red neuronal se llama así porque __cada neurona de la capa está conectada a todas las neuronas de la capa anterior y de la capa siguiente__. Esto se conoce como __\"conexión densa\"__ o __\"totalmente conectada\"__. Los valores de entrada se multiplican por los pesos, se suman los resultados y se aplica una función de activación para producir los valores de salida de la capa.En resumen, la capa Dense es una capa de red neuronal en la que cada neurona está conectada a todas las neuronas de la capa anterior y de la capa siguiente, lo que permite aprender patrones complejos en los datos<br><br>\n",
    "\n",
    "- __tf.keras.layers.Dropout__ es una capa en TensorFlow que se utiliza para regularizar modelos de aprendizaje profundo y evitar el sobreajuste. Durante el entrenamiento, Dropout apaga de forma aleatoria un número predefinido de unidades de la capa anterior. Esto evita que las unidades se \"especialicen\" demasiado en un subconjunto particular de los datos de entrenamiento, lo que puede resultar en un modelo que no generaliza bien a datos nuevos. El porcentaje de unidades que se apaga se puede ajustar mediante un parámetro llamado \"rate\".<br>\n"
   ]
  },
  {
   "cell_type": "markdown",
   "id": "da495618",
   "metadata": {},
   "source": [
    "Sequential is useful for stacking layers where each layer has one input tensor and one output tensor. Layers are functions with a known mathematical structure that can be reused and have trainable variables. Most TensorFlow models are composed of layers. This model uses the Flatten, Dense, and Dropout layers."
   ]
  },
  {
   "cell_type": "markdown",
   "id": "59607f14",
   "metadata": {},
   "source": [
    "### predictions example"
   ]
  },
  {
   "cell_type": "markdown",
   "id": "0c64f36f",
   "metadata": {},
   "source": [
    "For each example, the model returns a vector of __logits or log-odds scores__, one for each class"
   ]
  },
  {
   "cell_type": "code",
   "execution_count": 54,
   "id": "4893e491",
   "metadata": {},
   "outputs": [],
   "source": [
    "# predictions = model(x_train[:1]).numpy()\n",
    "\n",
    "# for i, value in enumerate(predictions[0]):\n",
    "#     print(f'{i} : {value}')"
   ]
  },
  {
   "cell_type": "markdown",
   "id": "8ad0787d",
   "metadata": {},
   "source": [
    "### converts these logits to probabilities"
   ]
  },
  {
   "cell_type": "markdown",
   "id": "b8091bf4",
   "metadata": {},
   "source": [
    "The __tf.nn.softmax__ function converts these logits to probabilities for each class:"
   ]
  },
  {
   "cell_type": "code",
   "execution_count": 55,
   "id": "c19e7cc7",
   "metadata": {},
   "outputs": [],
   "source": [
    "# tf.nn.softmax(predictions).numpy()"
   ]
  },
  {
   "cell_type": "markdown",
   "id": "a693218b",
   "metadata": {},
   "source": [
    "## Define a loss function (Hyperparameter)"
   ]
  },
  {
   "cell_type": "markdown",
   "id": "ab6c7c55",
   "metadata": {},
   "source": [
    "Define a loss function for training using __losses.SparseCategoricalCrossentropy__:"
   ]
  },
  {
   "cell_type": "code",
   "execution_count": 56,
   "id": "610bd8e7",
   "metadata": {},
   "outputs": [],
   "source": [
    "loss_fn = tf.keras.losses.SparseCategoricalCrossentropy(from_logits=True)"
   ]
  },
  {
   "cell_type": "markdown",
   "id": "9632ee7c",
   "metadata": {},
   "source": [
    "The __loss function__ takes a __vector of ground truth values__ and a __vector of logits__ and __returns a scalar loss for each example__. This __loss__ is equal to the __negative log probability of the true class__: The __loss__ is __0__ if the model is sure of the __correct__ class.\n",
    "\n",
    "This untrained model gives probabilities close to random (1/10 for each class), so the initial loss should be close to -tf.math.log(1/10) ~= 2.3."
   ]
  },
  {
   "cell_type": "markdown",
   "id": "3fdc54a8",
   "metadata": {},
   "source": [
    "## Set the optimizer (Hyperparameter)"
   ]
  },
  {
   "cell_type": "code",
   "execution_count": 57,
   "id": "127a683d",
   "metadata": {},
   "outputs": [],
   "source": [
    "model.compile(optimizer = 'adam',\n",
    "              loss = loss_fn,\n",
    "              metrics = ['accuracy'])"
   ]
  },
  {
   "cell_type": "markdown",
   "id": "e76eda96",
   "metadata": {},
   "source": [
    "### Detail"
   ]
  },
  {
   "cell_type": "markdown",
   "id": "9735ef51",
   "metadata": {},
   "source": [
    "Adam (Adaptive Moment Estimation) es un __algoritmo de optimización__ de __gradiente descendente estocástico__ utilizado comúnmente para entrenar redes neuronales en el aprendizaje profundo.\n",
    "\n",
    "Adam es un __método de optimización adaptativo__ que combina el enfoque de __Momentum__ y __RMSprop__. Al igual que RMSprop, Adam mantiene un promedio móvil de los cuadrados de los gradientes y, al igual que el enfoque de Momentum, mantiene un __promedio móvil de los gradientes__.\n",
    "\n",
    "El algoritmo adapta la tasa de aprendizaje de cada parámetro en función de la magnitud del gradiente y la magnitud de la media móvil de segundo orden de los gradientes. Adam también incluye un término de corrección de sesgo para compensar la inicialización sesgada de los promedios móviles en las primeras iteraciones.\n",
    "\n",
    "En resumen, Adam es un algoritmo de optimización de gradiente descendente estocástico que adapta la tasa de aprendizaje para cada parámetro en función de la magnitud del gradiente y la media móvil de segundo orden de los gradientes. Es muy popular en el aprendizaje profundo debido a su eficacia y eficiencia en la práctica."
   ]
  },
  {
   "cell_type": "markdown",
   "id": "0557d8ca",
   "metadata": {},
   "source": [
    "durante el el entrenamiento el leaning rate en adam varia?\n",
    "\n",
    "\n",
    "Sí, durante el entrenamiento, el optimizador __Adam__ puede __ajustar automáticamente la tasa de aprendizaje__. Adam utiliza un algoritmo adaptativo para calcular y actualizar la tasa de aprendizaje de forma dinámica en función de las estadísticas de los gradientes calculados durante el entrenamiento.\n",
    "\n",
    "__El algoritmo de Adam incluye dos componentes principales__: el __promedio móvil de primer orden (momentum)__ y __el promedio móvil de segundo orden (adaptive learning rate)__. Estos componentes permiten que Adam ajuste la tasa de aprendizaje para cada parámetro del modelo de forma individual, basándose en la magnitud de los gradientes y las características del historial de actualizaciones anteriores.\n",
    "\n",
    "A medida que el modelo se entrena y se actualizan los pesos, Adam adapta la tasa de aprendizaje de forma automática según la información acumulada de los gradientes previos. Esto puede ayudar a mejorar la eficiencia del entrenamiento y la capacidad del modelo para converger hacia una solución óptima.\n",
    "\n",
    "Es importante destacar que el algoritmo de Adam tiene valores predeterminados para otros hiperparámetros, como el momentum y el decaimiento de los promedios móviles. Estos hiperparámetros también pueden influir en la forma en que Adam ajusta la tasa de aprendizaje durante el entrenamiento.\n",
    "\n",
    "Si deseas tener un control más preciso sobre la tasa de aprendizaje y su variación durante el entrenamiento, puedes utilizar optimizadores personalizados o técnicas de programación de aprendizaje con tasas de aprendizaje variables. Sin embargo, en la mayoría de los casos, Adam es una opción sólida y eficiente que ajusta automáticamente la tasa de aprendizaje de manera efectiva para la mayoría de los problemas de aprendizaje profundo."
   ]
  },
  {
   "cell_type": "markdown",
   "id": "ef6d1fc7",
   "metadata": {},
   "source": [
    "# Train and evaluate your model"
   ]
  },
  {
   "cell_type": "markdown",
   "id": "1f4ba162",
   "metadata": {},
   "source": [
    "## History"
   ]
  },
  {
   "cell_type": "markdown",
   "id": "f45bbc35",
   "metadata": {},
   "source": [
    "Use the __Model.fit__ Method to adjust your model parameters and minimize the loss:"
   ]
  },
  {
   "cell_type": "code",
   "execution_count": 58,
   "id": "58bc63cb",
   "metadata": {},
   "outputs": [
    {
     "name": "stdout",
     "output_type": "stream",
     "text": [
      "Epoch 1/20\n"
     ]
    },
    {
     "name": "stderr",
     "output_type": "stream",
     "text": [
      "C:\\Users\\blasf\\AppData\\Roaming\\Python\\Python39\\site-packages\\keras\\backend.py:5612: UserWarning: \"`sparse_categorical_crossentropy` received `from_logits=True`, but the `output` argument was produced by a Softmax activation and thus does not represent logits. Was this intended?\n",
      "  output, from_logits = _get_logits(\n"
     ]
    },
    {
     "name": "stdout",
     "output_type": "stream",
     "text": [
      "1564/1564 [==============================] - 44s 24ms/step - loss: 0.4272 - accuracy: 0.9144 - val_loss: 0.2928 - val_accuracy: 0.9542\n",
      "Epoch 2/20\n",
      "1564/1564 [==============================] - 37s 24ms/step - loss: 0.3008 - accuracy: 0.9531 - val_loss: 0.2532 - val_accuracy: 0.9678\n",
      "Epoch 3/20\n",
      "1564/1564 [==============================] - 49s 31ms/step - loss: 0.2718 - accuracy: 0.9619 - val_loss: 0.2673 - val_accuracy: 0.9654\n",
      "Epoch 4/20\n",
      "1564/1564 [==============================] - 54s 35ms/step - loss: 0.2580 - accuracy: 0.9658 - val_loss: 0.2384 - val_accuracy: 0.9724\n",
      "Epoch 5/20\n",
      "1564/1564 [==============================] - 52s 33ms/step - loss: 0.2467 - accuracy: 0.9682 - val_loss: 0.2372 - val_accuracy: 0.9715\n",
      "Epoch 6/20\n",
      "1564/1564 [==============================] - 52s 33ms/step - loss: 0.2419 - accuracy: 0.9686 - val_loss: 0.2348 - val_accuracy: 0.9690\n",
      "Epoch 7/20\n",
      "1564/1564 [==============================] - 49s 32ms/step - loss: 0.2367 - accuracy: 0.9700 - val_loss: 0.2259 - val_accuracy: 0.9747\n",
      "Epoch 8/20\n",
      "1564/1564 [==============================] - 52s 33ms/step - loss: 0.2277 - accuracy: 0.9710 - val_loss: 0.2082 - val_accuracy: 0.9757\n",
      "Epoch 9/20\n",
      "1564/1564 [==============================] - 53s 34ms/step - loss: 0.2225 - accuracy: 0.9712 - val_loss: 0.2083 - val_accuracy: 0.9770\n",
      "Epoch 10/20\n",
      "1564/1564 [==============================] - 44s 28ms/step - loss: 0.2196 - accuracy: 0.9715 - val_loss: 0.2142 - val_accuracy: 0.9740\n",
      "Epoch 11/20\n",
      "1564/1564 [==============================] - 40s 26ms/step - loss: 0.2122 - accuracy: 0.9729 - val_loss: 0.1957 - val_accuracy: 0.9799\n",
      "Epoch 12/20\n",
      "1564/1564 [==============================] - 41s 26ms/step - loss: 0.2084 - accuracy: 0.9732 - val_loss: 0.2053 - val_accuracy: 0.9760\n",
      "Epoch 13/20\n",
      "1564/1564 [==============================] - 43s 27ms/step - loss: 0.2093 - accuracy: 0.9730 - val_loss: 0.1970 - val_accuracy: 0.9777\n",
      "Epoch 14/20\n",
      "1564/1564 [==============================] - 39s 25ms/step - loss: 0.2048 - accuracy: 0.9738 - val_loss: 0.1928 - val_accuracy: 0.9767\n",
      "Epoch 15/20\n",
      "1564/1564 [==============================] - 40s 26ms/step - loss: 0.2041 - accuracy: 0.9741 - val_loss: 0.2165 - val_accuracy: 0.9698\n",
      "Epoch 16/20\n",
      "1564/1564 [==============================] - 41s 27ms/step - loss: 0.1989 - accuracy: 0.9749 - val_loss: 0.2033 - val_accuracy: 0.9758\n",
      "Epoch 17/20\n",
      "1564/1564 [==============================] - 43s 28ms/step - loss: 0.2007 - accuracy: 0.9744 - val_loss: 0.1925 - val_accuracy: 0.9783\n",
      "Epoch 18/20\n",
      "1564/1564 [==============================] - 51s 33ms/step - loss: 0.1993 - accuracy: 0.9746 - val_loss: 0.1827 - val_accuracy: 0.9780\n",
      "Epoch 19/20\n",
      "1564/1564 [==============================] - 39s 25ms/step - loss: 0.1971 - accuracy: 0.9740 - val_loss: 0.1933 - val_accuracy: 0.9742\n",
      "Epoch 20/20\n",
      "1564/1564 [==============================] - 45s 29ms/step - loss: 0.1952 - accuracy: 0.9743 - val_loss: 0.1903 - val_accuracy: 0.9751\n"
     ]
    }
   ],
   "source": [
    "n_epoch = 20\n",
    "\n",
    "history = model.fit(\n",
    "    x_train, \n",
    "    y_train,  \n",
    "    epochs=n_epoch, \n",
    "    verbose=1, \n",
    "    validation_data=(x_val, y_val))"
   ]
  },
  {
   "cell_type": "markdown",
   "id": "6cc14682",
   "metadata": {},
   "source": [
    "# Grafics"
   ]
  },
  {
   "cell_type": "code",
   "execution_count": 59,
   "id": "571ac14e",
   "metadata": {},
   "outputs": [
    {
     "data": {
      "image/png": "[encoded data removed]",
      "text/plain": [
       "<Figure size 1152x648 with 2 Axes>"
      ]
     },
     "metadata": {
      "needs_background": "light"
     },
     "output_type": "display_data"
    }
   ],
   "source": [
    "def visualizacion_resultados(n,history):\n",
    "    epochs = [i for i in range( n  )]\n",
    "    fig, ax = plt.subplots(1,2)\n",
    "    train_acc = history.history[\"accuracy\"]\n",
    "    train_loss = history.history[\"loss\"]\n",
    "    val_acc = history.history[\"val_accuracy\"]\n",
    "    val_loss = history.history[\"val_loss\"]\n",
    "    fig.set_size_inches(16,9)\n",
    "\n",
    "    ax[0].plot(epochs, train_acc, \"go-\",label = \"Entrenamiento accuracy\")\n",
    "    ax[0].plot(epochs, val_acc, \"bo-\",label = \"Validación accuracy\")\n",
    "    ax[0].set_title(\"Entrenamiento y validación accuracy\")\n",
    "    ax[0].legend()\n",
    "    ax[0].set_xlabel(\"Epochs\")\n",
    "    ax[0].set_ylabel(\"Accuracy\")\n",
    "    ax[0].grid()\n",
    "\n",
    "    ax[1].plot(epochs, train_loss, \"go-\",label = \"Entrenamiento loss\")\n",
    "    ax[1].plot(epochs, val_loss, \"bo-\",label = \"Validación loss\")\n",
    "    ax[1].set_title(\"Entrenamiento y validación loss\")\n",
    "    ax[1].legend()\n",
    "    ax[1].set_xlabel(\"Epochs\")\n",
    "    ax[1].set_ylabel(\"Loss\")\n",
    "    ax[1].grid()\n",
    "    \n",
    "\n",
    "    plt.show() \n",
    "visualizacion_resultados(n_epoch,history)"
   ]
  },
  {
   "cell_type": "code",
   "execution_count": null,
   "id": "8e289df6",
   "metadata": {},
   "outputs": [],
   "source": []
  },
  {
   "cell_type": "code",
   "execution_count": 60,
   "id": "3ab9b51b",
   "metadata": {},
   "outputs": [],
   "source": [
    "# n_epoch"
   ]
  },
  {
   "cell_type": "markdown",
   "id": "f1558d7e",
   "metadata": {},
   "source": [
    "# evaluate for examples"
   ]
  },
  {
   "cell_type": "markdown",
   "id": "bb67efa3",
   "metadata": {},
   "source": [
    "The __Model.evaluate__ method checks the model's performance, usually on a validation set or test set."
   ]
  },
  {
   "cell_type": "code",
   "execution_count": 61,
   "id": "982beb17",
   "metadata": {},
   "outputs": [
    {
     "name": "stdout",
     "output_type": "stream",
     "text": [
      "313/313 - 5s - loss: 0.1886 - accuracy: 0.9773 - 5s/epoch - 15ms/step\n"
     ]
    },
    {
     "data": {
      "text/plain": [
       "[0.18860626220703125, 0.9772999882698059]"
      ]
     },
     "execution_count": 61,
     "metadata": {},
     "output_type": "execute_result"
    }
   ],
   "source": [
    "model.evaluate(x_test,  y_test, verbose=2)"
   ]
  },
  {
   "cell_type": "code",
   "execution_count": 62,
   "id": "63b762cf",
   "metadata": {},
   "outputs": [
    {
     "name": "stdout",
     "output_type": "stream",
     "text": [
      "0 : 6.10358057429039e-08\n",
      "1 : 5.081306539977959e-07\n",
      "2 : 1.1827904017991386e-05\n",
      "3 : 3.6590521631296724e-05\n",
      "4 : 4.972823148818861e-07\n",
      "5 : 3.8569743310290505e-07\n",
      "6 : 9.516025467615208e-11\n",
      "7 : 0.9999425411224365\n",
      "8 : 9.479988705152209e-08\n",
      "9 : 7.532899417128647e-06\n"
     ]
    }
   ],
   "source": [
    "predictions = model(x_test[:1]).numpy()\n",
    "\n",
    "for i, value in enumerate(predictions[0]):\n",
    "    print(f'{i} : {value}')\n"
   ]
  },
  {
   "cell_type": "code",
   "execution_count": 63,
   "id": "50fb6a39",
   "metadata": {
    "scrolled": true
   },
   "outputs": [
    {
     "name": "stdout",
     "output_type": "stream",
     "text": [
      "El valor real  [ 7 ] predicho :[ 7 ] con 23.195794224739075 probabilidad \n",
      "\n",
      "El valor real  [ 7 ] predicho :[ 3 ] con 8.534058928489685 probabilidad \n",
      "\n",
      "El valor real  [ 7 ] predicho :[ 2 ] con 8.533847332000732 probabilidad \n",
      "\n",
      "El valor real  [ 7 ] predicho :[ 9 ] con 8.533810079097748 probabilidad \n",
      "\n",
      "El valor real  [ 7 ] predicho :[ 1 ] con 8.533751219511032 probabilidad \n",
      "\n",
      "El valor real  [ 7 ] predicho :[ 4 ] con 8.533750474452972 probabilidad \n",
      "\n",
      "El valor real  [ 7 ] predicho :[ 5 ] con 8.533748984336853 probabilidad \n",
      "\n",
      "El valor real  [ 7 ] predicho :[ 0 ] con 8.533746749162674 probabilidad \n",
      "\n",
      "El valor real  [ 7 ] predicho :[ 8 ] con 8.533746749162674 probabilidad \n",
      "\n",
      "El valor real  [ 7 ] predicho :[ 6 ] con 8.533746004104614 probabilidad \n",
      "\n",
      "<<<<<<<<<<<<<<<<<<<>>>>>>>>>>>>>>>>>>>>>>>>>>>>>>>>>>>>>>>>>>>>>>\n",
      "El valor real  [ 2 ] predicho :[ 2 ] con 23.186492919921875 probabilidad \n",
      "\n",
      "El valor real  [ 2 ] predicho :[ 1 ] con 8.538253605365753 probabilidad \n",
      "\n",
      "El valor real  [ 2 ] predicho :[ 6 ] con 8.53455737233162 probabilidad \n",
      "\n",
      "El valor real  [ 2 ] predicho :[ 3 ] con 8.534546196460724 probabilidad \n",
      "\n",
      "El valor real  [ 2 ] predicho :[ 7 ] con 8.534419536590576 probabilidad \n",
      "\n",
      "El valor real  [ 2 ] predicho :[ 8 ] con 8.534389734268188 probabilidad \n",
      "\n",
      "El valor real  [ 2 ] predicho :[ 0 ] con 8.53433758020401 probabilidad \n",
      "\n",
      "El valor real  [ 2 ] predicho :[ 5 ] con 8.53433683514595 probabilidad \n",
      "\n",
      "El valor real  [ 2 ] predicho :[ 4 ] con 8.534334599971771 probabilidad \n",
      "\n",
      "El valor real  [ 2 ] predicho :[ 9 ] con 8.534333854913712 probabilidad \n",
      "\n",
      "<<<<<<<<<<<<<<<<<<<>>>>>>>>>>>>>>>>>>>>>>>>>>>>>>>>>>>>>>>>>>>>>>\n",
      "El valor real  [ 1 ] predicho :[ 1 ] con 23.195597529411316 probabilidad \n",
      "\n",
      "El valor real  [ 1 ] predicho :[ 7 ] con 8.534161001443863 probabilidad \n",
      "\n",
      "El valor real  [ 1 ] predicho :[ 4 ] con 8.533824980258942 probabilidad \n",
      "\n",
      "El valor real  [ 1 ] predicho :[ 8 ] con 8.533819764852524 probabilidad \n",
      "\n",
      "El valor real  [ 1 ] predicho :[ 2 ] con 8.53378102183342 probabilidad \n",
      "\n",
      "El valor real  [ 1 ] predicho :[ 6 ] con 8.53377878665924 probabilidad \n",
      "\n",
      "El valor real  [ 1 ] predicho :[ 9 ] con 8.533761650323868 probabilidad \n",
      "\n",
      "El valor real  [ 1 ] predicho :[ 3 ] con 8.533760905265808 probabilidad \n",
      "\n",
      "El valor real  [ 1 ] predicho :[ 5 ] con 8.533760160207748 probabilidad \n",
      "\n",
      "El valor real  [ 1 ] predicho :[ 0 ] con 8.533759415149689 probabilidad \n",
      "\n",
      "<<<<<<<<<<<<<<<<<<<>>>>>>>>>>>>>>>>>>>>>>>>>>>>>>>>>>>>>>>>>>>>>>\n",
      "El valor real  [ 0 ] predicho :[ 0 ] con 23.18626195192337 probabilidad \n",
      "\n",
      "El valor real  [ 0 ] predicho :[ 6 ] con 8.538904786109924 probabilidad \n",
      "\n",
      "El valor real  [ 0 ] predicho :[ 5 ] con 8.53436067700386 probabilidad \n",
      "\n",
      "El valor real  [ 0 ] predicho :[ 2 ] con 8.534358441829681 probabilidad \n",
      "\n",
      "El valor real  [ 0 ] predicho :[ 9 ] con 8.534356951713562 probabilidad \n",
      "\n",
      "El valor real  [ 0 ] predicho :[ 4 ] con 8.534354716539383 probabilidad \n",
      "\n",
      "El valor real  [ 0 ] predicho :[ 7 ] con 8.534351736307144 probabilidad \n",
      "\n",
      "El valor real  [ 0 ] predicho :[ 3 ] con 8.534349501132965 probabilidad \n",
      "\n",
      "El valor real  [ 0 ] predicho :[ 1 ] con 8.534348011016846 probabilidad \n",
      "\n",
      "El valor real  [ 0 ] predicho :[ 8 ] con 8.534348011016846 probabilidad \n",
      "\n",
      "<<<<<<<<<<<<<<<<<<<>>>>>>>>>>>>>>>>>>>>>>>>>>>>>>>>>>>>>>>>>>>>>>\n",
      "El valor real  [ 4 ] predicho :[ 4 ] con 23.19691628217697 probabilidad \n",
      "\n",
      "El valor real  [ 4 ] predicho :[ 9 ] con 8.533681184053421 probabilidad \n",
      "\n",
      "El valor real  [ 4 ] predicho :[ 8 ] con 8.533675223588943 probabilidad \n",
      "\n",
      "El valor real  [ 4 ] predicho :[ 0 ] con 8.533674478530884 probabilidad \n",
      "\n",
      "El valor real  [ 4 ] predicho :[ 1 ] con 8.533674478530884 probabilidad \n",
      "\n",
      "El valor real  [ 4 ] predicho :[ 2 ] con 8.533674478530884 probabilidad \n",
      "\n",
      "El valor real  [ 4 ] predicho :[ 3 ] con 8.533674478530884 probabilidad \n",
      "\n",
      "El valor real  [ 4 ] predicho :[ 5 ] con 8.533674478530884 probabilidad \n",
      "\n",
      "El valor real  [ 4 ] predicho :[ 6 ] con 8.533674478530884 probabilidad \n",
      "\n",
      "El valor real  [ 4 ] predicho :[ 7 ] con 8.533674478530884 probabilidad \n",
      "\n",
      "<<<<<<<<<<<<<<<<<<<>>>>>>>>>>>>>>>>>>>>>>>>>>>>>>>>>>>>>>>>>>>>>>\n",
      "El valor real  [ 1 ] predicho :[ 1 ] con 23.196762800216675 probabilidad \n",
      "\n",
      "El valor real  [ 1 ] predicho :[ 7 ] con 8.533740043640137 probabilidad \n",
      "\n",
      "El valor real  [ 1 ] predicho :[ 4 ] con 8.533696830272675 probabilidad \n",
      "\n",
      "El valor real  [ 1 ] predicho :[ 8 ] con 8.533689379692078 probabilidad \n",
      "\n",
      "El valor real  [ 1 ] predicho :[ 6 ] con 8.533687144517899 probabilidad \n",
      "\n",
      "El valor real  [ 1 ] predicho :[ 2 ] con 8.533686399459839 probabilidad \n",
      "\n",
      "El valor real  [ 1 ] predicho :[ 0 ] con 8.53368565440178 probabilidad \n",
      "\n",
      "El valor real  [ 1 ] predicho :[ 3 ] con 8.53368565440178 probabilidad \n",
      "\n",
      "El valor real  [ 1 ] predicho :[ 5 ] con 8.53368565440178 probabilidad \n",
      "\n",
      "El valor real  [ 1 ] predicho :[ 9 ] con 8.53368565440178 probabilidad \n",
      "\n",
      "<<<<<<<<<<<<<<<<<<<>>>>>>>>>>>>>>>>>>>>>>>>>>>>>>>>>>>>>>>>>>>>>>\n",
      "El valor real  [ 4 ] predicho :[ 4 ] con 23.188208043575287 probabilidad \n",
      "\n",
      "El valor real  [ 4 ] predicho :[ 9 ] con 8.536874502897263 probabilidad \n",
      "\n",
      "El valor real  [ 4 ] predicho :[ 8 ] con 8.535172790288925 probabilidad \n",
      "\n",
      "El valor real  [ 4 ] predicho :[ 7 ] con 8.534271270036697 probabilidad \n",
      "\n",
      "El valor real  [ 4 ] predicho :[ 6 ] con 8.534254878759384 probabilidad \n",
      "\n",
      "El valor real  [ 4 ] predicho :[ 1 ] con 8.534253388643265 probabilidad \n",
      "\n",
      "El valor real  [ 4 ] predicho :[ 5 ] con 8.534251153469086 probabilidad \n",
      "\n",
      "El valor real  [ 4 ] predicho :[ 2 ] con 8.53423997759819 probabilidad \n",
      "\n",
      "El valor real  [ 4 ] predicho :[ 0 ] con 8.534238487482071 probabilidad \n",
      "\n",
      "El valor real  [ 4 ] predicho :[ 3 ] con 8.534227311611176 probabilidad \n",
      "\n",
      "<<<<<<<<<<<<<<<<<<<>>>>>>>>>>>>>>>>>>>>>>>>>>>>>>>>>>>>>>>>>>>>>>\n",
      "El valor real  [ 9 ] predicho :[ 9 ] con 23.185381293296814 probabilidad \n",
      "\n",
      "El valor real  [ 9 ] predicho :[ 4 ] con 8.536132425069809 probabilidad \n",
      "\n",
      "El valor real  [ 9 ] predicho :[ 3 ] con 8.535642176866531 probabilidad \n",
      "\n",
      "El valor real  [ 9 ] predicho :[ 5 ] con 8.535310626029968 probabilidad \n",
      "\n",
      "El valor real  [ 9 ] predicho :[ 7 ] con 8.535150438547134 probabilidad \n",
      "\n",
      "El valor real  [ 9 ] predicho :[ 8 ] con 8.534611016511917 probabilidad \n",
      "\n",
      "El valor real  [ 9 ] predicho :[ 0 ] con 8.534500002861023 probabilidad \n",
      "\n",
      "El valor real  [ 9 ] predicho :[ 1 ] con 8.534441143274307 probabilidad \n",
      "\n",
      "El valor real  [ 9 ] predicho :[ 2 ] con 8.534431457519531 probabilidad \n",
      "\n",
      "El valor real  [ 9 ] predicho :[ 6 ] con 8.534405380487442 probabilidad \n",
      "\n",
      "<<<<<<<<<<<<<<<<<<<>>>>>>>>>>>>>>>>>>>>>>>>>>>>>>>>>>>>>>>>>>>>>>\n",
      "El valor real  [ 5 ] predicho :[ 5 ] con 15.747082233428955 probabilidad \n",
      "\n",
      "El valor real  [ 5 ] predicho :[ 6 ] con 13.448956608772278 probabilidad \n",
      "\n",
      "El valor real  [ 5 ] predicho :[ 8 ] con 8.87744277715683 probabilidad \n",
      "\n",
      "El valor real  [ 5 ] predicho :[ 9 ] con 8.849343657493591 probabilidad \n",
      "\n",
      "El valor real  [ 5 ] predicho :[ 4 ] con 8.846661448478699 probabilidad \n",
      "\n",
      "El valor real  [ 5 ] predicho :[ 2 ] con 8.846532553434372 probabilidad \n",
      "\n",
      "El valor real  [ 5 ] predicho :[ 3 ] con 8.8463693857193 probabilidad \n",
      "\n",
      "El valor real  [ 5 ] predicho :[ 0 ] con 8.845987915992737 probabilidad \n",
      "\n",
      "El valor real  [ 5 ] predicho :[ 7 ] con 8.845825493335724 probabilidad \n",
      "\n",
      "El valor real  [ 5 ] predicho :[ 1 ] con 8.845788985490799 probabilidad \n",
      "\n",
      "<<<<<<<<<<<<<<<<<<<>>>>>>>>>>>>>>>>>>>>>>>>>>>>>>>>>>>>>>>>>>>>>>\n",
      "El valor real  [ 9 ] predicho :[ 9 ] con 23.17207008600235 probabilidad \n",
      "\n",
      "El valor real  [ 9 ] predicho :[ 7 ] con 8.53998214006424 probabilidad \n",
      "\n",
      "El valor real  [ 9 ] predicho :[ 4 ] con 8.539838343858719 probabilidad \n",
      "\n",
      "El valor real  [ 9 ] predicho :[ 3 ] con 8.535851538181305 probabilidad \n",
      "\n",
      "El valor real  [ 9 ] predicho :[ 5 ] con 8.535714447498322 probabilidad \n",
      "\n",
      "El valor real  [ 9 ] predicho :[ 8 ] con 8.535416424274445 probabilidad \n",
      "\n",
      "El valor real  [ 9 ] predicho :[ 0 ] con 8.53532999753952 probabilidad \n",
      "\n",
      "El valor real  [ 9 ] predicho :[ 1 ] con 8.535290509462357 probabilidad \n",
      "\n",
      "El valor real  [ 9 ] predicho :[ 2 ] con 8.53525623679161 probabilidad \n",
      "\n",
      "El valor real  [ 9 ] predicho :[ 6 ] con 8.535244315862656 probabilidad \n",
      "\n",
      "<<<<<<<<<<<<<<<<<<<>>>>>>>>>>>>>>>>>>>>>>>>>>>>>>>>>>>>>>>>>>>>>>\n"
     ]
    }
   ],
   "source": [
    "xaux=x_test\n",
    "yauc=y_test\n",
    "for n in range(0,10)  :\n",
    "    predictions = model(xaux[n:n+1]).numpy()\n",
    "\n",
    "    arr = tf.nn.softmax(predictions).numpy()[0]\n",
    "\n",
    "    # Convertimos el array a un diccionario\n",
    "    dict_arr = dict(zip(range(len(arr)), arr.tolist()))\n",
    "\n",
    "    d_ordenado = dict(sorted(dict_arr.items(), key=lambda x: x[1], reverse=True))\n",
    "\n",
    "    for key, value in d_ordenado.items():\n",
    "        print( \"El valor real  [\", yauc[n], '] predicho :[',key, \"] con\", value*100,'probabilidad','\\n')\n",
    "    print('<<<<<<<<<<<<<<<<<<<>>>>>>>>>>>>>>>>>>>>>>>>>>>>>>>>>>>>>>>>>>>>>>')\n",
    "\n",
    "    "
   ]
  },
  {
   "cell_type": "code",
   "execution_count": 64,
   "id": "52cda585",
   "metadata": {},
   "outputs": [
    {
     "name": "stdout",
     "output_type": "stream",
     "text": [
      "0 4\n",
      "1 3\n",
      "2 5\n",
      "3 0\n",
      "4 7\n",
      "5 0\n",
      "6 5\n",
      "7 0\n",
      "8 1\n",
      "9 8\n",
      "10 0\n",
      "11 9\n",
      "12 3\n",
      "13 8\n",
      "14 5\n",
      "15 1\n",
      "16 7\n",
      "17 9\n",
      "18 3\n",
      "19 8\n",
      "20 5\n",
      "21 6\n",
      "22 1\n",
      "23 6\n",
      "24 1\n",
      "25 0\n",
      "26 4\n",
      "27 2\n",
      "28 1\n",
      "29 9\n",
      "30 5\n",
      "31 3\n",
      "32 1\n",
      "33 7\n",
      "34 8\n",
      "35 9\n",
      "36 1\n",
      "37 1\n",
      "38 1\n",
      "39 1\n",
      "40 2\n",
      "41 9\n",
      "42 2\n",
      "43 7\n",
      "44 8\n",
      "45 6\n",
      "46 9\n",
      "47 1\n",
      "48 0\n",
      "49 8\n"
     ]
    }
   ],
   "source": [
    "for i in range(50) : \n",
    "    print(i,y_train[i])"
   ]
  }
 ],
 "metadata": {
  "kernelspec": {
   "display_name": "Python 3 (ipykernel)",
   "language": "python",
   "name": "python3"
  },
  "language_info": {
   "codemirror_mode": {
    "name": "ipython",
    "version": 3
   },
   "file_extension": ".py",
   "mimetype": "text/x-python",
   "name": "python",
   "nbconvert_exporter": "python",
   "pygments_lexer": "ipython3",
   "version": "3.9.12"
  },
  "toc": {
   "base_numbering": 1,
   "nav_menu": {},
   "number_sections": true,
   "sideBar": true,
   "skip_h1_title": false,
   "title_cell": "Table of Contents",
   "title_sidebar": "Contents",
   "toc_cell": false,
   "toc_position": {},
   "toc_section_display": true,
   "toc_window_display": false
  }
 },
 "nbformat": 4,
 "nbformat_minor": 5
}
