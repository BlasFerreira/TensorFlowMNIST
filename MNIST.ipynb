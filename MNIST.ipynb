{
 "cells": [
  {
   "cell_type": "markdown",
   "id": "24c42ee9",
   "metadata": {},
   "source": [
    "# Import"
   ]
  },
  {
   "cell_type": "markdown",
   "id": "471688b1",
   "metadata": {},
   "source": [
    "## Library"
   ]
  },
  {
   "cell_type": "code",
   "execution_count": 1,
   "id": "7ccd1d7d",
   "metadata": {},
   "outputs": [
    {
     "name": "stdout",
     "output_type": "stream",
     "text": [
      "TensorFlow version: 2.9.1\n"
     ]
    }
   ],
   "source": [
    "import tensorflow as tf\n",
    "import numpy as np\n",
    "print(\"TensorFlow version:\", tf.__version__)\n",
    "\n",
    "import numpy as np\n",
    "import pandas as pd\n",
    "import matplotlib.pyplot as plt\n",
    "import seaborn as sns\n",
    "# Logistic Regression Clasificator\n",
    "from sklearn.linear_model import LogisticRegression\n",
    "# import warnings\n",
    "# warnings.filterwarnings('ignore')\n",
    "\n",
    "from PIL import Image\n",
    "import numpy as np\n"
   ]
  },
  {
   "cell_type": "markdown",
   "id": "10eb2e04",
   "metadata": {},
   "source": [
    "## Dataset"
   ]
  },
  {
   "cell_type": "code",
   "execution_count": 2,
   "id": "02c1aae9",
   "metadata": {},
   "outputs": [],
   "source": [
    "# Load and prepare the MNIST dataset\n",
    "mnist = tf.keras.datasets.mnist"
   ]
  },
  {
   "cell_type": "markdown",
   "id": "79502ed0",
   "metadata": {},
   "source": [
    "### Split"
   ]
  },
  {
   "cell_type": "code",
   "execution_count": 3,
   "id": "efdc2678",
   "metadata": {},
   "outputs": [],
   "source": [
    "# Split dataset in data of Train and Data od Test\n",
    "(x_train, y_train), (x_test, y_test) = mnist.load_data()"
   ]
  },
  {
   "cell_type": "code",
   "execution_count": 4,
   "id": "a52c1bbe",
   "metadata": {},
   "outputs": [
    {
     "data": {
      "text/plain": [
       "5"
      ]
     },
     "execution_count": 4,
     "metadata": {},
     "output_type": "execute_result"
    }
   ],
   "source": [
    "y_train[0]"
   ]
  },
  {
   "cell_type": "code",
   "execution_count": 5,
   "id": "c2c3fa97",
   "metadata": {},
   "outputs": [
    {
     "data": {
      "text/plain": [
       "array([[  0,   0,   0,   0,   0,   0,   0,   0,   0,   0,   0,   0,   0,\n",
       "          0,   0,   0,   0,   0,   0,   0,   0,   0,   0,   0,   0,   0,\n",
       "          0,   0],\n",
       "       [  0,   0,   0,   0,   0,   0,   0,   0,   0,   0,   0,   0,   0,\n",
       "          0,   0,   0,   0,   0,   0,   0,   0,   0,   0,   0,   0,   0,\n",
       "          0,   0],\n",
       "       [  0,   0,   0,   0,   0,   0,   0,   0,   0,   0,   0,   0,   0,\n",
       "          0,   0,   0,   0,   0,   0,   0,   0,   0,   0,   0,   0,   0,\n",
       "          0,   0],\n",
       "       [  0,   0,   0,   0,   0,   0,   0,   0,   0,   0,   0,   0,   0,\n",
       "          0,   0,   0,   0,   0,   0,   0,   0,   0,   0,   0,   0,   0,\n",
       "          0,   0],\n",
       "       [  0,   0,   0,   0,   0,   0,   0,   0,   0,   0,   0,   0,   0,\n",
       "          0,   0,   0,   0,   0,   0,   0,   0,   0,   0,   0,   0,   0,\n",
       "          0,   0],\n",
       "       [  0,   0,   0,   0,   0,   0,   0,   0,   0,   0,   0,   0,   3,\n",
       "         18,  18,  18, 126, 136, 175,  26, 166, 255, 247, 127,   0,   0,\n",
       "          0,   0],\n",
       "       [  0,   0,   0,   0,   0,   0,   0,   0,  30,  36,  94, 154, 170,\n",
       "        253, 253, 253, 253, 253, 225, 172, 253, 242, 195,  64,   0,   0,\n",
       "          0,   0],\n",
       "       [  0,   0,   0,   0,   0,   0,   0,  49, 238, 253, 253, 253, 253,\n",
       "        253, 253, 253, 253, 251,  93,  82,  82,  56,  39,   0,   0,   0,\n",
       "          0,   0],\n",
       "       [  0,   0,   0,   0,   0,   0,   0,  18, 219, 253, 253, 253, 253,\n",
       "        253, 198, 182, 247, 241,   0,   0,   0,   0,   0,   0,   0,   0,\n",
       "          0,   0],\n",
       "       [  0,   0,   0,   0,   0,   0,   0,   0,  80, 156, 107, 253, 253,\n",
       "        205,  11,   0,  43, 154,   0,   0,   0,   0,   0,   0,   0,   0,\n",
       "          0,   0],\n",
       "       [  0,   0,   0,   0,   0,   0,   0,   0,   0,  14,   1, 154, 253,\n",
       "         90,   0,   0,   0,   0,   0,   0,   0,   0,   0,   0,   0,   0,\n",
       "          0,   0],\n",
       "       [  0,   0,   0,   0,   0,   0,   0,   0,   0,   0,   0, 139, 253,\n",
       "        190,   2,   0,   0,   0,   0,   0,   0,   0,   0,   0,   0,   0,\n",
       "          0,   0],\n",
       "       [  0,   0,   0,   0,   0,   0,   0,   0,   0,   0,   0,  11, 190,\n",
       "        253,  70,   0,   0,   0,   0,   0,   0,   0,   0,   0,   0,   0,\n",
       "          0,   0],\n",
       "       [  0,   0,   0,   0,   0,   0,   0,   0,   0,   0,   0,   0,  35,\n",
       "        241, 225, 160, 108,   1,   0,   0,   0,   0,   0,   0,   0,   0,\n",
       "          0,   0],\n",
       "       [  0,   0,   0,   0,   0,   0,   0,   0,   0,   0,   0,   0,   0,\n",
       "         81, 240, 253, 253, 119,  25,   0,   0,   0,   0,   0,   0,   0,\n",
       "          0,   0],\n",
       "       [  0,   0,   0,   0,   0,   0,   0,   0,   0,   0,   0,   0,   0,\n",
       "          0,  45, 186, 253, 253, 150,  27,   0,   0,   0,   0,   0,   0,\n",
       "          0,   0],\n",
       "       [  0,   0,   0,   0,   0,   0,   0,   0,   0,   0,   0,   0,   0,\n",
       "          0,   0,  16,  93, 252, 253, 187,   0,   0,   0,   0,   0,   0,\n",
       "          0,   0],\n",
       "       [  0,   0,   0,   0,   0,   0,   0,   0,   0,   0,   0,   0,   0,\n",
       "          0,   0,   0,   0, 249, 253, 249,  64,   0,   0,   0,   0,   0,\n",
       "          0,   0],\n",
       "       [  0,   0,   0,   0,   0,   0,   0,   0,   0,   0,   0,   0,   0,\n",
       "          0,  46, 130, 183, 253, 253, 207,   2,   0,   0,   0,   0,   0,\n",
       "          0,   0],\n",
       "       [  0,   0,   0,   0,   0,   0,   0,   0,   0,   0,   0,   0,  39,\n",
       "        148, 229, 253, 253, 253, 250, 182,   0,   0,   0,   0,   0,   0,\n",
       "          0,   0],\n",
       "       [  0,   0,   0,   0,   0,   0,   0,   0,   0,   0,  24, 114, 221,\n",
       "        253, 253, 253, 253, 201,  78,   0,   0,   0,   0,   0,   0,   0,\n",
       "          0,   0],\n",
       "       [  0,   0,   0,   0,   0,   0,   0,   0,  23,  66, 213, 253, 253,\n",
       "        253, 253, 198,  81,   2,   0,   0,   0,   0,   0,   0,   0,   0,\n",
       "          0,   0],\n",
       "       [  0,   0,   0,   0,   0,   0,  18, 171, 219, 253, 253, 253, 253,\n",
       "        195,  80,   9,   0,   0,   0,   0,   0,   0,   0,   0,   0,   0,\n",
       "          0,   0],\n",
       "       [  0,   0,   0,   0,  55, 172, 226, 253, 253, 253, 253, 244, 133,\n",
       "         11,   0,   0,   0,   0,   0,   0,   0,   0,   0,   0,   0,   0,\n",
       "          0,   0],\n",
       "       [  0,   0,   0,   0, 136, 253, 253, 253, 212, 135, 132,  16,   0,\n",
       "          0,   0,   0,   0,   0,   0,   0,   0,   0,   0,   0,   0,   0,\n",
       "          0,   0],\n",
       "       [  0,   0,   0,   0,   0,   0,   0,   0,   0,   0,   0,   0,   0,\n",
       "          0,   0,   0,   0,   0,   0,   0,   0,   0,   0,   0,   0,   0,\n",
       "          0,   0],\n",
       "       [  0,   0,   0,   0,   0,   0,   0,   0,   0,   0,   0,   0,   0,\n",
       "          0,   0,   0,   0,   0,   0,   0,   0,   0,   0,   0,   0,   0,\n",
       "          0,   0],\n",
       "       [  0,   0,   0,   0,   0,   0,   0,   0,   0,   0,   0,   0,   0,\n",
       "          0,   0,   0,   0,   0,   0,   0,   0,   0,   0,   0,   0,   0,\n",
       "          0,   0]], dtype=uint8)"
      ]
     },
     "execution_count": 5,
     "metadata": {},
     "output_type": "execute_result"
    }
   ],
   "source": [
    "np.reshape(x_train[:1], ( 28, 28) )"
   ]
  },
  {
   "cell_type": "markdown",
   "id": "24928c66",
   "metadata": {},
   "source": [
    "### Information of Data"
   ]
  },
  {
   "cell_type": "code",
   "execution_count": 6,
   "id": "7d44dc28",
   "metadata": {},
   "outputs": [
    {
     "name": "stdout",
     "output_type": "stream",
     "text": [
      "x_train.shape : (60000, 28, 28)\n",
      "y_train.shape : (60000,)\n",
      "\n",
      "x_test.shape : (10000, 28, 28)\n",
      "y_test.shape : (10000,)\n"
     ]
    }
   ],
   "source": [
    "print(f'x_train.shape : {x_train.shape}')\n",
    "print(f'y_train.shape : {y_train.shape}\\n')\n",
    "print(f'x_test.shape : {x_test.shape}')\n",
    "print(f'y_test.shape : {y_test.shape}')"
   ]
  },
  {
   "cell_type": "markdown",
   "id": "caa076f2",
   "metadata": {},
   "source": [
    "The pixel values of the images range from __0__ through __255__. Scale these values to a range of __0__ to **1** by dividing the values by __255.0__. This also converts the sample data from integers to floating-point numbers:"
   ]
  },
  {
   "cell_type": "code",
   "execution_count": 7,
   "id": "dc86b088",
   "metadata": {},
   "outputs": [],
   "source": [
    "x_train, x_test = x_train / 255.0, x_test / 255.0"
   ]
  },
  {
   "cell_type": "code",
   "execution_count": 8,
   "id": "fcd28fdc",
   "metadata": {},
   "outputs": [
    {
     "data": {
      "text/plain": [
       "(28, 28)"
      ]
     },
     "execution_count": 8,
     "metadata": {},
     "output_type": "execute_result"
    }
   ],
   "source": [
    "x_train[0].shape"
   ]
  },
  {
   "cell_type": "code",
   "execution_count": 9,
   "id": "96ec5052",
   "metadata": {},
   "outputs": [
    {
     "data": {
      "text/plain": [
       "numpy.ndarray"
      ]
     },
     "execution_count": 9,
     "metadata": {},
     "output_type": "execute_result"
    }
   ],
   "source": [
    "type(x_train)"
   ]
  },
  {
   "cell_type": "markdown",
   "id": "11c6dada",
   "metadata": {},
   "source": [
    "![](MNIST.png)"
   ]
  },
  {
   "cell_type": "markdown",
   "id": "cf3787e1",
   "metadata": {},
   "source": [
    "# Build a machine learning model"
   ]
  },
  {
   "cell_type": "markdown",
   "id": "aa041322",
   "metadata": {},
   "source": [
    "## Build a tf.keras.Sequential model:"
   ]
  },
  {
   "cell_type": "markdown",
   "id": "0d0c8f85",
   "metadata": {},
   "source": [
    "![](1_N8UXaiUKWurFLdmEhEHiWg.jpg)"
   ]
  },
  {
   "cell_type": "code",
   "execution_count": 10,
   "id": "df2d8af6",
   "metadata": {},
   "outputs": [],
   "source": [
    "model = tf.keras.models.Sequential([\n",
    "  tf.keras.layers.Flatten(input_shape=(28, 28)),\n",
    "  tf.keras.layers.Dense(128, activation='relu'),\n",
    "  tf.keras.layers.Dropout(0.2),#regularización y reducir el sobreajuste del modelo\n",
    "  tf.keras.layers.Dense(10) #Esta capa tiene 10 neuronas, lo que indica que este modelo se utiliza para clasificación de 10 categorías\n",
    "])"
   ]
  },
  {
   "cell_type": "markdown",
   "id": "6e679d78",
   "metadata": {},
   "source": [
    "- __tf.keras.layers.Flatten__ (La capa de aplanamiento ) es una capa de procesamiento que convierte una matriz de __entrada multidimensional__ en un vector __unidimensional__. Esta capa se utiliza comúnmente como la primera capa en una red neuronal para transformar los datos de entrada. La capa de aplanamiento toma una matriz de entrada de __28x28__ (que representa una imagen de __28x28__ píxeles) y la convierte en un vector de __784__ elementos. Esto permite que la red neuronal procese la imagen como una __secuencia unidimensional__ de valores de píxeles en lugar de como una matriz bidimensional.<br><br>\n",
    "\n",
    "- __tf.keras.layers.Dense__ es una capa de redes neuronales __densamente conectada__ en TensorFlow, que implementa la operación de multiplicación de matriz y adición de sesgo en la entrada, seguida de una función de activación. Cada unidad o nodo en la capa está conectado a cada unidad en la capa anterior, y las entradas se multiplican por un conjunto de pesos y se suman a un sesgo antes de aplicar la función de activación. En otras palabras, la capa densa es una capa de neuronas completamente conectada, donde cada neurona en la capa anterior está conectada a todas las neuronas en la capa actual. La capa __Dense__ en la red neuronal se llama así porque __cada neurona de la capa está conectada a todas las neuronas de la capa anterior y de la capa siguiente__. Esto se conoce como __\"conexión densa\"__ o __\"totalmente conectada\"__. Los valores de entrada se multiplican por los pesos, se suman los resultados y se aplica una función de activación para producir los valores de salida de la capa.En resumen, la capa Dense es una capa de red neuronal en la que cada neurona está conectada a todas las neuronas de la capa anterior y de la capa siguiente, lo que permite aprender patrones complejos en los datos<br><br>\n",
    "\n",
    "- __tf.keras.layers.Dropout__ es una capa en TensorFlow que se utiliza para regularizar modelos de aprendizaje profundo y evitar el sobreajuste. Durante el entrenamiento, Dropout apaga de forma aleatoria un número predefinido de unidades de la capa anterior. Esto evita que las unidades se \"especialicen\" demasiado en un subconjunto particular de los datos de entrenamiento, lo que puede resultar en un modelo que no generaliza bien a datos nuevos. El porcentaje de unidades que se apaga se puede ajustar mediante un parámetro llamado \"rate\".<br>\n"
   ]
  },
  {
   "cell_type": "markdown",
   "id": "da495618",
   "metadata": {},
   "source": [
    "Sequential is useful for stacking layers where each layer has one input tensor and one output tensor. Layers are functions with a known mathematical structure that can be reused and have trainable variables. Most TensorFlow models are composed of layers. This model uses the Flatten, Dense, and Dropout layers."
   ]
  },
  {
   "cell_type": "markdown",
   "id": "59607f14",
   "metadata": {},
   "source": [
    "## predictions example"
   ]
  },
  {
   "cell_type": "markdown",
   "id": "0c64f36f",
   "metadata": {},
   "source": [
    "For each example, the model returns a vector of __logits or log-odds scores__, one for each class"
   ]
  },
  {
   "cell_type": "code",
   "execution_count": 11,
   "id": "4893e491",
   "metadata": {},
   "outputs": [
    {
     "name": "stdout",
     "output_type": "stream",
     "text": [
      "0 : -0.22701726853847504\n",
      "1 : -0.3755159080028534\n",
      "2 : -0.013752184808254242\n",
      "3 : 0.19066813588142395\n",
      "4 : 0.011277265846729279\n",
      "5 : 0.09143458306789398\n",
      "6 : 0.07706021517515182\n",
      "7 : -0.44911786913871765\n",
      "8 : -0.0786546915769577\n",
      "9 : 0.5607855916023254\n"
     ]
    }
   ],
   "source": [
    "predictions = model(x_train[:1]).numpy()\n",
    "\n",
    "for i, value in enumerate(predictions[0]):\n",
    "    print(f'{i} : {value}')"
   ]
  },
  {
   "cell_type": "markdown",
   "id": "8ad0787d",
   "metadata": {},
   "source": [
    "## converts these logits to probabilities"
   ]
  },
  {
   "cell_type": "markdown",
   "id": "b8091bf4",
   "metadata": {},
   "source": [
    "The __tf.nn.softmax__ function converts these logits to probabilities for each class:"
   ]
  },
  {
   "cell_type": "code",
   "execution_count": 12,
   "id": "c19e7cc7",
   "metadata": {},
   "outputs": [
    {
     "data": {
      "text/plain": [
       "array([[0.078266  , 0.06746539, 0.09687082, 0.11884245, 0.09932604,\n",
       "        0.10761555, 0.10607971, 0.06267814, 0.09078335, 0.17207254]],\n",
       "      dtype=float32)"
      ]
     },
     "execution_count": 12,
     "metadata": {},
     "output_type": "execute_result"
    }
   ],
   "source": [
    "tf.nn.softmax(predictions).numpy()"
   ]
  },
  {
   "cell_type": "markdown",
   "id": "a693218b",
   "metadata": {},
   "source": [
    "## Define a loss function"
   ]
  },
  {
   "cell_type": "markdown",
   "id": "ab6c7c55",
   "metadata": {},
   "source": [
    "Define a loss function for training using __losses.SparseCategoricalCrossentropy__:"
   ]
  },
  {
   "cell_type": "code",
   "execution_count": 13,
   "id": "610bd8e7",
   "metadata": {},
   "outputs": [],
   "source": [
    "loss_fn = tf.keras.losses.SparseCategoricalCrossentropy(from_logits=True)"
   ]
  },
  {
   "cell_type": "markdown",
   "id": "9632ee7c",
   "metadata": {},
   "source": [
    "The __loss function__ takes a __vector of ground truth values__ and a __vector of logits__ and __returns a scalar loss for each example__. This __loss__ is equal to the __negative log probability of the true class__: The __loss__ is __0__ if the model is sure of the __correct__ class.\n",
    "\n",
    "This untrained model gives probabilities close to random (1/10 for each class), so the initial loss should be close to -tf.math.log(1/10) ~= 2.3."
   ]
  },
  {
   "cell_type": "code",
   "execution_count": 14,
   "id": "d44a933c",
   "metadata": {},
   "outputs": [
    {
     "data": {
      "text/plain": [
       "2.22919"
      ]
     },
     "execution_count": 14,
     "metadata": {},
     "output_type": "execute_result"
    }
   ],
   "source": [
    "loss_fn(y_train[:1], predictions).numpy()"
   ]
  },
  {
   "cell_type": "markdown",
   "id": "3fdc54a8",
   "metadata": {},
   "source": [
    "## Set the optimizer"
   ]
  },
  {
   "cell_type": "code",
   "execution_count": 15,
   "id": "127a683d",
   "metadata": {},
   "outputs": [],
   "source": [
    "model.compile(optimizer = 'adam',\n",
    "              loss = loss_fn,\n",
    "              metrics = ['accuracy'])"
   ]
  },
  {
   "cell_type": "markdown",
   "id": "9735ef51",
   "metadata": {},
   "source": [
    "Adam (Adaptive Moment Estimation) es un __algoritmo de optimización__ de __gradiente descendente estocástico__ utilizado comúnmente para entrenar redes neuronales en el aprendizaje profundo.\n",
    "\n",
    "Adam es un __método de optimización adaptativo__ que combina el enfoque de __Momentum__ y __RMSprop__. Al igual que RMSprop, Adam mantiene un promedio móvil de los cuadrados de los gradientes y, al igual que el enfoque de Momentum, mantiene un __promedio móvil de los gradientes__.\n",
    "\n",
    "El algoritmo adapta la tasa de aprendizaje de cada parámetro en función de la magnitud del gradiente y la magnitud de la media móvil de segundo orden de los gradientes. Adam también incluye un término de corrección de sesgo para compensar la inicialización sesgada de los promedios móviles en las primeras iteraciones.\n",
    "\n",
    "En resumen, Adam es un algoritmo de optimización de gradiente descendente estocástico que adapta la tasa de aprendizaje para cada parámetro en función de la magnitud del gradiente y la media móvil de segundo orden de los gradientes. Es muy popular en el aprendizaje profundo debido a su eficacia y eficiencia en la práctica."
   ]
  },
  {
   "cell_type": "markdown",
   "id": "ef6d1fc7",
   "metadata": {},
   "source": [
    "# Train and evaluate your model"
   ]
  },
  {
   "cell_type": "markdown",
   "id": "1f4ba162",
   "metadata": {},
   "source": [
    "## Train"
   ]
  },
  {
   "cell_type": "markdown",
   "id": "f45bbc35",
   "metadata": {},
   "source": [
    "Use the __Model.fit__ Method to adjust your model parameters and minimize the loss:"
   ]
  },
  {
   "cell_type": "code",
   "execution_count": 16,
   "id": "58bc63cb",
   "metadata": {},
   "outputs": [
    {
     "name": "stdout",
     "output_type": "stream",
     "text": [
      "Epoch 1/5\n",
      "1875/1875 [==============================] - 5s 2ms/step - loss: 0.2936 - accuracy: 0.9152\n",
      "Epoch 2/5\n",
      "1875/1875 [==============================] - 4s 2ms/step - loss: 0.1398 - accuracy: 0.9582\n",
      "Epoch 3/5\n",
      "1875/1875 [==============================] - 4s 2ms/step - loss: 0.1047 - accuracy: 0.9680\n",
      "Epoch 4/5\n",
      "1875/1875 [==============================] - 4s 2ms/step - loss: 0.0854 - accuracy: 0.9739\n",
      "Epoch 5/5\n",
      "1875/1875 [==============================] - 4s 2ms/step - loss: 0.0736 - accuracy: 0.9768\n"
     ]
    }
   ],
   "source": [
    "history = model.fit(x_train, y_train,verbose=1, epochs=5)"
   ]
  },
  {
   "cell_type": "code",
   "execution_count": null,
   "id": "1d01ff3d",
   "metadata": {},
   "outputs": [],
   "source": []
  },
  {
   "cell_type": "markdown",
   "id": "f1558d7e",
   "metadata": {},
   "source": [
    "## evaluate"
   ]
  },
  {
   "cell_type": "markdown",
   "id": "bb67efa3",
   "metadata": {},
   "source": [
    "The __Model.evaluate__ method checks the model's performance, usually on a validation set or test set."
   ]
  },
  {
   "cell_type": "code",
   "execution_count": 17,
   "id": "982beb17",
   "metadata": {},
   "outputs": [
    {
     "name": "stdout",
     "output_type": "stream",
     "text": [
      "313/313 - 1s - loss: 0.0723 - accuracy: 0.9775 - 709ms/epoch - 2ms/step\n"
     ]
    },
    {
     "data": {
      "text/plain": [
       "[0.0723029226064682, 0.9775000214576721]"
      ]
     },
     "execution_count": 17,
     "metadata": {},
     "output_type": "execute_result"
    }
   ],
   "source": [
    "model.evaluate(x_test,  y_test, verbose=2)"
   ]
  },
  {
   "cell_type": "code",
   "execution_count": 18,
   "id": "4e10052d",
   "metadata": {},
   "outputs": [
    {
     "data": {
      "text/plain": [
       "keras.engine.sequential.Sequential"
      ]
     },
     "execution_count": 18,
     "metadata": {},
     "output_type": "execute_result"
    }
   ],
   "source": [
    "type(model)"
   ]
  },
  {
   "cell_type": "code",
   "execution_count": 19,
   "id": "13fdd373",
   "metadata": {},
   "outputs": [
    {
     "data": {
      "text/plain": [
       "7"
      ]
     },
     "execution_count": 19,
     "metadata": {},
     "output_type": "execute_result"
    }
   ],
   "source": [
    "y_test[0]"
   ]
  },
  {
   "cell_type": "code",
   "execution_count": 20,
   "id": "14d4ce3a",
   "metadata": {},
   "outputs": [
    {
     "data": {
      "text/plain": [
       "(28, 28)"
      ]
     },
     "execution_count": 20,
     "metadata": {},
     "output_type": "execute_result"
    }
   ],
   "source": [
    "x_test[0].shape"
   ]
  },
  {
   "cell_type": "code",
   "execution_count": 21,
   "id": "63b762cf",
   "metadata": {},
   "outputs": [
    {
     "name": "stdout",
     "output_type": "stream",
     "text": [
      "0 : -4.161022186279297\n",
      "1 : -6.744091033935547\n",
      "2 : -0.5056843161582947\n",
      "3 : 3.664853811264038\n",
      "4 : -14.818913459777832\n",
      "5 : -2.4027440547943115\n",
      "6 : -21.617965698242188\n",
      "7 : 10.269272804260254\n",
      "8 : -1.3597702980041504\n",
      "9 : -2.536430597305298\n"
     ]
    }
   ],
   "source": [
    "predictions = model(x_test[:1]).numpy()\n",
    "\n",
    "for i, value in enumerate(predictions[0]):\n",
    "    print(f'{i} : {value}')\n"
   ]
  },
  {
   "cell_type": "code",
   "execution_count": 22,
   "id": "50fb6a39",
   "metadata": {
    "scrolled": true
   },
   "outputs": [
    {
     "name": "stdout",
     "output_type": "stream",
     "text": [
      "El valor real  [ 7 ] predicho :[ 7 ]on 99.86112117767334 probabilidad \n",
      "\n",
      "El valor real  [ 7 ] predicho :[ 3 ]on 0.13524892274290323 probabilidad \n",
      "\n",
      "El valor real  [ 7 ] predicho :[ 2 ]on 0.0020887775463052094 probabilidad \n",
      "\n",
      "El valor real  [ 7 ] predicho :[ 8 ]on 0.000889133480086457 probabilidad \n",
      "\n",
      "El valor real  [ 7 ] predicho :[ 5 ]on 0.00031333531751442933 probabilidad \n",
      "\n",
      "El valor real  [ 7 ] predicho :[ 9 ]on 0.0002741259777394589 probabilidad \n",
      "\n",
      "El valor real  [ 7 ] predicho :[ 0 ]on 5.400064537752769e-05 probabilidad \n",
      "\n",
      "El valor real  [ 7 ] predicho :[ 1 ]on 4.079311111127026e-06 probabilidad \n",
      "\n",
      "El valor real  [ 7 ] predicho :[ 4 ]on 1.2698007575973058e-09 probabilidad \n",
      "\n",
      "El valor real  [ 7 ] predicho :[ 6 ]on 1.4156149092303585e-12 probabilidad \n",
      "\n",
      "<<<<<<<<<<<<<<<<<<<>>>>>>>>>>>>>>>>>>>>>>>>>>>>>>>>>>>>>>>>>>>>>>\n",
      "El valor real  [ 2 ] predicho :[ 2 ]on 99.99942779541016 probabilidad \n",
      "\n",
      "El valor real  [ 2 ] predicho :[ 1 ]on 0.0002549523060224601 probabilidad \n",
      "\n",
      "El valor real  [ 2 ] predicho :[ 8 ]on 0.0001626479047445173 probabilidad \n",
      "\n",
      "El valor real  [ 2 ] predicho :[ 3 ]on 0.00011759393601096235 probabilidad \n",
      "\n",
      "El valor real  [ 2 ] predicho :[ 5 ]on 1.9254490268849622e-05 probabilidad \n",
      "\n",
      "El valor real  [ 2 ] predicho :[ 0 ]on 9.146131674242497e-06 probabilidad \n",
      "\n",
      "El valor real  [ 2 ] predicho :[ 6 ]on 3.833032735656161e-06 probabilidad \n",
      "\n",
      "El valor real  [ 2 ] predicho :[ 9 ]on 2.5342479850753996e-10 probabilidad \n",
      "\n",
      "El valor real  [ 2 ] predicho :[ 7 ]on 4.7575528586141225e-11 probabilidad \n",
      "\n",
      "El valor real  [ 2 ] predicho :[ 4 ]on 5.354763207939069e-16 probabilidad \n",
      "\n",
      "<<<<<<<<<<<<<<<<<<<>>>>>>>>>>>>>>>>>>>>>>>>>>>>>>>>>>>>>>>>>>>>>>\n",
      "El valor real  [ 1 ] predicho :[ 1 ]on 99.79898929595947 probabilidad \n",
      "\n",
      "El valor real  [ 1 ] predicho :[ 7 ]on 0.10179671226069331 probabilidad \n",
      "\n",
      "El valor real  [ 1 ] predicho :[ 2 ]on 0.04908550181426108 probabilidad \n",
      "\n",
      "El valor real  [ 1 ] predicho :[ 8 ]on 0.03852395748253912 probabilidad \n",
      "\n",
      "El valor real  [ 1 ] predicho :[ 3 ]on 0.004851444828091189 probabilidad \n",
      "\n",
      "El valor real  [ 1 ] predicho :[ 6 ]on 0.004652587813325226 probabilidad \n",
      "\n",
      "El valor real  [ 1 ] predicho :[ 4 ]on 0.0011123759577458259 probabilidad \n",
      "\n",
      "El valor real  [ 1 ] predicho :[ 5 ]on 0.0008222948054026347 probabilidad \n",
      "\n",
      "El valor real  [ 1 ] predicho :[ 9 ]on 0.0001179875539492059 probabilidad \n",
      "\n",
      "El valor real  [ 1 ] predicho :[ 0 ]on 5.8079086784346146e-05 probabilidad \n",
      "\n",
      "<<<<<<<<<<<<<<<<<<<>>>>>>>>>>>>>>>>>>>>>>>>>>>>>>>>>>>>>>>>>>>>>>\n",
      "El valor real  [ 0 ] predicho :[ 0 ]on 99.94860887527466 probabilidad \n",
      "\n",
      "El valor real  [ 0 ] predicho :[ 6 ]on 0.04606098809745163 probabilidad \n",
      "\n",
      "El valor real  [ 0 ] predicho :[ 7 ]on 0.002730858795985114 probabilidad \n",
      "\n",
      "El valor real  [ 0 ] predicho :[ 2 ]on 0.0020871113520115614 probabilidad \n",
      "\n",
      "El valor real  [ 0 ] predicho :[ 9 ]on 0.0003623529892138322 probabilidad \n",
      "\n",
      "El valor real  [ 0 ] predicho :[ 5 ]on 9.69731445366051e-05 probabilidad \n",
      "\n",
      "El valor real  [ 0 ] predicho :[ 8 ]on 2.806220606998977e-05 probabilidad \n",
      "\n",
      "El valor real  [ 0 ] predicho :[ 3 ]on 1.582724422632964e-05 probabilidad \n",
      "\n",
      "El valor real  [ 0 ] predicho :[ 4 ]on 1.3693856715235597e-06 probabilidad \n",
      "\n",
      "El valor real  [ 0 ] predicho :[ 1 ]on 3.072875010001752e-08 probabilidad \n",
      "\n",
      "<<<<<<<<<<<<<<<<<<<>>>>>>>>>>>>>>>>>>>>>>>>>>>>>>>>>>>>>>>>>>>>>>\n",
      "El valor real  [ 4 ] predicho :[ 4 ]on 99.89030361175537 probabilidad \n",
      "\n",
      "El valor real  [ 4 ] predicho :[ 9 ]on 0.10665557347238064 probabilidad \n",
      "\n",
      "El valor real  [ 4 ] predicho :[ 7 ]on 0.002019649946305435 probabilidad \n",
      "\n",
      "El valor real  [ 4 ] predicho :[ 0 ]on 0.0004913266366202151 probabilidad \n",
      "\n",
      "El valor real  [ 4 ] predicho :[ 5 ]on 0.0002256039806525223 probabilidad \n",
      "\n",
      "El valor real  [ 4 ] predicho :[ 6 ]on 0.00014823590390733443 probabilidad \n",
      "\n",
      "El valor real  [ 4 ] predicho :[ 2 ]on 0.00010039732387667755 probabilidad \n",
      "\n",
      "El valor real  [ 4 ] predicho :[ 8 ]on 5.5733482895448105e-05 probabilidad \n",
      "\n",
      "El valor real  [ 4 ] predicho :[ 3 ]on 2.5419373272939083e-07 probabilidad \n",
      "\n",
      "El valor real  [ 4 ] predicho :[ 1 ]on 3.896759581678566e-08 probabilidad \n",
      "\n",
      "<<<<<<<<<<<<<<<<<<<>>>>>>>>>>>>>>>>>>>>>>>>>>>>>>>>>>>>>>>>>>>>>>\n",
      "El valor real  [ 1 ] predicho :[ 1 ]on 99.83575940132141 probabilidad \n",
      "\n",
      "El valor real  [ 1 ] predicho :[ 7 ]on 0.1567619270645082 probabilidad \n",
      "\n",
      "El valor real  [ 1 ] predicho :[ 8 ]on 0.0033418436942156404 probabilidad \n",
      "\n",
      "El valor real  [ 1 ] predicho :[ 2 ]on 0.0018411343262414448 probabilidad \n",
      "\n",
      "El valor real  [ 1 ] predicho :[ 3 ]on 0.0016425876310677268 probabilidad \n",
      "\n",
      "El valor real  [ 1 ] predicho :[ 4 ]on 0.0004864067705057096 probabilidad \n",
      "\n",
      "El valor real  [ 1 ] predicho :[ 9 ]on 9.005869969769265e-05 probabilidad \n",
      "\n",
      "El valor real  [ 1 ] predicho :[ 6 ]on 5.617785632239247e-05 probabilidad \n",
      "\n",
      "El valor real  [ 1 ] predicho :[ 5 ]on 1.568262035789303e-05 probabilidad \n",
      "\n",
      "El valor real  [ 1 ] predicho :[ 0 ]on 7.834243120896645e-06 probabilidad \n",
      "\n",
      "<<<<<<<<<<<<<<<<<<<>>>>>>>>>>>>>>>>>>>>>>>>>>>>>>>>>>>>>>>>>>>>>>\n",
      "El valor real  [ 4 ] predicho :[ 4 ]on 99.96604919433594 probabilidad \n",
      "\n",
      "El valor real  [ 4 ] predicho :[ 9 ]on 0.0220140689634718 probabilidad \n",
      "\n",
      "El valor real  [ 4 ] predicho :[ 8 ]on 0.011288144742138684 probabilidad \n",
      "\n",
      "El valor real  [ 4 ] predicho :[ 7 ]on 0.0004109056590095861 probabilidad \n",
      "\n",
      "El valor real  [ 4 ] predicho :[ 5 ]on 0.00022906665435584728 probabilidad \n",
      "\n",
      "El valor real  [ 4 ] predicho :[ 6 ]on 2.809311894225175e-06 probabilidad \n",
      "\n",
      "El valor real  [ 4 ] predicho :[ 3 ]on 1.96125320428564e-06 probabilidad \n",
      "\n",
      "El valor real  [ 4 ] predicho :[ 1 ]on 2.1521415760616946e-07 probabilidad \n",
      "\n",
      "El valor real  [ 4 ] predicho :[ 2 ]on 1.6998363827624985e-07 probabilidad \n",
      "\n",
      "El valor real  [ 4 ] predicho :[ 0 ]on 1.5059048452670254e-08 probabilidad \n",
      "\n",
      "<<<<<<<<<<<<<<<<<<<>>>>>>>>>>>>>>>>>>>>>>>>>>>>>>>>>>>>>>>>>>>>>>\n",
      "El valor real  [ 9 ] predicho :[ 9 ]on 99.70255494117737 probabilidad \n",
      "\n",
      "El valor real  [ 9 ] predicho :[ 4 ]on 0.21867963951081038 probabilidad \n",
      "\n",
      "El valor real  [ 9 ] predicho :[ 3 ]on 0.055468169739469886 probabilidad \n",
      "\n",
      "El valor real  [ 9 ] predicho :[ 5 ]on 0.01900492497952655 probabilidad \n",
      "\n",
      "El valor real  [ 9 ] predicho :[ 2 ]on 0.002371895061514806 probabilidad \n",
      "\n",
      "El valor real  [ 9 ] predicho :[ 7 ]on 0.0017302620108239353 probabilidad \n",
      "\n",
      "El valor real  [ 9 ] predicho :[ 8 ]on 0.0001582063418936741 probabilidad \n",
      "\n",
      "El valor real  [ 9 ] predicho :[ 1 ]on 4.0163590142583416e-05 probabilidad \n",
      "\n",
      "El valor real  [ 9 ] predicho :[ 0 ]on 6.551059694714922e-07 probabilidad \n",
      "\n",
      "El valor real  [ 9 ] predicho :[ 6 ]on 1.6504133615313776e-07 probabilidad \n",
      "\n",
      "<<<<<<<<<<<<<<<<<<<>>>>>>>>>>>>>>>>>>>>>>>>>>>>>>>>>>>>>>>>>>>>>>\n",
      "El valor real  [ 5 ] predicho :[ 6 ]on 60.111790895462036 probabilidad \n",
      "\n",
      "El valor real  [ 5 ] predicho :[ 5 ]on 39.87388610839844 probabilidad \n",
      "\n",
      "El valor real  [ 5 ] predicho :[ 8 ]on 0.01188198002637364 probabilidad \n",
      "\n",
      "El valor real  [ 5 ] predicho :[ 9 ]on 0.0023458225768990815 probabilidad \n",
      "\n",
      "El valor real  [ 5 ] predicho :[ 2 ]on 4.757859528581321e-05 probabilidad \n",
      "\n",
      "El valor real  [ 5 ] predicho :[ 0 ]on 2.4039584900492628e-05 probabilidad \n",
      "\n",
      "El valor real  [ 5 ] predicho :[ 4 ]on 1.6663952351336775e-05 probabilidad \n",
      "\n",
      "El valor real  [ 5 ] predicho :[ 3 ]on 7.549631475534113e-08 probabilidad \n",
      "\n",
      "El valor real  [ 5 ] predicho :[ 7 ]on 6.212527159377146e-08 probabilidad \n",
      "\n",
      "El valor real  [ 5 ] predicho :[ 1 ]on 4.6216981630653464e-09 probabilidad \n",
      "\n",
      "<<<<<<<<<<<<<<<<<<<>>>>>>>>>>>>>>>>>>>>>>>>>>>>>>>>>>>>>>>>>>>>>>\n",
      "El valor real  [ 9 ] predicho :[ 9 ]on 99.57324862480164 probabilidad \n",
      "\n",
      "El valor real  [ 9 ] predicho :[ 4 ]on 0.26918319053947926 probabilidad \n",
      "\n",
      "El valor real  [ 9 ] predicho :[ 7 ]on 0.15353980707004666 probabilidad \n",
      "\n",
      "El valor real  [ 9 ] predicho :[ 8 ]on 0.0035668253985932097 probabilidad \n",
      "\n",
      "El valor real  [ 9 ] predicho :[ 3 ]on 0.0004617002105078427 probabilidad \n",
      "\n",
      "El valor real  [ 9 ] predicho :[ 5 ]on 4.767573713593265e-06 probabilidad \n",
      "\n",
      "El valor real  [ 9 ] predicho :[ 0 ]on 2.2215289607885325e-07 probabilidad \n",
      "\n",
      "El valor real  [ 9 ] predicho :[ 2 ]on 4.0628561626121495e-08 probabilidad \n",
      "\n",
      "El valor real  [ 9 ] predicho :[ 6 ]on 1.4017924321318986e-08 probabilidad \n",
      "\n",
      "El valor real  [ 9 ] predicho :[ 1 ]on 1.554805112782831e-10 probabilidad \n",
      "\n",
      "<<<<<<<<<<<<<<<<<<<>>>>>>>>>>>>>>>>>>>>>>>>>>>>>>>>>>>>>>>>>>>>>>\n"
     ]
    }
   ],
   "source": [
    "xaux=x_test\n",
    "yauc=y_test\n",
    "for n in range(0,10)  :\n",
    "    predictions = model(xaux[n:n+1]).numpy()\n",
    "\n",
    "    arr = tf.nn.softmax(predictions).numpy()[0]\n",
    "\n",
    "    # Convertimos el array a un diccionario\n",
    "    dict_arr = dict(zip(range(len(arr)), arr.tolist()))\n",
    "\n",
    "    d_ordenado = dict(sorted(dict_arr.items(), key=lambda x: x[1], reverse=True))\n",
    "\n",
    "    for key, value in d_ordenado.items():\n",
    "        print( \"El valor real  [\", yauc[n], '] predicho :[',key, \"]on\", value*100,'probabilidad','\\n')\n",
    "    print('<<<<<<<<<<<<<<<<<<<>>>>>>>>>>>>>>>>>>>>>>>>>>>>>>>>>>>>>>>>>>>>>>')\n",
    "\n",
    "    "
   ]
  },
  {
   "cell_type": "code",
   "execution_count": 23,
   "id": "52cda585",
   "metadata": {},
   "outputs": [
    {
     "name": "stdout",
     "output_type": "stream",
     "text": [
      "0 5\n",
      "1 0\n",
      "2 4\n",
      "3 1\n",
      "4 9\n",
      "5 2\n",
      "6 1\n",
      "7 3\n",
      "8 1\n",
      "9 4\n",
      "10 3\n",
      "11 5\n",
      "12 3\n",
      "13 6\n",
      "14 1\n",
      "15 7\n",
      "16 2\n",
      "17 8\n",
      "18 6\n",
      "19 9\n",
      "20 4\n",
      "21 0\n",
      "22 9\n",
      "23 1\n",
      "24 1\n",
      "25 2\n",
      "26 4\n",
      "27 3\n",
      "28 2\n",
      "29 7\n",
      "30 3\n",
      "31 8\n",
      "32 6\n",
      "33 9\n",
      "34 0\n",
      "35 5\n",
      "36 6\n",
      "37 0\n",
      "38 7\n",
      "39 6\n",
      "40 1\n",
      "41 8\n",
      "42 7\n",
      "43 9\n",
      "44 3\n",
      "45 9\n",
      "46 8\n",
      "47 5\n",
      "48 9\n",
      "49 3\n"
     ]
    }
   ],
   "source": [
    "for i in range(50) : \n",
    "    print(i,y_train[i])"
   ]
  },
  {
   "cell_type": "markdown",
   "id": "d2cd38ff",
   "metadata": {},
   "source": [
    "# Trying"
   ]
  },
  {
   "cell_type": "code",
   "execution_count": 24,
   "id": "11c78f4b",
   "metadata": {},
   "outputs": [],
   "source": [
    "from keras.layers import Dropout\n",
    "from tensorflow.keras import regularizers"
   ]
  },
  {
   "cell_type": "code",
   "execution_count": 39,
   "id": "42916fac",
   "metadata": {},
   "outputs": [],
   "source": [
    "model = tf.keras.models.Sequential([\n",
    "\n",
    "\t# Input Layer\n",
    "    tf.keras.layers.Flatten(input_shape=(28, 28)),\n",
    "    # Hidden Layer\n",
    "    tf.keras.layers.Dense(512, activation='relu',kernel_initializer=tf.keras.initializers.RandomNormal(mean=0.0, stddev=0.088, seed=None)),\n",
    "    tf.keras.layers.BatchNormalization(),#regularización y reducir el sobreajuste del modelo\n",
    "    tf.keras.layers.Dropout(0.1),#regularización y reducir el sobreajuste del modelo\n",
    "\n",
    "    tf.keras.layers.Dense(256, activation='relu',kernel_initializer=tf.keras.initializers.RandomNormal(mean=0.0, stddev=0.088, seed=None)),\n",
    "    tf.keras.layers.BatchNormalization(),#regularización y reducir el sobreajuste del modelo\n",
    "    tf.keras.layers.Dropout(0.1),#regularización y reducir el sobreajuste del modelo\n",
    "\n",
    "    tf.keras.layers.Dense(128, activation='relu',kernel_initializer=tf.keras.initializers.RandomNormal(mean=0.0, stddev=0.088, seed=None)),\n",
    "    tf.keras.layers.BatchNormalization(),#regularización y reducir el sobreajuste del modelo\n",
    "    tf.keras.layers.Dropout(0.2),#regularización y reducir el sobreajuste del modelo\n",
    "    \n",
    "   # Outoput Layer\n",
    "    tf.keras.layers.Dense(10,activation='softmax'), #Esta capa tiene 10 neuronas, clasificación de 10 categorías\n",
    "])\n",
    "\n",
    "\n",
    "loss_fn = tf.keras.losses.SparseCategoricalCrossentropy(from_logits=True)\n",
    "\n",
    "model.compile(optimizer = 'adam',\n",
    "            loss = loss_fn,\n",
    "            metrics = ['accuracy'])\n"
   ]
  },
  {
   "cell_type": "code",
   "execution_count": 40,
   "id": "9b3fe267",
   "metadata": {},
   "outputs": [
    {
     "name": "stdout",
     "output_type": "stream",
     "text": [
      "Epoch 1/10\n",
      "1875/1875 [==============================] - 31s 12ms/step - loss: 0.2695 - accuracy: 0.9167 - val_loss: 0.1026 - val_accuracy: 0.9684\n",
      "Epoch 2/10\n",
      "1875/1875 [==============================] - 19s 10ms/step - loss: 0.1419 - accuracy: 0.9555 - val_loss: 0.0908 - val_accuracy: 0.9701\n",
      "Epoch 3/10\n",
      "1875/1875 [==============================] - 19s 10ms/step - loss: 0.1108 - accuracy: 0.9655 - val_loss: 0.0804 - val_accuracy: 0.9760\n",
      "Epoch 4/10\n",
      "1875/1875 [==============================] - 19s 10ms/step - loss: 0.0950 - accuracy: 0.9698 - val_loss: 0.0715 - val_accuracy: 0.9762\n",
      "Epoch 5/10\n",
      "1875/1875 [==============================] - 19s 10ms/step - loss: 0.0787 - accuracy: 0.9751 - val_loss: 0.0655 - val_accuracy: 0.9802\n",
      "Epoch 6/10\n",
      "1875/1875 [==============================] - 18s 10ms/step - loss: 0.0695 - accuracy: 0.9784 - val_loss: 0.0687 - val_accuracy: 0.9793\n",
      "Epoch 7/10\n",
      "1875/1875 [==============================] - 20s 10ms/step - loss: 0.0652 - accuracy: 0.9794 - val_loss: 0.0634 - val_accuracy: 0.9804\n",
      "Epoch 8/10\n",
      "1875/1875 [==============================] - 22s 12ms/step - loss: 0.0554 - accuracy: 0.9818 - val_loss: 0.0699 - val_accuracy: 0.9800\n",
      "Epoch 9/10\n",
      "1875/1875 [==============================] - 18s 10ms/step - loss: 0.0536 - accuracy: 0.9829 - val_loss: 0.0609 - val_accuracy: 0.9825\n",
      "Epoch 10/10\n",
      "1875/1875 [==============================] - 19s 10ms/step - loss: 0.0487 - accuracy: 0.9839 - val_loss: 0.0785 - val_accuracy: 0.9773\n"
     ]
    }
   ],
   "source": [
    "history = model.fit(x_train, y_train,  epochs=9, verbose=1, validation_data=(x_test, y_test))\n"
   ]
  },
  {
   "cell_type": "code",
   "execution_count": 41,
   "id": "5d9724d4",
   "metadata": {},
   "outputs": [
    {
     "data": {
      "image/png": "[encoded data removed]",
      "text/plain": [
       "<Figure size 432x288 with 1 Axes>"
      ]
     },
     "metadata": {
      "needs_background": "light"
     },
     "output_type": "display_data"
    }
   ],
   "source": [
    "# Get training and test loss histories\n",
    "training_loss = history.history['loss']\n",
    "test_loss = history.history['val_loss']\n",
    "\n",
    "# Create count of the number of epochs\n",
    "epoch_count = range(1, len(training_loss) + 1)\n",
    "\n",
    "# Visualize loss history\n",
    "plt.plot(epoch_count, training_loss, 'r--')\n",
    "plt.plot(epoch_count, test_loss, 'b-')\n",
    "plt.legend(['Training Loss', 'Test Loss'])\n",
    "plt.xlabel('Epoch')\n",
    "plt.ylabel('Loss')\n",
    "plt.show();"
   ]
  },
  {
   "cell_type": "code",
   "execution_count": null,
   "id": "571ac14e",
   "metadata": {},
   "outputs": [],
   "source": []
  },
  {
   "cell_type": "code",
   "execution_count": null,
   "id": "8e289df6",
   "metadata": {},
   "outputs": [],
   "source": []
  },
  {
   "cell_type": "code",
   "execution_count": null,
   "id": "fb657be1",
   "metadata": {},
   "outputs": [],
   "source": []
  },
  {
   "cell_type": "code",
   "execution_count": null,
   "id": "ab6c44ab",
   "metadata": {},
   "outputs": [],
   "source": []
  }
 ],
 "metadata": {
  "kernelspec": {
   "display_name": "Python 3 (ipykernel)",
   "language": "python",
   "name": "python3"
  },
  "language_info": {
   "codemirror_mode": {
    "name": "ipython",
    "version": 3
   },
   "file_extension": ".py",
   "mimetype": "text/x-python",
   "name": "python",
   "nbconvert_exporter": "python",
   "pygments_lexer": "ipython3",
   "version": "3.9.12"
  },
  "toc": {
   "base_numbering": 1,
   "nav_menu": {},
   "number_sections": true,
   "sideBar": true,
   "skip_h1_title": false,
   "title_cell": "Table of Contents",
   "title_sidebar": "Contents",
   "toc_cell": false,
   "toc_position": {},
   "toc_section_display": true,
   "toc_window_display": false
  }
 },
 "nbformat": 4,
 "nbformat_minor": 5
}
