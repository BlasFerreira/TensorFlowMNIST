{
 "cells": [
  {
   "cell_type": "markdown",
   "id": "24c42ee9",
   "metadata": {
    "heading_collapsed": true
   },
   "source": [
    "# Import"
   ]
  },
  {
   "cell_type": "markdown",
   "id": "471688b1",
   "metadata": {
    "heading_collapsed": true,
    "hidden": true
   },
   "source": [
    "## Library"
   ]
  },
  {
   "cell_type": "code",
   "execution_count": 1,
   "id": "7ccd1d7d",
   "metadata": {
    "hidden": true
   },
   "outputs": [
    {
     "name": "stdout",
     "output_type": "stream",
     "text": [
      "TensorFlow version: 2.12.0\n"
     ]
    }
   ],
   "source": [
    "import tensorflow as tf\n",
    "import numpy as np\n",
    "print(\"TensorFlow version:\", tf.__version__)\n",
    "from sklearn.model_selection import train_test_split\n",
    "\n",
    "import numpy as np\n",
    "import pandas as pd\n",
    "import matplotlib.pyplot as plt\n",
    "import seaborn as sns\n",
    "# Logistic Regression Clasificator\n",
    "from sklearn.linear_model import LogisticRegression\n",
    "# import warnings\n",
    "# warnings.filterwarnings('ignore')\n",
    "\n",
    "from PIL import Image\n",
    "import numpy as np\n",
    "\n",
    "from keras.layers import Dropout\n",
    "from tensorflow.keras import regularizers\n",
    "from tensorflow.keras.utils import to_categorical"
   ]
  },
  {
   "cell_type": "markdown",
   "id": "10eb2e04",
   "metadata": {
    "heading_collapsed": true,
    "hidden": true
   },
   "source": [
    "## Dataset"
   ]
  },
  {
   "cell_type": "code",
   "execution_count": 2,
   "id": "02c1aae9",
   "metadata": {
    "hidden": true
   },
   "outputs": [],
   "source": [
    "# Load and prepare the MNIST dataset\n",
    "mnist = tf.keras.datasets.mnist"
   ]
  },
  {
   "cell_type": "markdown",
   "id": "79502ed0",
   "metadata": {
    "hidden": true
   },
   "source": [
    "### Split"
   ]
  },
  {
   "cell_type": "code",
   "execution_count": 3,
   "id": "efdc2678",
   "metadata": {
    "hidden": true
   },
   "outputs": [],
   "source": [
    "# Split dataset in data of Train and Data od Test\n",
    "(x_train, y_train), (x_test, y_test) = mnist.load_data()"
   ]
  },
  {
   "cell_type": "code",
   "execution_count": 4,
   "id": "5b235660",
   "metadata": {
    "hidden": true
   },
   "outputs": [],
   "source": [
    "x_train, x_val, y_train, y_val  = train_test_split( x_train, y_train, test_size=0.166, random_state=4)"
   ]
  },
  {
   "cell_type": "markdown",
   "id": "24928c66",
   "metadata": {
    "hidden": true
   },
   "source": [
    "### Information of Data"
   ]
  },
  {
   "cell_type": "markdown",
   "id": "caa076f2",
   "metadata": {
    "hidden": true
   },
   "source": [
    "The pixel values of the images range from __0__ through __255__. Scale these values to a range of __0__ to **1** by dividing the values by __255.0__. This also converts the sample data from integers to floating-point numbers:"
   ]
  },
  {
   "cell_type": "code",
   "execution_count": 5,
   "id": "dc86b088",
   "metadata": {
    "hidden": true
   },
   "outputs": [],
   "source": [
    "x_train,x_val, x_test = x_train / 255.0, x_val/ 255.0, x_test / 255.0"
   ]
  },
  {
   "cell_type": "code",
   "execution_count": 6,
   "id": "7d44dc28",
   "metadata": {
    "hidden": true
   },
   "outputs": [
    {
     "name": "stdout",
     "output_type": "stream",
     "text": [
      "x_train.shape : (50040, 28, 28)\n",
      "y_train.shape : (50040,)\n",
      "\n",
      "x_val.shape : (9960, 28, 28)\n",
      "y_val.shape : (9960,)\n",
      "\n",
      "x_test.shape : (10000, 28, 28)\n",
      "y_test.shape : (10000,)\n",
      "\n"
     ]
    }
   ],
   "source": [
    "print(f'x_train.shape : {x_train.shape}')\n",
    "print(f'y_train.shape : {y_train.shape}\\n')\n",
    "\n",
    "print(f'x_val.shape : {x_val.shape}')\n",
    "print(f'y_val.shape : {y_val.shape}\\n')\n",
    "\n",
    "print(f'x_test.shape : {x_test.shape}')\n",
    "print(f'y_test.shape : {y_test.shape}\\n')"
   ]
  },
  {
   "cell_type": "code",
   "execution_count": 7,
   "id": "fcd28fdc",
   "metadata": {
    "hidden": true
   },
   "outputs": [
    {
     "data": {
      "text/plain": [
       "(50040, 28, 28)"
      ]
     },
     "execution_count": 7,
     "metadata": {},
     "output_type": "execute_result"
    }
   ],
   "source": [
    "x_train[:].shape"
   ]
  },
  {
   "cell_type": "code",
   "execution_count": 8,
   "id": "96ec5052",
   "metadata": {
    "hidden": true
   },
   "outputs": [
    {
     "data": {
      "text/plain": [
       "numpy.ndarray"
      ]
     },
     "execution_count": 8,
     "metadata": {},
     "output_type": "execute_result"
    }
   ],
   "source": [
    "type(x_train)"
   ]
  },
  {
   "cell_type": "markdown",
   "id": "11c6dada",
   "metadata": {
    "hidden": true
   },
   "source": [
    "![](MNIST.png)"
   ]
  },
  {
   "cell_type": "markdown",
   "id": "cf3787e1",
   "metadata": {},
   "source": [
    "# Build a machine learning model"
   ]
  },
  {
   "cell_type": "markdown",
   "id": "aa041322",
   "metadata": {},
   "source": [
    "## Build a tf.keras.Sequential model:"
   ]
  },
  {
   "cell_type": "markdown",
   "id": "0d0c8f85",
   "metadata": {},
   "source": [
    "![](1_N8UXaiUKWurFLdmEhEHiWg.jpg)"
   ]
  },
  {
   "cell_type": "code",
   "execution_count": 9,
   "id": "df2d8af6",
   "metadata": {},
   "outputs": [],
   "source": [
    "model = tf.keras.models.Sequential([\n",
    "\n",
    "    tf.keras.layers.Conv2D(75, (3,3), activation = \"relu\", input_shape= (28, 28, 1)),\n",
    "    tf.keras.layers.MaxPool2D((2,2)),\n",
    "\n",
    "    # Input Layer\n",
    "    tf.keras.layers.Flatten(input_shape=(28, 28)),\n",
    "    # Hidden Layer\n",
    "\n",
    "    tf.keras.layers.Dense(784, activation='relu', kernel_regularizer=regularizers.l2(1e-4)),\n",
    "    #   tf.keras.layers.BatchNormalization(),#regularización y reducir el sobreajuste del modelo\n",
    "    tf.keras.layers.Dropout(0.3),#regularización y reducir el sobreajuste del modelo\n",
    "\n",
    "    tf.keras.layers.Dense(416, activation='relu', kernel_regularizer=regularizers.l2(1e-4)),\n",
    "    #   tf.keras.layers.BatchNormalization(),#regularización y reducir el sobreajuste del modelo\n",
    "    tf.keras.layers.Dropout(0.3),#regularización y reducir el sobreajuste del modelo\n",
    "\n",
    "    tf.keras.layers.Dense(512, activation='relu', kernel_regularizer=regularizers.l2(1e-4)),\n",
    "    #   tf.keras.layers.BatchNormalization(),#regularización y reducir el sobreajuste del modelo\n",
    "    tf.keras.layers.Dropout(0.3),#regularización y reducir el sobreajuste del modelo\n",
    "\n",
    "    # Outoput Layer\n",
    "    tf.keras.layers.Dense(10,activation='softmax'), #Esta capa tiene 10 neuronas, clasificación de 10 categorías\n",
    "    ])\n",
    "\n",
    "model.summary()"
   ]
  },
  {
   "cell_type": "markdown",
   "id": "a359bf74",
   "metadata": {
    "heading_collapsed": true
   },
   "source": [
    "### Detalles "
   ]
  },
  {
   "cell_type": "markdown",
   "id": "6e679d78",
   "metadata": {
    "hidden": true
   },
   "source": [
    "- __tf.keras.layers.Flatten__ (La capa de aplanamiento ) es una capa de procesamiento que convierte una matriz de __entrada multidimensional__ en un vector __unidimensional__. Esta capa se utiliza comúnmente como la primera capa en una red neuronal para transformar los datos de entrada. La capa de aplanamiento toma una matriz de entrada de __28x28__ (que representa una imagen de __28x28__ píxeles) y la convierte en un vector de __784__ elementos. Esto permite que la red neuronal procese la imagen como una __secuencia unidimensional__ de valores de píxeles en lugar de como una matriz bidimensional.<br><br>\n",
    "\n",
    "- __tf.keras.layers.Dense__ es una capa de redes neuronales __densamente conectada__ en TensorFlow, que implementa la operación de multiplicación de matriz y adición de sesgo en la entrada, seguida de una función de activación. Cada unidad o nodo en la capa está conectado a cada unidad en la capa anterior, y las entradas se multiplican por un conjunto de pesos y se suman a un sesgo antes de aplicar la función de activación. En otras palabras, la capa densa es una capa de neuronas completamente conectada, donde cada neurona en la capa anterior está conectada a todas las neuronas en la capa actual. La capa __Dense__ en la red neuronal se llama así porque __cada neurona de la capa está conectada a todas las neuronas de la capa anterior y de la capa siguiente__. Esto se conoce como __\"conexión densa\"__ o __\"totalmente conectada\"__. Los valores de entrada se multiplican por los pesos, se suman los resultados y se aplica una función de activación para producir los valores de salida de la capa.En resumen, la capa Dense es una capa de red neuronal en la que cada neurona está conectada a todas las neuronas de la capa anterior y de la capa siguiente, lo que permite aprender patrones complejos en los datos<br><br>\n",
    "\n",
    "- __tf.keras.layers.Dropout__ es una capa en TensorFlow que se utiliza para regularizar modelos de aprendizaje profundo y evitar el sobreajuste. Durante el entrenamiento, Dropout apaga de forma aleatoria un número predefinido de unidades de la capa anterior. Esto evita que las unidades se \"especialicen\" demasiado en un subconjunto particular de los datos de entrenamiento, lo que puede resultar en un modelo que no generaliza bien a datos nuevos. El porcentaje de unidades que se apaga se puede ajustar mediante un parámetro llamado \"rate\".<br>\n"
   ]
  },
  {
   "cell_type": "markdown",
   "id": "da495618",
   "metadata": {
    "hidden": true
   },
   "source": [
    "Sequential is useful for stacking layers where each layer has one input tensor and one output tensor. Layers are functions with a known mathematical structure that can be reused and have trainable variables. Most TensorFlow models are composed of layers. This model uses the Flatten, Dense, and Dropout layers."
   ]
  },
  {
   "cell_type": "markdown",
   "id": "59607f14",
   "metadata": {
    "heading_collapsed": true
   },
   "source": [
    "### predictions example"
   ]
  },
  {
   "cell_type": "markdown",
   "id": "0c64f36f",
   "metadata": {
    "hidden": true
   },
   "source": [
    "For each example, the model returns a vector of __logits or log-odds scores__, one for each class"
   ]
  },
  {
   "cell_type": "code",
   "execution_count": 11,
   "id": "4893e491",
   "metadata": {
    "hidden": true
   },
   "outputs": [],
   "source": [
    "# predictions = model(x_train[:1]).numpy()\n",
    "\n",
    "# for i, value in enumerate(predictions[0]):\n",
    "#     print(f'{i} : {value}')"
   ]
  },
  {
   "cell_type": "markdown",
   "id": "8ad0787d",
   "metadata": {
    "heading_collapsed": true
   },
   "source": [
    "### converts these logits to probabilities"
   ]
  },
  {
   "cell_type": "markdown",
   "id": "b8091bf4",
   "metadata": {
    "hidden": true
   },
   "source": [
    "The __tf.nn.softmax__ function converts these logits to probabilities for each class:"
   ]
  },
  {
   "cell_type": "code",
   "execution_count": 12,
   "id": "c19e7cc7",
   "metadata": {
    "hidden": true
   },
   "outputs": [],
   "source": [
    "# tf.nn.softmax(predictions).numpy()"
   ]
  },
  {
   "cell_type": "markdown",
   "id": "a693218b",
   "metadata": {},
   "source": [
    "## Define a loss function (Hyperparameter)"
   ]
  },
  {
   "cell_type": "markdown",
   "id": "ab6c7c55",
   "metadata": {},
   "source": [
    "Define a loss function for training using __losses.SparseCategoricalCrossentropy__:"
   ]
  },
  {
   "cell_type": "code",
   "execution_count": 13,
   "id": "610bd8e7",
   "metadata": {},
   "outputs": [],
   "source": [
    "loss_fn = tf.keras.losses.SparseCategoricalCrossentropy(from_logits=True)"
   ]
  },
  {
   "cell_type": "markdown",
   "id": "9632ee7c",
   "metadata": {},
   "source": [
    "The __loss function__ takes a __vector of ground truth values__ and a __vector of logits__ and __returns a scalar loss for each example__. This __loss__ is equal to the __negative log probability of the true class__: The __loss__ is __0__ if the model is sure of the __correct__ class.\n",
    "\n",
    "This untrained model gives probabilities close to random (1/10 for each class), so the initial loss should be close to -tf.math.log(1/10) ~= 2.3."
   ]
  },
  {
   "cell_type": "markdown",
   "id": "3fdc54a8",
   "metadata": {},
   "source": [
    "## Set the optimizer (Hyperparameter)"
   ]
  },
  {
   "cell_type": "code",
   "execution_count": 14,
   "id": "127a683d",
   "metadata": {},
   "outputs": [
    {
     "ename": "NameError",
     "evalue": "name 'model' is not defined",
     "output_type": "error",
     "traceback": [
      "\u001b[1;31m---------------------------------------------------------------------------\u001b[0m",
      "\u001b[1;31mNameError\u001b[0m                                 Traceback (most recent call last)",
      "Input \u001b[1;32mIn [14]\u001b[0m, in \u001b[0;36m<cell line: 1>\u001b[1;34m()\u001b[0m\n\u001b[1;32m----> 1\u001b[0m \u001b[43mmodel\u001b[49m\u001b[38;5;241m.\u001b[39mcompile(optimizer \u001b[38;5;241m=\u001b[39m \u001b[38;5;124m'\u001b[39m\u001b[38;5;124madam\u001b[39m\u001b[38;5;124m'\u001b[39m,\n\u001b[0;32m      2\u001b[0m               loss \u001b[38;5;241m=\u001b[39m loss_fn,\n\u001b[0;32m      3\u001b[0m               metrics \u001b[38;5;241m=\u001b[39m [\u001b[38;5;124m'\u001b[39m\u001b[38;5;124maccuracy\u001b[39m\u001b[38;5;124m'\u001b[39m])\n",
      "\u001b[1;31mNameError\u001b[0m: name 'model' is not defined"
     ]
    }
   ],
   "source": [
    "model.compile(optimizer = 'adam',\n",
    "              loss = loss_fn,\n",
    "              metrics = ['accuracy'])"
   ]
  },
  {
   "cell_type": "markdown",
   "id": "e76eda96",
   "metadata": {},
   "source": [
    "### Detail"
   ]
  },
  {
   "cell_type": "markdown",
   "id": "9735ef51",
   "metadata": {},
   "source": [
    "Adam (Adaptive Moment Estimation) es un __algoritmo de optimización__ de __gradiente descendente estocástico__ utilizado comúnmente para entrenar redes neuronales en el aprendizaje profundo.\n",
    "\n",
    "Adam es un __método de optimización adaptativo__ que combina el enfoque de __Momentum__ y __RMSprop__. Al igual que RMSprop, Adam mantiene un promedio móvil de los cuadrados de los gradientes y, al igual que el enfoque de Momentum, mantiene un __promedio móvil de los gradientes__.\n",
    "\n",
    "El algoritmo adapta la tasa de aprendizaje de cada parámetro en función de la magnitud del gradiente y la magnitud de la media móvil de segundo orden de los gradientes. Adam también incluye un término de corrección de sesgo para compensar la inicialización sesgada de los promedios móviles en las primeras iteraciones.\n",
    "\n",
    "En resumen, Adam es un algoritmo de optimización de gradiente descendente estocástico que adapta la tasa de aprendizaje para cada parámetro en función de la magnitud del gradiente y la media móvil de segundo orden de los gradientes. Es muy popular en el aprendizaje profundo debido a su eficacia y eficiencia en la práctica."
   ]
  },
  {
   "cell_type": "markdown",
   "id": "0557d8ca",
   "metadata": {},
   "source": [
    "durante el el entrenamiento el leaning rate en adam varia?\n",
    "\n",
    "\n",
    "Sí, durante el entrenamiento, el optimizador __Adam__ puede __ajustar automáticamente la tasa de aprendizaje__. Adam utiliza un algoritmo adaptativo para calcular y actualizar la tasa de aprendizaje de forma dinámica en función de las estadísticas de los gradientes calculados durante el entrenamiento.\n",
    "\n",
    "__El algoritmo de Adam incluye dos componentes principales__: el __promedio móvil de primer orden (momentum)__ y __el promedio móvil de segundo orden (adaptive learning rate)__. Estos componentes permiten que Adam ajuste la tasa de aprendizaje para cada parámetro del modelo de forma individual, basándose en la magnitud de los gradientes y las características del historial de actualizaciones anteriores.\n",
    "\n",
    "A medida que el modelo se entrena y se actualizan los pesos, Adam adapta la tasa de aprendizaje de forma automática según la información acumulada de los gradientes previos. Esto puede ayudar a mejorar la eficiencia del entrenamiento y la capacidad del modelo para converger hacia una solución óptima.\n",
    "\n",
    "Es importante destacar que el algoritmo de Adam tiene valores predeterminados para otros hiperparámetros, como el momentum y el decaimiento de los promedios móviles. Estos hiperparámetros también pueden influir en la forma en que Adam ajusta la tasa de aprendizaje durante el entrenamiento.\n",
    "\n",
    "Si deseas tener un control más preciso sobre la tasa de aprendizaje y su variación durante el entrenamiento, puedes utilizar optimizadores personalizados o técnicas de programación de aprendizaje con tasas de aprendizaje variables. Sin embargo, en la mayoría de los casos, Adam es una opción sólida y eficiente que ajusta automáticamente la tasa de aprendizaje de manera efectiva para la mayoría de los problemas de aprendizaje profundo."
   ]
  },
  {
   "cell_type": "markdown",
   "id": "ef6d1fc7",
   "metadata": {},
   "source": [
    "# Train and evaluate your model"
   ]
  },
  {
   "cell_type": "markdown",
   "id": "1f4ba162",
   "metadata": {},
   "source": [
    "## History"
   ]
  },
  {
   "cell_type": "markdown",
   "id": "f45bbc35",
   "metadata": {},
   "source": [
    "Use the __Model.fit__ Method to adjust your model parameters and minimize the loss:"
   ]
  },
  {
   "cell_type": "code",
   "execution_count": null,
   "id": "58bc63cb",
   "metadata": {},
   "outputs": [],
   "source": [
    "n_epoch = 20\n",
    "\n",
    "history = model.fit(\n",
    "    x_train, \n",
    "    y_train,  \n",
    "    epochs=n_epoch, \n",
    "    verbose=1,\n",
    "    validation_data=(x_val, y_val))"
   ]
  },
  {
   "cell_type": "markdown",
   "id": "6cc14682",
   "metadata": {},
   "source": [
    "# Grafics"
   ]
  },
  {
   "cell_type": "code",
   "execution_count": null,
   "id": "571ac14e",
   "metadata": {},
   "outputs": [],
   "source": [
    "def visualizacion_resultados(n,history):\n",
    "    epochs = [i for i in range( n  )]\n",
    "    fig, ax = plt.subplots(1,2)\n",
    "    train_acc = history.history[\"accuracy\"]\n",
    "    train_loss = history.history[\"loss\"]\n",
    "    val_acc = history.history[\"val_accuracy\"]\n",
    "    val_loss = history.history[\"val_loss\"]\n",
    "    fig.set_size_inches(16,9)\n",
    "\n",
    "    ax[0].plot(epochs, train_acc, \"go-\",label = \"Entrenamiento accuracy\")\n",
    "    ax[0].plot(epochs, val_acc, \"bo-\",label = \"Validación accuracy\")\n",
    "    ax[0].set_title(\"Entrenamiento y validación accuracy\")\n",
    "    ax[0].legend()\n",
    "    ax[0].set_xlabel(\"Epochs\")\n",
    "    ax[0].set_ylabel(\"Accuracy\")\n",
    "    ax[0].grid()\n",
    "\n",
    "    ax[1].plot(epochs, train_loss, \"go-\",label = \"Entrenamiento loss\")\n",
    "    ax[1].plot(epochs, val_loss, \"bo-\",label = \"Validación loss\")\n",
    "    ax[1].set_title(\"Entrenamiento y validación loss\")\n",
    "    ax[1].legend()\n",
    "    ax[1].set_xlabel(\"Epochs\")\n",
    "    ax[1].set_ylabel(\"Loss\")\n",
    "    ax[1].grid()\n",
    "    \n",
    "\n",
    "    plt.show() \n",
    "visualizacion_resultados(n_epoch,history)"
   ]
  },
  {
   "cell_type": "code",
   "execution_count": null,
   "id": "8e289df6",
   "metadata": {},
   "outputs": [],
   "source": []
  },
  {
   "cell_type": "code",
   "execution_count": null,
   "id": "3ab9b51b",
   "metadata": {},
   "outputs": [],
   "source": [
    "# n_epoch"
   ]
  },
  {
   "cell_type": "markdown",
   "id": "f1558d7e",
   "metadata": {},
   "source": [
    "# evaluate for examples"
   ]
  },
  {
   "cell_type": "code",
   "execution_count": null,
   "id": "7bf58a07",
   "metadata": {},
   "outputs": [],
   "source": []
  },
  {
   "cell_type": "markdown",
   "id": "bb67efa3",
   "metadata": {},
   "source": [
    "The __Model.evaluate__ method checks the model's performance, usually on a validation set or test set."
   ]
  },
  {
   "cell_type": "code",
   "execution_count": null,
   "id": "982beb17",
   "metadata": {},
   "outputs": [],
   "source": [
    "model.evaluate(x_test,  y_test, verbose=2)"
   ]
  },
  {
   "cell_type": "code",
   "execution_count": null,
   "id": "63b762cf",
   "metadata": {},
   "outputs": [],
   "source": [
    "predictions = model(x_test[:1]).numpy()\n",
    "\n",
    "for i, value in enumerate(predictions[0]):\n",
    "    print(f'{i} : {value}')\n"
   ]
  },
  {
   "cell_type": "code",
   "execution_count": null,
   "id": "50fb6a39",
   "metadata": {
    "scrolled": true
   },
   "outputs": [],
   "source": [
    "xaux=x_test\n",
    "yauc=y_test\n",
    "for n in range(0,10)  :\n",
    "    predictions = model(xaux[n:n+1]).numpy()\n",
    "\n",
    "    arr = tf.nn.softmax(predictions).numpy()[0]\n",
    "\n",
    "    # Convertimos el array a un diccionario\n",
    "    dict_arr = dict(zip(range(len(arr)), arr.tolist()))\n",
    "\n",
    "    d_ordenado = dict(sorted(dict_arr.items(), key=lambda x: x[1], reverse=True))\n",
    "\n",
    "    for key, value in d_ordenado.items():\n",
    "        print( \"El valor real  [\", yauc[n], '] predicho :[',key, \"] con\", value*100,'probabilidad','\\n')\n",
    "    print('<<<<<<<<<<<<<<<<<<<>>>>>>>>>>>>>>>>>>>>>>>>>>>>>>>>>>>>>>>>>>>>>>')\n",
    "\n",
    "    "
   ]
  }
 ],
 "metadata": {
  "kernelspec": {
   "display_name": "Python 3 (ipykernel)",
   "language": "python",
   "name": "python3"
  },
  "language_info": {
   "codemirror_mode": {
    "name": "ipython",
    "version": 3
   },
   "file_extension": ".py",
   "mimetype": "text/x-python",
   "name": "python",
   "nbconvert_exporter": "python",
   "pygments_lexer": "ipython3",
   "version": "3.9.12"
  },
  "toc": {
   "base_numbering": 1,
   "nav_menu": {},
   "number_sections": true,
   "sideBar": true,
   "skip_h1_title": false,
   "title_cell": "Table of Contents",
   "title_sidebar": "Contents",
   "toc_cell": false,
   "toc_position": {},
   "toc_section_display": true,
   "toc_window_display": false
  }
 },
 "nbformat": 4,
 "nbformat_minor": 5
}
