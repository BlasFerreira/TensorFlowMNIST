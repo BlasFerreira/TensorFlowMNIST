{
 "cells": [
  {
   "cell_type": "code",
   "execution_count": 1,
   "id": "92ad1348",
   "metadata": {},
   "outputs": [],
   "source": [
    "from tkinter import *\n",
    "from PIL import Image, ImageDraw"
   ]
  },
  {
   "cell_type": "code",
   "execution_count": 2,
   "id": "135b8d66",
   "metadata": {},
   "outputs": [],
   "source": [
    "# Función para convertir la imagen en un array de 0 a 255\n",
    "def image_to_array(image):\n",
    "    array = []\n",
    "    for pixel in image.getdata():\n",
    "        # Convierte cada valor de píxel de 0 a 255 y agrega a la lista\n",
    "        array.append(int(pixel/255*100))\n",
    "    return array\n",
    "\n",
    "# Función para dibujar en la pantalla\n",
    "def paint(event):\n",
    "    x1, y1 = (event.x - 5), (event.y - 5)\n",
    "    x2, y2 = (event.x + 5), (event.y + 5)\n",
    "    canvas.create_oval(x1, y1, x2, y2, fill=\"black\", width=10)\n",
    "    draw.ellipse([x1, y1, x2, y2], fill=\"white\", width=10)\n",
    "\n",
    "# Función para convertir la imagen en un array y cerrar la ventana\n",
    "def done():\n",
    "    global img\n",
    "    img = img.convert(\"L\")\n",
    "    array = image_to_array(img)\n",
    "    root.destroy()\n"
   ]
  },
  {
   "cell_type": "code",
   "execution_count": 3,
   "id": "fd9fd561",
   "metadata": {},
   "outputs": [],
   "source": [
    "# Crea la ventana principal\n",
    "root = Tk()"
   ]
  },
  {
   "cell_type": "code",
   "execution_count": null,
   "id": "0241abd5",
   "metadata": {},
   "outputs": [],
   "source": [
    "\n",
    "\n",
    "# Crea el lienzo para dibujar\n",
    "canvas = Canvas(root, width=280, height=280, bg=\"white\")\n",
    "canvas.pack()\n",
    "\n",
    "# Crea la imagen y el objeto de dibujo\n",
    "img = Image.new(\"RGB\", (280, 280), \"white\")\n",
    "draw = ImageDraw.Draw(img)\n",
    "\n",
    "# Vincula el evento de dibujo con la función paint\n",
    "canvas.bind(\"<B1-Motion>\", paint)\n",
    "\n",
    "# Crea un botón para terminar el dibujo y convertir la imagen en un array\n",
    "button = Button(root, text=\"Done\", command=done)\n",
    "button.pack()\n",
    "\n",
    "# Inicia la aplicación\n",
    "root.mainloop()\n",
    "\n",
    "# Imprime el array\n",
    "print(array)"
   ]
  }
 ],
 "metadata": {
  "kernelspec": {
   "display_name": "Python 3 (ipykernel)",
   "language": "python",
   "name": "python3"
  },
  "language_info": {
   "codemirror_mode": {
    "name": "ipython",
    "version": 3
   },
   "file_extension": ".py",
   "mimetype": "text/x-python",
   "name": "python",
   "nbconvert_exporter": "python",
   "pygments_lexer": "ipython3",
   "version": "3.9.12"
  },
  "toc": {
   "base_numbering": 1,
   "nav_menu": {},
   "number_sections": true,
   "sideBar": true,
   "skip_h1_title": false,
   "title_cell": "Table of Contents",
   "title_sidebar": "Contents",
   "toc_cell": false,
   "toc_position": {},
   "toc_section_display": true,
   "toc_window_display": false
  }
 },
 "nbformat": 4,
 "nbformat_minor": 5
}
