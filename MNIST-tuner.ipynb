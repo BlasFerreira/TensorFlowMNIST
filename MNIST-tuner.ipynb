{
 "cells": [
  {
   "cell_type": "markdown",
   "id": "24c42ee9",
   "metadata": {},
   "source": [
    "# Import"
   ]
  },
  {
   "cell_type": "markdown",
   "id": "471688b1",
   "metadata": {},
   "source": [
    "## Library"
   ]
  },
  {
   "cell_type": "code",
   "execution_count": 3,
   "id": "7ccd1d7d",
   "metadata": {},
   "outputs": [
    {
     "name": "stdout",
     "output_type": "stream",
     "text": [
      "TensorFlow version: 2.12.0\n"
     ]
    }
   ],
   "source": [
    "import numpy as np\n",
    "import pandas as pd\n",
    "import matplotlib.pyplot as plt\n",
    "import seaborn as sns\n",
    "from sklearn.model_selection import train_test_split\n",
    "from sklearn.linear_model import LogisticRegression\n",
    "from PIL import Image\n",
    "from keras.layers import Dropout\n",
    "from tensorflow.keras import regularizers\n",
    "import tensorflow as tf\n",
    "import keras_tuner as kt\n",
    "from tensorflow import keras\n",
    "from tensorflow.keras import layers\n",
    "from keras_tuner.tuners import RandomSearch\n",
    "from tensorflow.keras.datasets import mnist\n",
    "\n",
    "print(\"TensorFlow version:\", tf.__version__)\n",
    "\n"
   ]
  },
  {
   "cell_type": "markdown",
   "id": "10eb2e04",
   "metadata": {},
   "source": [
    "## Dataset"
   ]
  },
  {
   "cell_type": "code",
   "execution_count": 4,
   "id": "02c1aae9",
   "metadata": {},
   "outputs": [],
   "source": [
    "# Load and prepare the MNIST dataset\n",
    "mnist = tf.keras.datasets.mnist\n",
    "# Split dataset in data of Train and Data od Test\n",
    "(x_train, y_train), (x_test, y_test) = mnist.load_data()\n",
    "x_train, x_val, y_train, y_val  = train_test_split( x_train, y_train, test_size=0.166, random_state=4)\n",
    "x_train,x_val, x_test = x_train / 255.0, x_val/ 255.0, x_test / 255.0"
   ]
  },
  {
   "cell_type": "code",
   "execution_count": 5,
   "id": "7d44dc28",
   "metadata": {},
   "outputs": [
    {
     "name": "stdout",
     "output_type": "stream",
     "text": [
      "x_train.shape : (50040, 28, 28)\n",
      "y_train.shape : (50040,)\n",
      "\n",
      "x_val.shape : (9960, 28, 28)\n",
      "y_val.shape : (9960,)\n",
      "\n",
      "x_test.shape : (10000, 28, 28)\n",
      "y_test.shape : (10000,)\n",
      "\n"
     ]
    }
   ],
   "source": [
    "print(f'x_train.shape : {x_train.shape}')\n",
    "print(f'y_train.shape : {y_train.shape}\\n')\n",
    "\n",
    "print(f'x_val.shape : {x_val.shape}')\n",
    "print(f'y_val.shape : {y_val.shape}\\n')\n",
    "\n",
    "print(f'x_test.shape : {x_test.shape}')\n",
    "print(f'y_test.shape : {y_test.shape}\\n')"
   ]
  },
  {
   "cell_type": "markdown",
   "id": "11c6dada",
   "metadata": {},
   "source": [
    "![](MNIST.png)"
   ]
  },
  {
   "cell_type": "markdown",
   "id": "0d182850",
   "metadata": {},
   "source": [
    "# Keras tuners"
   ]
  },
  {
   "cell_type": "code",
   "execution_count": 9,
   "id": "396ae74e",
   "metadata": {},
   "outputs": [],
   "source": [
    "# Para eliminar los modelos que hayan quedado guardados en memoria\n",
    "tf.keras.backend.clear_session() "
   ]
  },
  {
   "cell_type": "code",
   "execution_count": 11,
   "id": "03c4dcc7",
   "metadata": {},
   "outputs": [],
   "source": [
    "# Definir la función de modelo para Keras Tuner\n",
    "# hp: es el objeto hp que se utiliza para ajustar los hiperparámetros del modelo.\n",
    "def build_model(hp):\n",
    "    \n",
    "    #se crea un modelo secuencial utilizando la biblioteca Keras.\n",
    "    model = keras.Sequential()\n",
    "    \n",
    "    tf.keras.layers.Conv2D(75, (3,3), activation = \"relu\", input_shape= (28, 28, 1)),\n",
    "    tf.keras.layers.MaxPool2D((2,2)),\n",
    "    \n",
    "    # Esta capa transforma los datos de entrada en un vector unidimensional.\n",
    "    model.add(layers.Flatten(input_shape=(28, 28)))\n",
    "    \n",
    "    #se itera sobre un rango determinado por el valor de hiperparámetro num_layers. \n",
    "    #Este hiperparámetro define el número de capas ocultas en el modelo.\n",
    "    for i in range(hp.Int('num_layers', min_value=1, max_value=5)):\n",
    "        \n",
    "        # se agregan capas densas (fully connected) al modelo. \n",
    "        # El número de unidades en cada capa se ajusta utilizando el \n",
    "        # hiperparámetro units con un rango específico definido por min_value, max_value y step.\n",
    "        model.add( layers.Dense( units      = hp.Int('units_' + str(i), min_value=32, max_value=512, step=32),\n",
    "                                 activation = 'relu') )\n",
    "\n",
    "    model.add(layers.Dense(10, activation='softmax'))\n",
    "\n",
    "    model.compile(optimizer='adam',\n",
    "                  loss='sparse_categorical_crossentropy',\n",
    "                  metrics=['accuracy'])\n",
    "\n",
    "\n",
    "    return model"
   ]
  },
  {
   "cell_type": "code",
   "execution_count": 12,
   "id": "c8700a49",
   "metadata": {},
   "outputs": [],
   "source": [
    "# Configurar el optimizador de búsqueda aleatoria\n",
    "tuner = kt.Hyperband(\n",
    "    build_model,\n",
    "    objective='val_accuracy',\n",
    "    max_epochs=3,\n",
    "    factor=3,\n",
    "    project_name='mnist_tuner',\n",
    ")\n",
    "\n"
   ]
  },
  {
   "cell_type": "code",
   "execution_count": 13,
   "id": "ad20a004",
   "metadata": {},
   "outputs": [
    {
     "name": "stdout",
     "output_type": "stream",
     "text": [
      "Trial 6 Complete [00h 00m 38s]\n",
      "val_accuracy: 0.9762048125267029\n",
      "\n",
      "Best val_accuracy So Far: 0.9763052463531494\n",
      "Total elapsed time: 00h 03m 54s\n",
      "INFO:tensorflow:Oracle triggered exit\n"
     ]
    }
   ],
   "source": [
    "# Realizar la búsqueda de hiperparámetros\n",
    "tuner.search(x_train, y_train,\n",
    "             epochs=5,\n",
    "             validation_data=(x_val, y_val))\n",
    "\n",
    "# Obtener la mejor combinación de hiperparámetros\n",
    "best_hps = tuner.get_best_hyperparameters(num_trials=1)[0]"
   ]
  },
  {
   "cell_type": "code",
   "execution_count": 14,
   "id": "e72f9bff",
   "metadata": {},
   "outputs": [],
   "source": [
    "# Construir el modelo con la mejor combinación de hiperparámetros\n",
    "best_model = tuner.hypermodel.build(best_hps)"
   ]
  },
  {
   "cell_type": "code",
   "execution_count": 15,
   "id": "de9d052d",
   "metadata": {},
   "outputs": [
    {
     "name": "stdout",
     "output_type": "stream",
     "text": [
      "Epoch 1/5\n",
      "1564/1564 [==============================] - 15s 9ms/step - loss: 0.2026 - accuracy: 0.9375 - val_loss: 0.1449 - val_accuracy: 0.9564\n",
      "Epoch 2/5\n",
      "1564/1564 [==============================] - 14s 9ms/step - loss: 0.0856 - accuracy: 0.9732 - val_loss: 0.1003 - val_accuracy: 0.9693\n",
      "Epoch 3/5\n",
      "1564/1564 [==============================] - 15s 10ms/step - loss: 0.0588 - accuracy: 0.9815 - val_loss: 0.0822 - val_accuracy: 0.9756\n",
      "Epoch 4/5\n",
      "1564/1564 [==============================] - 13s 8ms/step - loss: 0.0417 - accuracy: 0.9864 - val_loss: 0.0878 - val_accuracy: 0.9769\n",
      "Epoch 5/5\n",
      "1564/1564 [==============================] - 14s 9ms/step - loss: 0.0364 - accuracy: 0.9881 - val_loss: 0.0929 - val_accuracy: 0.9742\n"
     ]
    },
    {
     "data": {
      "text/plain": [
       "<keras.callbacks.History at 0x19159655850>"
      ]
     },
     "execution_count": 15,
     "metadata": {},
     "output_type": "execute_result"
    }
   ],
   "source": [
    "# Entrenar el modelo con la mejor combinación de hiperparámetros\n",
    "best_model.fit(x_train, y_train, epochs=5, validation_data=(x_val, y_val))"
   ]
  },
  {
   "cell_type": "code",
   "execution_count": 16,
   "id": "ab6c44ab",
   "metadata": {},
   "outputs": [
    {
     "name": "stdout",
     "output_type": "stream",
     "text": [
      "Model: \"sequential_1\"\n",
      "_________________________________________________________________\n",
      " Layer (type)                Output Shape              Param #   \n",
      "=================================================================\n",
      " flatten_1 (Flatten)         (None, 784)               0         \n",
      "                                                                 \n",
      " dense_2 (Dense)             (None, 448)               351680    \n",
      "                                                                 \n",
      " dense_3 (Dense)             (None, 256)               114944    \n",
      "                                                                 \n",
      " dense_4 (Dense)             (None, 10)                2570      \n",
      "                                                                 \n",
      "=================================================================\n",
      "Total params: 469,194\n",
      "Trainable params: 469,194\n",
      "Non-trainable params: 0\n",
      "_________________________________________________________________\n"
     ]
    }
   ],
   "source": [
    "best_model.summary()"
   ]
  }
 ],
 "metadata": {
  "kernelspec": {
   "display_name": "Python 3 (ipykernel)",
   "language": "python",
   "name": "python3"
  },
  "language_info": {
   "codemirror_mode": {
    "name": "ipython",
    "version": 3
   },
   "file_extension": ".py",
   "mimetype": "text/x-python",
   "name": "python",
   "nbconvert_exporter": "python",
   "pygments_lexer": "ipython3",
   "version": "3.9.12"
  },
  "toc": {
   "base_numbering": 1,
   "nav_menu": {},
   "number_sections": true,
   "sideBar": true,
   "skip_h1_title": false,
   "title_cell": "Table of Contents",
   "title_sidebar": "Contents",
   "toc_cell": false,
   "toc_position": {},
   "toc_section_display": true,
   "toc_window_display": false
  }
 },
 "nbformat": 4,
 "nbformat_minor": 5
}
